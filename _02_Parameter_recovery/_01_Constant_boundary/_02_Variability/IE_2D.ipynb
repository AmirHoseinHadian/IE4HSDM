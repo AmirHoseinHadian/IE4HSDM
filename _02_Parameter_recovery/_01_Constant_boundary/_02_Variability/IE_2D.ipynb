{
 "cells": [
  {
   "cell_type": "code",
   "execution_count": 1,
   "id": "e52e3847",
   "metadata": {},
   "outputs": [],
   "source": [
    "import numpy as np\n",
    "import pandas as pd\n",
    "from tqdm import tqdm\n",
    "\n",
    "from mpmath import besseljzero\n",
    "from scipy.special import gamma\n",
    "from scipy.special import jv, iv, ive\n",
    "from scipy.optimize import minimize\n",
    "from scipy.optimize import differential_evolution\n",
    "from scipy.interpolate import interp1d\n",
    "\n",
    "from scipy.stats import pearsonr\n",
    "from sklearn.metrics import r2_score\n",
    "\n",
    "import seaborn as sns\n",
    "import matplotlib.pyplot as plt"
   ]
  },
  {
   "cell_type": "code",
   "execution_count": 2,
   "id": "5d89b181",
   "metadata": {},
   "outputs": [],
   "source": [
    "def simulate_HSDM_2D(a, mu, eta, ndt, sigma=1, dt=0.001):\n",
    "    x = np.zeros(mu.shape)\n",
    "    \n",
    "    rt = 0\n",
    "    \n",
    "    mu_t = np.random.normal(mu, eta) \n",
    "    while np.linalg.norm(x, 2) < a(rt):\n",
    "        x += mu_t*dt + sigma*np.sqrt(dt)*np.random.normal(0, 1, mu.shape)\n",
    "        rt += dt\n",
    "    \n",
    "    theta = np.arctan2(x[1], x[0])   \n",
    "    \n",
    "    return ndt+rt, theta"
   ]
  },
  {
   "cell_type": "code",
   "execution_count": 3,
   "id": "337f9f8b",
   "metadata": {},
   "outputs": [],
   "source": [
    "def k(a, da, t, q, sigma=2):\n",
    "    return 0.5 * (q - 0.5*sigma - da(t))\n",
    "\n",
    "def psi(a, da, t, z, tau, q, sigma=2):\n",
    "    kk = k(a, da, t, q, sigma)\n",
    "    \n",
    "    if 2*np.sqrt(a(t)*z)/(sigma*(t-tau))<=700:\n",
    "        term1 = 1./(sigma*(t - tau)) * np.exp(- (a(t) + z)/(sigma*(t-tau)))\n",
    "        term2 = (a(t)/z)**(0.5*(q-sigma)/sigma)\n",
    "        term3 = da(t) - (a(t)/(t-tau)) + kk\n",
    "        term4 = iv(q/sigma-1, 2*np.sqrt(a(t)*z)/(sigma*(t-tau)))\n",
    "        term5 = (np.sqrt(a(t)*z)/(t-tau)) * iv(q/sigma, 2*np.sqrt(a(t)*z)/(sigma*(t-tau)))\n",
    "    else:\n",
    "        term1 = 1./(sigma*(t - tau))\n",
    "        term2 = (a(t)/z)**(0.5*(q-sigma)/sigma)\n",
    "        term3 = da(t) - (a(t)/(t-tau)) + kk\n",
    "        term4 = ive(q/sigma-1, (a(t) + z)/(sigma*(t-tau)))\n",
    "        term5 = (np.sqrt(a(t)*z)/(t-tau)) * ive(q/sigma, (a(t) + z)/(sigma*(t-tau)))\n",
    "    \n",
    "    return term1 * term2 * (term3 * term4 + term5)\n",
    "\n",
    "def ie_bessel_fpt(a, da, q, z, sigma=2, dt=0.02, T_max=2):\n",
    "    g = [0]\n",
    "    T = [0]\n",
    "    g.append(-2*psi(a, da, dt, z, 0, q, sigma))\n",
    "    T.append(dt)\n",
    "    \n",
    "    for n in range(2, int(T_max/dt)+2):\n",
    "        s = -2 * psi(a, da, n*dt, z, 0, q, sigma)\n",
    "\n",
    "        for j in range(1, n):\n",
    "            s += 2 * dt * g[j] * psi(a, da, n*dt, a(j*dt), j*dt, q, sigma)\n",
    "\n",
    "        g.append(s)\n",
    "        T.append(n*dt)\n",
    "        \n",
    "    g = np.asarray(g)\n",
    "    T = np.asarray(T)\n",
    "    \n",
    "    gt = interp1d(T, g)\n",
    "    return gt"
   ]
  },
  {
   "cell_type": "code",
   "execution_count": 4,
   "id": "fd588e9b",
   "metadata": {},
   "outputs": [],
   "source": [
    "def HSDM_2D_likelihood(prms, RT, Theta):\n",
    "    a = lambda t: prms[0]**2\n",
    "    da = lambda t: 0\n",
    "    ndt = prms[1]\n",
    "    \n",
    "    mu = np.array([prms[3], prms[4]])\n",
    "    \n",
    "    eta = prms[2]\n",
    "    eta2 = eta**2\n",
    "    \n",
    "    if max(RT) <= 4.5:\n",
    "        fpt = ie_bessel_fpt(a, da, mu.shape[0], 0.000001, \n",
    "                            dt=0.02, T_max=max(RT))\n",
    "    else:\n",
    "        fpt = ie_bessel_fpt(a, da, mu.shape[0], 0.000001, \n",
    "                            dt=0.02, T_max=4.5)\n",
    "        \n",
    "        fpt_l = ie_bessel_fpt(a, da, mu.shape[0], 0.000001, \n",
    "                              dt=0.1, T_max=max(RT))\n",
    "    \n",
    "    log_lik = 0\n",
    "    for i in range(len(RT)):\n",
    "        rt, theta = RT[i], Theta[i]\n",
    "        if rt - ndt > 0.001:\n",
    "            x1 =  prms[0]*np.cos(theta)\n",
    "            x0 =  prms[0]*np.sin(theta)\n",
    "            fixed = 1/(np.sqrt(eta2 * (rt - ndt) + 1))\n",
    "            exponent0 = -0.5*mu[0]**2/eta2 + 0.5*(x0 * eta2 + mu[0])**2 / (eta2 * (eta2 * (rt - ndt) + 1))\n",
    "            exponent1 = -0.5*mu[1]**2/eta2 + 0.5*(x1 * eta2 + mu[1])**2 / (eta2 * (eta2 * (rt - ndt) + 1))\n",
    "            term1 = fixed * np.exp(exponent0)\n",
    "            term2 = fixed * np.exp(exponent1)\n",
    "            \n",
    "            if rt - ndt <= 4.5:\n",
    "                density = term1 * term2 * fpt(rt - ndt)\n",
    "            else:\n",
    "                density = term1 * term2 * fpt_l(rt - ndt)\n",
    "            \n",
    "            if 0.1**14 < density:\n",
    "                log_lik += -np.log(density)\n",
    "            else:\n",
    "                log_lik += -np.log(0.1**14)\n",
    "        else:\n",
    "            log_lik += -np.log(0.1**14)\n",
    "        \n",
    "    return log_lik"
   ]
  },
  {
   "cell_type": "code",
   "execution_count": 5,
   "id": "60297741",
   "metadata": {},
   "outputs": [],
   "source": [
    "min_threshold = 1\n",
    "max_threshold = 3\n",
    "\n",
    "min_ndt = 0.1\n",
    "max_ndt = 1\n",
    "\n",
    "min_eta = 0.1\n",
    "max_eta = 1\n",
    "\n",
    "min_mu = -2.5\n",
    "max_mu = 2.5\n",
    "\n",
    "file_name = '_Recovery_data/IE_2d_recovery_dvar2.csv'"
   ]
  },
  {
   "cell_type": "code",
   "execution_count": 6,
   "id": "b1dec979",
   "metadata": {
    "scrolled": false
   },
   "outputs": [
    {
     "name": "stderr",
     "output_type": "stream",
     "text": [
      "  0%|                             | 1/250 [03:03<12:40:20, 183.21s/it]"
     ]
    },
    {
     "name": "stdout",
     "output_type": "stream",
     "text": [
      "0.23297922913886027 0.1\n"
     ]
    },
    {
     "name": "stderr",
     "output_type": "stream",
     "text": [
      "\r",
      "  1%|▏                            | 2/250 [09:21<20:31:44, 298.00s/it]"
     ]
    },
    {
     "name": "stdout",
     "output_type": "stream",
     "text": [
      "0.993284758872975 0.6285227801342039\n"
     ]
    },
    {
     "name": "stderr",
     "output_type": "stream",
     "text": [
      "\r",
      "  1%|▎                            | 3/250 [14:25<20:38:25, 300.83s/it]"
     ]
    },
    {
     "name": "stdout",
     "output_type": "stream",
     "text": [
      "0.6829383988210642 0.7738467283425201\n"
     ]
    },
    {
     "name": "stderr",
     "output_type": "stream",
     "text": [
      "\r",
      "  2%|▍                            | 4/250 [16:02<15:03:19, 220.33s/it]"
     ]
    },
    {
     "name": "stdout",
     "output_type": "stream",
     "text": [
      "0.6337746058205784 0.8624981135685428\n"
     ]
    },
    {
     "name": "stderr",
     "output_type": "stream",
     "text": [
      "\r",
      "  2%|▌                            | 5/250 [19:47<15:06:36, 222.03s/it]"
     ]
    },
    {
     "name": "stdout",
     "output_type": "stream",
     "text": [
      "0.649287393673325 0.8206274975142522\n"
     ]
    },
    {
     "name": "stderr",
     "output_type": "stream",
     "text": [
      "\r",
      "  2%|▋                            | 6/250 [25:00<17:09:02, 253.04s/it]"
     ]
    },
    {
     "name": "stdout",
     "output_type": "stream",
     "text": [
      "0.3200549630829362 0.3009744634285158\n"
     ]
    },
    {
     "name": "stderr",
     "output_type": "stream",
     "text": [
      "\r",
      "  3%|▊                            | 7/250 [31:07<19:34:55, 290.11s/it]"
     ]
    },
    {
     "name": "stdout",
     "output_type": "stream",
     "text": [
      "0.6272027451569876 0.7570352314625468\n"
     ]
    },
    {
     "name": "stderr",
     "output_type": "stream",
     "text": [
      "\r",
      "  3%|▉                            | 8/250 [35:42<19:10:19, 285.21s/it]"
     ]
    },
    {
     "name": "stdout",
     "output_type": "stream",
     "text": [
      "0.9421624985236381 0.5939665477190006\n"
     ]
    },
    {
     "name": "stderr",
     "output_type": "stream",
     "text": [
      "\r",
      "  4%|█                            | 9/250 [38:16<16:20:45, 244.17s/it]"
     ]
    },
    {
     "name": "stdout",
     "output_type": "stream",
     "text": [
      "0.17456364888894274 0.1\n"
     ]
    },
    {
     "name": "stderr",
     "output_type": "stream",
     "text": [
      "\r",
      "  4%|█                           | 10/250 [40:11<13:37:47, 204.45s/it]"
     ]
    },
    {
     "name": "stdout",
     "output_type": "stream",
     "text": [
      "0.273124283777592 0.1\n"
     ]
    },
    {
     "name": "stderr",
     "output_type": "stream",
     "text": [
      "\r",
      "  4%|█▏                          | 11/250 [41:22<10:51:42, 163.61s/it]"
     ]
    },
    {
     "name": "stdout",
     "output_type": "stream",
     "text": [
      "0.18187118721895992 0.1\n"
     ]
    },
    {
     "name": "stderr",
     "output_type": "stream",
     "text": [
      "\r",
      "  5%|█▎                          | 12/250 [47:22<14:45:21, 223.20s/it]"
     ]
    },
    {
     "name": "stdout",
     "output_type": "stream",
     "text": [
      "0.5403656240851143 0.5736389048030649\n"
     ]
    },
    {
     "name": "stderr",
     "output_type": "stream",
     "text": [
      "\r",
      "  5%|█▍                          | 13/250 [54:05<18:17:24, 277.82s/it]"
     ]
    },
    {
     "name": "stdout",
     "output_type": "stream",
     "text": [
      "0.9049645176924698 0.8428478316698602\n"
     ]
    },
    {
     "name": "stderr",
     "output_type": "stream",
     "text": [
      "\r",
      "  6%|█▌                          | 14/250 [59:39<19:19:06, 294.69s/it]"
     ]
    },
    {
     "name": "stdout",
     "output_type": "stream",
     "text": [
      "0.3564574636913061 0.5097771148942116\n"
     ]
    },
    {
     "name": "stderr",
     "output_type": "stream",
     "text": [
      "\r",
      "  6%|█▌                        | 15/250 [1:02:59<17:22:52, 266.27s/it]"
     ]
    },
    {
     "name": "stdout",
     "output_type": "stream",
     "text": [
      "0.51993857045027 0.3723373252932199\n"
     ]
    },
    {
     "name": "stderr",
     "output_type": "stream",
     "text": [
      "\r",
      "  6%|█▋                        | 16/250 [1:08:18<18:19:44, 281.98s/it]"
     ]
    },
    {
     "name": "stdout",
     "output_type": "stream",
     "text": [
      "0.19090798968622721 0.39489241377953477\n"
     ]
    },
    {
     "name": "stderr",
     "output_type": "stream",
     "text": [
      "\r",
      "  7%|█▊                        | 17/250 [1:13:14<18:31:39, 286.26s/it]"
     ]
    },
    {
     "name": "stdout",
     "output_type": "stream",
     "text": [
      "0.667127441516077 0.8125602367047016\n"
     ]
    },
    {
     "name": "stderr",
     "output_type": "stream",
     "text": [
      "\r",
      "  7%|█▊                        | 18/250 [1:18:41<19:14:01, 298.45s/it]"
     ]
    },
    {
     "name": "stdout",
     "output_type": "stream",
     "text": [
      "0.3201824982569346 0.21021155523891488\n"
     ]
    },
    {
     "name": "stderr",
     "output_type": "stream",
     "text": [
      "\r",
      "  8%|█▉                        | 19/250 [1:20:48<15:51:09, 247.06s/it]"
     ]
    },
    {
     "name": "stdout",
     "output_type": "stream",
     "text": [
      "0.9721281300274676 0.9593100052314051\n"
     ]
    },
    {
     "name": "stderr",
     "output_type": "stream",
     "text": [
      "\r",
      "  8%|██                        | 20/250 [1:22:02<12:28:05, 195.15s/it]"
     ]
    },
    {
     "name": "stdout",
     "output_type": "stream",
     "text": [
      "0.2989895091062606 0.10018279142299966\n"
     ]
    },
    {
     "name": "stderr",
     "output_type": "stream",
     "text": [
      "\r",
      "  8%|██▏                       | 21/250 [1:26:35<13:54:18, 218.60s/it]"
     ]
    },
    {
     "name": "stdout",
     "output_type": "stream",
     "text": [
      "0.3477141562994925 0.5436784950786027\n"
     ]
    },
    {
     "name": "stderr",
     "output_type": "stream",
     "text": [
      "\r",
      "  9%|██▎                       | 22/250 [1:32:09<16:01:40, 253.07s/it]"
     ]
    },
    {
     "name": "stdout",
     "output_type": "stream",
     "text": [
      "0.18457350412514953 0.20966413328384975\n"
     ]
    },
    {
     "name": "stderr",
     "output_type": "stream",
     "text": [
      "\r",
      "  9%|██▍                       | 23/250 [1:35:14<14:40:45, 232.80s/it]"
     ]
    },
    {
     "name": "stdout",
     "output_type": "stream",
     "text": [
      "0.4131409749269026 0.42311569374088737\n"
     ]
    },
    {
     "name": "stderr",
     "output_type": "stream",
     "text": [
      "\r",
      " 10%|██▍                       | 24/250 [1:36:30<11:38:59, 185.57s/it]"
     ]
    },
    {
     "name": "stdout",
     "output_type": "stream",
     "text": [
      "0.91278588527413 0.8647921286489737\n"
     ]
    },
    {
     "name": "stderr",
     "output_type": "stream",
     "text": [
      "\r",
      " 10%|██▌                       | 25/250 [1:41:12<13:24:29, 214.53s/it]"
     ]
    },
    {
     "name": "stdout",
     "output_type": "stream",
     "text": [
      "0.47610472026465034 0.5995560230339172\n"
     ]
    },
    {
     "name": "stderr",
     "output_type": "stream",
     "text": [
      "\r",
      " 10%|██▋                       | 26/250 [1:43:54<12:21:57, 198.74s/it]"
     ]
    },
    {
     "name": "stdout",
     "output_type": "stream",
     "text": [
      "0.8837675922845517 0.9634573175873676\n"
     ]
    },
    {
     "name": "stderr",
     "output_type": "stream",
     "text": [
      "\r",
      " 11%|██▊                       | 27/250 [1:45:19<10:11:31, 164.54s/it]"
     ]
    },
    {
     "name": "stdout",
     "output_type": "stream",
     "text": [
      "0.7484049062388709 0.7842153403748102\n"
     ]
    },
    {
     "name": "stderr",
     "output_type": "stream",
     "text": [
      "\r",
      " 11%|██▉                       | 28/250 [1:48:39<10:48:57, 175.39s/it]"
     ]
    },
    {
     "name": "stdout",
     "output_type": "stream",
     "text": [
      "0.491339601728275 0.31390538227003306\n"
     ]
    },
    {
     "name": "stderr",
     "output_type": "stream",
     "text": [
      "\r",
      " 12%|██▉                      | 29/250 [2:41:13<65:36:56, 1068.85s/it]"
     ]
    },
    {
     "name": "stdout",
     "output_type": "stream",
     "text": [
      "0.1274488571917063 0.1\n"
     ]
    },
    {
     "name": "stderr",
     "output_type": "stream",
     "text": [
      "\r",
      " 12%|███                      | 30/250 [3:17:32<85:40:51, 1402.05s/it]"
     ]
    },
    {
     "name": "stdout",
     "output_type": "stream",
     "text": [
      "0.1604268186361025 0.16972159183260108\n"
     ]
    },
    {
     "name": "stderr",
     "output_type": "stream",
     "text": [
      "\r",
      " 12%|███                      | 31/250 [3:19:03<61:21:17, 1008.57s/it]"
     ]
    },
    {
     "name": "stdout",
     "output_type": "stream",
     "text": [
      "0.3196316020793168 0.1000559673651707\n"
     ]
    },
    {
     "name": "stderr",
     "output_type": "stream",
     "text": [
      "\r",
      " 13%|███▎                      | 32/250 [3:25:44<50:02:04, 826.26s/it]"
     ]
    },
    {
     "name": "stdout",
     "output_type": "stream",
     "text": [
      "0.4326060818561584 0.48541603652746385\n"
     ]
    },
    {
     "name": "stderr",
     "output_type": "stream",
     "text": [
      "\r",
      " 13%|███▎                     | 33/250 [3:56:01<67:43:45, 1123.62s/it]"
     ]
    },
    {
     "name": "stdout",
     "output_type": "stream",
     "text": [
      "0.466433821321199 0.5521074455757188\n"
     ]
    },
    {
     "name": "stderr",
     "output_type": "stream",
     "text": [
      "\r",
      " 14%|███▍                     | 34/250 [4:29:37<83:28:54, 1391.36s/it]"
     ]
    },
    {
     "name": "stdout",
     "output_type": "stream",
     "text": [
      "0.8862369331369876 0.7758325621059797\n"
     ]
    },
    {
     "name": "stderr",
     "output_type": "stream",
     "text": [
      "\r",
      " 14%|███▌                     | 35/250 [4:47:58<77:53:44, 1304.30s/it]"
     ]
    },
    {
     "name": "stdout",
     "output_type": "stream",
     "text": [
      "0.9260306315845711 0.9009266456336364\n"
     ]
    },
    {
     "name": "stderr",
     "output_type": "stream",
     "text": [
      "\r",
      " 14%|███▋                      | 36/250 [4:50:43<57:12:31, 962.39s/it]"
     ]
    },
    {
     "name": "stdout",
     "output_type": "stream",
     "text": [
      "0.8186014900593842 0.913796106277367\n"
     ]
    },
    {
     "name": "stderr",
     "output_type": "stream",
     "text": [
      "\r",
      " 15%|███▊                      | 37/250 [4:56:07<45:37:03, 771.00s/it]"
     ]
    },
    {
     "name": "stdout",
     "output_type": "stream",
     "text": [
      "0.7859687662218561 0.8554563142601342\n"
     ]
    },
    {
     "name": "stderr",
     "output_type": "stream",
     "text": [
      "\r",
      " 15%|███▉                      | 38/250 [4:59:49<35:41:57, 606.21s/it]"
     ]
    },
    {
     "name": "stdout",
     "output_type": "stream",
     "text": [
      "0.6100470073995226 0.6951696776181278\n"
     ]
    },
    {
     "name": "stderr",
     "output_type": "stream",
     "text": [
      "\r",
      " 16%|████                      | 39/250 [5:04:20<29:38:15, 505.67s/it]"
     ]
    },
    {
     "name": "stdout",
     "output_type": "stream",
     "text": [
      "0.5588288865030975 0.1\n"
     ]
    },
    {
     "name": "stderr",
     "output_type": "stream",
     "text": [
      "\r",
      " 16%|████▏                     | 40/250 [5:13:21<30:06:28, 516.13s/it]"
     ]
    },
    {
     "name": "stdout",
     "output_type": "stream",
     "text": [
      "0.42365866770823696 0.32118956369697454\n"
     ]
    },
    {
     "name": "stderr",
     "output_type": "stream",
     "text": [
      "\r",
      " 16%|████▎                     | 41/250 [5:16:36<24:22:15, 419.79s/it]"
     ]
    },
    {
     "name": "stdout",
     "output_type": "stream",
     "text": [
      "0.549422147980012 0.5183648074921574\n"
     ]
    },
    {
     "name": "stderr",
     "output_type": "stream",
     "text": [
      "\r",
      " 17%|████▎                     | 42/250 [5:21:27<22:02:10, 381.40s/it]"
     ]
    },
    {
     "name": "stdout",
     "output_type": "stream",
     "text": [
      "0.8067116035137305 0.9658216143023417\n"
     ]
    },
    {
     "name": "stderr",
     "output_type": "stream",
     "text": [
      "\r",
      " 17%|████▍                     | 43/250 [5:25:47<19:49:55, 344.91s/it]"
     ]
    },
    {
     "name": "stdout",
     "output_type": "stream",
     "text": [
      "0.29949036561733594 0.30839392023371237\n"
     ]
    },
    {
     "name": "stderr",
     "output_type": "stream",
     "text": [
      "\r",
      " 18%|████▌                     | 44/250 [5:27:41<15:46:12, 275.59s/it]"
     ]
    },
    {
     "name": "stdout",
     "output_type": "stream",
     "text": [
      "0.49282053442136925 0.5384831663745144\n"
     ]
    },
    {
     "name": "stderr",
     "output_type": "stream",
     "text": [
      "\r",
      " 18%|████▋                     | 45/250 [5:49:34<33:24:31, 586.69s/it]"
     ]
    },
    {
     "name": "stdout",
     "output_type": "stream",
     "text": [
      "0.936291243242021 0.9420098097107793\n"
     ]
    },
    {
     "name": "stderr",
     "output_type": "stream",
     "text": [
      "\r",
      " 18%|████▊                     | 46/250 [5:52:35<26:20:49, 464.95s/it]"
     ]
    },
    {
     "name": "stdout",
     "output_type": "stream",
     "text": [
      "0.2043167962581028 0.1\n"
     ]
    },
    {
     "name": "stderr",
     "output_type": "stream",
     "text": [
      "\r",
      " 19%|████▉                     | 47/250 [6:14:31<40:37:29, 720.44s/it]"
     ]
    },
    {
     "name": "stdout",
     "output_type": "stream",
     "text": [
      "0.5774682630215844 0.5501522200901852\n"
     ]
    },
    {
     "name": "stderr",
     "output_type": "stream",
     "text": [
      "\r",
      " 19%|████▉                     | 48/250 [6:18:33<32:22:32, 576.99s/it]"
     ]
    },
    {
     "name": "stdout",
     "output_type": "stream",
     "text": [
      "0.33712855878358505 0.2830668884035793\n"
     ]
    },
    {
     "name": "stderr",
     "output_type": "stream",
     "text": [
      "\r",
      " 20%|█████                     | 49/250 [6:41:25<45:31:04, 815.25s/it]"
     ]
    },
    {
     "name": "stdout",
     "output_type": "stream",
     "text": [
      "0.2377891349507565 0.4873159574196385\n"
     ]
    },
    {
     "name": "stderr",
     "output_type": "stream",
     "text": [
      "\r",
      " 20%|█████▏                    | 50/250 [6:42:32<32:49:25, 590.83s/it]"
     ]
    },
    {
     "name": "stdout",
     "output_type": "stream",
     "text": [
      "0.5215695197029817 0.4824791566733622\n"
     ]
    },
    {
     "name": "stderr",
     "output_type": "stream",
     "text": [
      "\r",
      " 20%|█████▎                    | 51/250 [6:44:11<24:30:47, 443.46s/it]"
     ]
    },
    {
     "name": "stdout",
     "output_type": "stream",
     "text": [
      "0.696886774523665 0.6201755629968699\n"
     ]
    },
    {
     "name": "stderr",
     "output_type": "stream",
     "text": [
      "\r",
      " 21%|█████▍                    | 52/250 [6:55:55<28:41:11, 521.57s/it]"
     ]
    },
    {
     "name": "stdout",
     "output_type": "stream",
     "text": [
      "0.8975050971697 0.9467239802226239\n"
     ]
    },
    {
     "name": "stderr",
     "output_type": "stream",
     "text": [
      "\r",
      " 21%|█████▎                   | 53/250 [7:46:53<70:10:17, 1282.32s/it]"
     ]
    },
    {
     "name": "stdout",
     "output_type": "stream",
     "text": [
      "0.1587374822220743 0.1\n"
     ]
    },
    {
     "name": "stderr",
     "output_type": "stream",
     "text": [
      "\r",
      " 22%|█████▍                   | 54/250 [8:24:14<85:29:03, 1570.12s/it]"
     ]
    },
    {
     "name": "stdout",
     "output_type": "stream",
     "text": [
      "0.5805295565400573 0.5874706192551343\n"
     ]
    },
    {
     "name": "stderr",
     "output_type": "stream",
     "text": [
      "\r",
      " 22%|█████▌                   | 55/250 [8:47:14<81:56:50, 1512.88s/it]"
     ]
    },
    {
     "name": "stdout",
     "output_type": "stream",
     "text": [
      "0.6062447413731293 0.7735424464792144\n"
     ]
    },
    {
     "name": "stderr",
     "output_type": "stream",
     "text": [
      "\r",
      " 22%|█████▌                   | 56/250 [9:03:42<73:02:29, 1355.41s/it]"
     ]
    },
    {
     "name": "stdout",
     "output_type": "stream",
     "text": [
      "0.8276833768942967 0.8123214201650724\n"
     ]
    },
    {
     "name": "stderr",
     "output_type": "stream",
     "text": [
      "\r",
      " 23%|█████▋                   | 57/250 [9:24:51<71:17:19, 1329.74s/it]"
     ]
    },
    {
     "name": "stdout",
     "output_type": "stream",
     "text": [
      "0.8079737322688014 0.7582260734330645\n"
     ]
    },
    {
     "name": "stderr",
     "output_type": "stream",
     "text": [
      "\r",
      " 23%|█████▊                   | 58/250 [9:53:25<77:03:57, 1444.99s/it]"
     ]
    },
    {
     "name": "stdout",
     "output_type": "stream",
     "text": [
      "0.7730561264500392 0.9383676465463926\n"
     ]
    },
    {
     "name": "stderr",
     "output_type": "stream",
     "text": [
      "\r",
      " 24%|█████▋                  | 59/250 [10:11:21<70:46:56, 1334.12s/it]"
     ]
    },
    {
     "name": "stdout",
     "output_type": "stream",
     "text": [
      "0.5079732216772966 0.1\n"
     ]
    },
    {
     "name": "stderr",
     "output_type": "stream",
     "text": [
      "\r",
      " 24%|█████▊                  | 60/250 [10:15:43<53:26:40, 1012.63s/it]"
     ]
    },
    {
     "name": "stdout",
     "output_type": "stream",
     "text": [
      "0.9628682499287284 1.0\n"
     ]
    },
    {
     "name": "stderr",
     "output_type": "stream",
     "text": [
      "\r",
      " 24%|██████                   | 61/250 [10:17:57<39:19:03, 748.91s/it]"
     ]
    },
    {
     "name": "stdout",
     "output_type": "stream",
     "text": [
      "0.6729341366477126 0.6643547007783677\n"
     ]
    },
    {
     "name": "stderr",
     "output_type": "stream",
     "text": [
      "\r",
      " 25%|█████▉                  | 62/250 [11:10:57<77:12:01, 1478.30s/it]"
     ]
    },
    {
     "name": "stdout",
     "output_type": "stream",
     "text": [
      "0.2752197173776411 0.49286990941164255\n"
     ]
    },
    {
     "name": "stderr",
     "output_type": "stream",
     "text": [
      "\r",
      " 25%|██████                  | 63/250 [11:46:49<87:17:09, 1680.37s/it]"
     ]
    },
    {
     "name": "stdout",
     "output_type": "stream",
     "text": [
      "0.6121125520253755 0.6450395657715758\n"
     ]
    },
    {
     "name": "stderr",
     "output_type": "stream",
     "text": [
      "\r",
      " 26%|██████▏                 | 64/250 [11:48:15<62:06:21, 1202.05s/it]"
     ]
    },
    {
     "name": "stdout",
     "output_type": "stream",
     "text": [
      "0.7085895264922495 0.6512399098503222\n"
     ]
    },
    {
     "name": "stderr",
     "output_type": "stream",
     "text": [
      "\r",
      " 26%|██████▌                  | 65/250 [11:55:42<50:08:01, 975.57s/it]"
     ]
    },
    {
     "name": "stdout",
     "output_type": "stream",
     "text": [
      "0.10595501407267088 0.3670346340029464\n"
     ]
    },
    {
     "name": "stderr",
     "output_type": "stream",
     "text": [
      "\r",
      " 26%|██████▌                  | 66/250 [12:02:23<41:03:11, 803.22s/it]"
     ]
    },
    {
     "name": "stdout",
     "output_type": "stream",
     "text": [
      "0.12123208990986606 0.4481733515085017\n"
     ]
    },
    {
     "name": "stderr",
     "output_type": "stream",
     "text": [
      "\r",
      " 27%|██████▋                  | 67/250 [12:05:29<31:24:51, 617.99s/it]"
     ]
    },
    {
     "name": "stdout",
     "output_type": "stream",
     "text": [
      "0.12614057192134767 0.27812594567063953\n"
     ]
    },
    {
     "name": "stderr",
     "output_type": "stream",
     "text": [
      "\r",
      " 27%|██████▊                  | 68/250 [12:10:50<26:44:34, 528.98s/it]"
     ]
    },
    {
     "name": "stdout",
     "output_type": "stream",
     "text": [
      "0.1528389549497786 0.33805204741166023\n"
     ]
    },
    {
     "name": "stderr",
     "output_type": "stream",
     "text": [
      "\r",
      " 28%|██████▉                  | 69/250 [12:13:45<21:15:02, 422.67s/it]"
     ]
    },
    {
     "name": "stdout",
     "output_type": "stream",
     "text": [
      "0.7238170423480134 0.1\n"
     ]
    },
    {
     "name": "stderr",
     "output_type": "stream",
     "text": [
      "\r",
      " 28%|███████                  | 70/250 [12:15:39<16:30:25, 330.14s/it]"
     ]
    },
    {
     "name": "stdout",
     "output_type": "stream",
     "text": [
      "0.42080128333515365 0.4213418921415675\n"
     ]
    },
    {
     "name": "stderr",
     "output_type": "stream",
     "text": [
      "\r",
      " 28%|███████                  | 71/250 [12:19:38<15:03:50, 302.96s/it]"
     ]
    },
    {
     "name": "stdout",
     "output_type": "stream",
     "text": [
      "0.25371470960077824 0.1115323168229939\n"
     ]
    },
    {
     "name": "stderr",
     "output_type": "stream",
     "text": [
      "\r",
      " 29%|███████▏                 | 72/250 [12:20:53<11:35:23, 234.40s/it]"
     ]
    },
    {
     "name": "stdout",
     "output_type": "stream",
     "text": [
      "0.5663643118227356 0.7077312605531294\n"
     ]
    },
    {
     "name": "stderr",
     "output_type": "stream",
     "text": [
      "\r",
      " 29%|███████▎                 | 73/250 [12:27:21<13:47:29, 280.50s/it]"
     ]
    },
    {
     "name": "stdout",
     "output_type": "stream",
     "text": [
      "0.2825819613649837 0.4117496291789618\n"
     ]
    },
    {
     "name": "stderr",
     "output_type": "stream",
     "text": [
      "\r",
      " 30%|███████▍                 | 74/250 [12:28:30<10:36:58, 217.15s/it]"
     ]
    },
    {
     "name": "stdout",
     "output_type": "stream",
     "text": [
      "0.32536261913136066 0.2477654015842913\n"
     ]
    },
    {
     "name": "stderr",
     "output_type": "stream",
     "text": [
      "\r",
      " 30%|███████▌                 | 75/250 [12:32:39<11:00:39, 226.51s/it]"
     ]
    },
    {
     "name": "stdout",
     "output_type": "stream",
     "text": [
      "0.3173282446862941 1.0\n"
     ]
    },
    {
     "name": "stderr",
     "output_type": "stream",
     "text": [
      "\r",
      " 30%|███████▉                  | 76/250 [12:34:02<8:52:34, 183.65s/it]"
     ]
    },
    {
     "name": "stdout",
     "output_type": "stream",
     "text": [
      "0.9999686969331812 0.9073442140915714\n"
     ]
    },
    {
     "name": "stderr",
     "output_type": "stream",
     "text": [
      "\r",
      " 31%|███████▋                 | 77/250 [12:40:12<11:30:12, 239.38s/it]"
     ]
    },
    {
     "name": "stdout",
     "output_type": "stream",
     "text": [
      "0.2662306953704424 0.1\n"
     ]
    },
    {
     "name": "stderr",
     "output_type": "stream",
     "text": [
      "\r",
      " 31%|████████                  | 78/250 [12:41:40<9:16:27, 194.11s/it]"
     ]
    },
    {
     "name": "stdout",
     "output_type": "stream",
     "text": [
      "0.8066302198589733 1.0\n"
     ]
    },
    {
     "name": "stderr",
     "output_type": "stream",
     "text": [
      "\r",
      " 32%|███████▉                 | 79/250 [12:47:23<11:20:00, 238.60s/it]"
     ]
    },
    {
     "name": "stdout",
     "output_type": "stream",
     "text": [
      "0.8245953990538982 0.8401535185647858\n"
     ]
    },
    {
     "name": "stderr",
     "output_type": "stream",
     "text": [
      "\r",
      " 32%|████████                 | 80/250 [12:51:51<11:41:13, 247.49s/it]"
     ]
    },
    {
     "name": "stdout",
     "output_type": "stream",
     "text": [
      "0.17425523322603245 0.23287353900386282\n"
     ]
    },
    {
     "name": "stderr",
     "output_type": "stream",
     "text": [
      "\r",
      " 32%|████████                 | 81/250 [12:56:49<12:20:19, 262.84s/it]"
     ]
    },
    {
     "name": "stdout",
     "output_type": "stream",
     "text": [
      "0.4434325320483131 0.3759434805984261\n"
     ]
    },
    {
     "name": "stderr",
     "output_type": "stream",
     "text": [
      "\r",
      " 33%|████████▏                | 82/250 [13:01:39<12:38:46, 270.99s/it]"
     ]
    },
    {
     "name": "stdout",
     "output_type": "stream",
     "text": [
      "0.552334354503427 0.46943661533165304\n"
     ]
    },
    {
     "name": "stderr",
     "output_type": "stream",
     "text": [
      "\r",
      " 33%|████████▎                | 83/250 [13:06:16<12:38:41, 272.58s/it]"
     ]
    },
    {
     "name": "stdout",
     "output_type": "stream",
     "text": [
      "0.24115608755084397 0.3815452663689529\n"
     ]
    },
    {
     "name": "stderr",
     "output_type": "stream",
     "text": [
      "\r",
      " 34%|████████▍                | 84/250 [13:11:41<13:17:56, 288.41s/it]"
     ]
    },
    {
     "name": "stdout",
     "output_type": "stream",
     "text": [
      "0.9935968994434403 0.7715171575217055\n"
     ]
    },
    {
     "name": "stderr",
     "output_type": "stream",
     "text": [
      "\r",
      " 34%|████████▌                | 85/250 [13:13:31<10:45:34, 234.75s/it]"
     ]
    },
    {
     "name": "stdout",
     "output_type": "stream",
     "text": [
      "0.13237393379002196 0.1\n"
     ]
    },
    {
     "name": "stderr",
     "output_type": "stream",
     "text": [
      "\r",
      " 34%|████████▉                 | 86/250 [13:14:40<8:26:19, 185.24s/it]"
     ]
    },
    {
     "name": "stdout",
     "output_type": "stream",
     "text": [
      "0.9469340718061818 0.5115859822974353\n"
     ]
    },
    {
     "name": "stderr",
     "output_type": "stream",
     "text": [
      "\r",
      " 35%|████████▋                | 87/250 [13:20:00<10:12:51, 225.59s/it]"
     ]
    },
    {
     "name": "stdout",
     "output_type": "stream",
     "text": [
      "0.6136934603169953 0.72121006387752\n"
     ]
    },
    {
     "name": "stderr",
     "output_type": "stream",
     "text": [
      "\r",
      " 35%|█████████▏                | 88/250 [13:20:56<7:51:19, 174.56s/it]"
     ]
    },
    {
     "name": "stdout",
     "output_type": "stream",
     "text": [
      "0.5667954317256786 0.8616589796460689\n"
     ]
    },
    {
     "name": "stderr",
     "output_type": "stream",
     "text": [
      "\r",
      " 36%|█████████▎                | 89/250 [13:25:30<9:08:46, 204.51s/it]"
     ]
    },
    {
     "name": "stdout",
     "output_type": "stream",
     "text": [
      "0.7601201936018281 0.7912245697291217\n"
     ]
    },
    {
     "name": "stderr",
     "output_type": "stream",
     "text": [
      "\r",
      " 36%|█████████                | 90/250 [13:36:50<15:25:59, 347.25s/it]"
     ]
    },
    {
     "name": "stdout",
     "output_type": "stream",
     "text": [
      "0.9045256143989673 0.7146996746175545\n"
     ]
    },
    {
     "name": "stderr",
     "output_type": "stream",
     "text": [
      "\r",
      " 36%|█████████                | 91/250 [13:38:17<11:53:27, 269.23s/it]"
     ]
    },
    {
     "name": "stdout",
     "output_type": "stream",
     "text": [
      "0.21511594315650845 0.3056922756041346\n"
     ]
    },
    {
     "name": "stderr",
     "output_type": "stream",
     "text": [
      "\r",
      " 37%|█████████▏               | 92/250 [13:42:34<11:38:49, 265.38s/it]"
     ]
    },
    {
     "name": "stdout",
     "output_type": "stream",
     "text": [
      "0.8975019725201718 1.0\n"
     ]
    },
    {
     "name": "stderr",
     "output_type": "stream",
     "text": [
      "\r",
      " 37%|█████████▎               | 93/250 [13:45:44<10:35:20, 242.81s/it]"
     ]
    },
    {
     "name": "stdout",
     "output_type": "stream",
     "text": [
      "0.37313340255531785 0.10000246051549208\n"
     ]
    },
    {
     "name": "stderr",
     "output_type": "stream",
     "text": [
      "\r",
      " 38%|█████████▊                | 94/250 [13:47:15<8:33:07, 197.36s/it]"
     ]
    },
    {
     "name": "stdout",
     "output_type": "stream",
     "text": [
      "0.5012794501674623 0.35403608645451357\n"
     ]
    },
    {
     "name": "stderr",
     "output_type": "stream",
     "text": [
      "\r",
      " 38%|█████████▉                | 95/250 [13:52:12<9:46:51, 227.17s/it]"
     ]
    },
    {
     "name": "stdout",
     "output_type": "stream",
     "text": [
      "0.1276167869436756 0.1\n"
     ]
    },
    {
     "name": "stderr",
     "output_type": "stream",
     "text": [
      "\r",
      " 38%|█████████▌               | 96/250 [13:57:01<10:30:40, 245.72s/it]"
     ]
    },
    {
     "name": "stdout",
     "output_type": "stream",
     "text": [
      "0.5320188737964328 0.5895624854092321\n"
     ]
    },
    {
     "name": "stderr",
     "output_type": "stream",
     "text": [
      "\r",
      " 39%|█████████▋               | 97/250 [14:03:15<12:04:49, 284.25s/it]"
     ]
    },
    {
     "name": "stdout",
     "output_type": "stream",
     "text": [
      "0.8948364813732421 1.0\n"
     ]
    },
    {
     "name": "stderr",
     "output_type": "stream",
     "text": [
      "\r",
      " 39%|█████████▊               | 98/250 [14:07:41<11:46:09, 278.75s/it]"
     ]
    },
    {
     "name": "stdout",
     "output_type": "stream",
     "text": [
      "0.9888104823678572 0.9658604943075603\n"
     ]
    },
    {
     "name": "stderr",
     "output_type": "stream",
     "text": [
      "\r",
      " 40%|██████████▎               | 99/250 [14:09:19<9:24:35, 224.34s/it]"
     ]
    },
    {
     "name": "stdout",
     "output_type": "stream",
     "text": [
      "0.4708196081026234 0.4315718995740196\n"
     ]
    },
    {
     "name": "stderr",
     "output_type": "stream",
     "text": [
      "\r",
      " 40%|█████████▌              | 100/250 [14:14:53<10:43:41, 257.47s/it]"
     ]
    },
    {
     "name": "stdout",
     "output_type": "stream",
     "text": [
      "0.6920050745875332 0.6545485117868524\n"
     ]
    },
    {
     "name": "stderr",
     "output_type": "stream",
     "text": [
      "\r",
      " 40%|█████████▋              | 101/250 [14:20:27<11:35:51, 280.21s/it]"
     ]
    },
    {
     "name": "stdout",
     "output_type": "stream",
     "text": [
      "0.6817435836598994 0.6805017343043117\n"
     ]
    },
    {
     "name": "stderr",
     "output_type": "stream",
     "text": [
      "\r",
      " 41%|█████████▊              | 102/250 [14:26:33<12:34:49, 306.01s/it]"
     ]
    },
    {
     "name": "stdout",
     "output_type": "stream",
     "text": [
      "0.6694978222113328 0.53392402326803\n"
     ]
    },
    {
     "name": "stderr",
     "output_type": "stream",
     "text": [
      "\r",
      " 41%|█████████▉              | 103/250 [14:32:12<12:53:50, 315.86s/it]"
     ]
    },
    {
     "name": "stdout",
     "output_type": "stream",
     "text": [
      "0.20056715030534475 0.1\n"
     ]
    },
    {
     "name": "stderr",
     "output_type": "stream",
     "text": [
      "\r",
      " 42%|█████████▉              | 104/250 [14:38:13<13:21:40, 329.45s/it]"
     ]
    },
    {
     "name": "stdout",
     "output_type": "stream",
     "text": [
      "0.1077553138799328 0.10000139913165786\n"
     ]
    },
    {
     "name": "stderr",
     "output_type": "stream",
     "text": [
      "\r",
      " 42%|██████████▌              | 105/250 [14:38:57<9:49:29, 243.93s/it]"
     ]
    },
    {
     "name": "stdout",
     "output_type": "stream",
     "text": [
      "0.11543640327803278 0.10012824577855256\n"
     ]
    },
    {
     "name": "stderr",
     "output_type": "stream",
     "text": [
      "\r",
      " 42%|██████████▌              | 106/250 [14:41:29<8:39:02, 216.27s/it]"
     ]
    },
    {
     "name": "stdout",
     "output_type": "stream",
     "text": [
      "0.49175352681817003 0.17683550243614754\n"
     ]
    },
    {
     "name": "stderr",
     "output_type": "stream",
     "text": [
      "\r",
      " 43%|██████████▋              | 107/250 [14:46:54<9:53:10, 248.89s/it]"
     ]
    },
    {
     "name": "stdout",
     "output_type": "stream",
     "text": [
      "0.5350229108804767 0.4914374349711567\n"
     ]
    },
    {
     "name": "stderr",
     "output_type": "stream",
     "text": [
      "\r",
      " 43%|██████████▎             | 108/250 [14:53:19<11:25:54, 289.82s/it]"
     ]
    },
    {
     "name": "stdout",
     "output_type": "stream",
     "text": [
      "0.5381735439883999 0.6671579922182782\n"
     ]
    },
    {
     "name": "stderr",
     "output_type": "stream",
     "text": [
      "\r",
      " 44%|██████████▍             | 109/250 [14:59:05<12:00:17, 306.51s/it]"
     ]
    },
    {
     "name": "stdout",
     "output_type": "stream",
     "text": [
      "0.9344348989027434 0.9540594782733548\n"
     ]
    },
    {
     "name": "stderr",
     "output_type": "stream",
     "text": [
      "\r",
      " 44%|██████████▌             | 110/250 [15:02:01<10:23:57, 267.41s/it]"
     ]
    },
    {
     "name": "stdout",
     "output_type": "stream",
     "text": [
      "0.7839511718107671 0.7150843472101976\n"
     ]
    },
    {
     "name": "stderr",
     "output_type": "stream",
     "text": [
      "\r",
      " 44%|██████████▋             | 111/250 [15:10:55<13:24:43, 347.37s/it]"
     ]
    },
    {
     "name": "stdout",
     "output_type": "stream",
     "text": [
      "0.3445981915367106 0.20698720510000224\n"
     ]
    },
    {
     "name": "stderr",
     "output_type": "stream",
     "text": [
      "\r",
      " 45%|██████████▊             | 112/250 [15:18:06<14:16:28, 372.38s/it]"
     ]
    },
    {
     "name": "stdout",
     "output_type": "stream",
     "text": [
      "0.41640112200964446 0.32273481334761106\n"
     ]
    },
    {
     "name": "stderr",
     "output_type": "stream",
     "text": [
      "\r",
      " 45%|██████████▊             | 113/250 [15:27:08<16:06:28, 423.28s/it]"
     ]
    },
    {
     "name": "stdout",
     "output_type": "stream",
     "text": [
      "0.12264134838103168 0.1\n"
     ]
    },
    {
     "name": "stderr",
     "output_type": "stream",
     "text": [
      "\r",
      " 46%|██████████▉             | 114/250 [15:32:54<15:07:30, 400.37s/it]"
     ]
    },
    {
     "name": "stdout",
     "output_type": "stream",
     "text": [
      "0.6554509426799647 1.0\n"
     ]
    },
    {
     "name": "stderr",
     "output_type": "stream",
     "text": [
      "\r",
      " 46%|███████████             | 115/250 [15:41:59<16:37:57, 443.54s/it]"
     ]
    },
    {
     "name": "stdout",
     "output_type": "stream",
     "text": [
      "0.6223742342031345 0.5482734707395905\n"
     ]
    },
    {
     "name": "stderr",
     "output_type": "stream",
     "text": [
      "\r",
      " 46%|███████████▏            | 116/250 [15:44:15<13:04:44, 351.38s/it]"
     ]
    },
    {
     "name": "stdout",
     "output_type": "stream",
     "text": [
      "0.9483843710473173 0.581224179451503\n"
     ]
    },
    {
     "name": "stderr",
     "output_type": "stream",
     "text": [
      "\r",
      " 47%|███████████▏            | 117/250 [15:51:39<14:00:44, 379.28s/it]"
     ]
    },
    {
     "name": "stdout",
     "output_type": "stream",
     "text": [
      "0.765272165126242 0.8214410435883304\n"
     ]
    },
    {
     "name": "stderr",
     "output_type": "stream",
     "text": [
      "\r",
      " 47%|███████████▎            | 118/250 [15:57:13<13:24:06, 365.51s/it]"
     ]
    },
    {
     "name": "stdout",
     "output_type": "stream",
     "text": [
      "0.897616535176696 0.6622533549483327\n"
     ]
    },
    {
     "name": "stderr",
     "output_type": "stream",
     "text": [
      "\r",
      " 48%|███████████▍            | 119/250 [16:03:09<13:11:38, 362.58s/it]"
     ]
    },
    {
     "name": "stdout",
     "output_type": "stream",
     "text": [
      "0.7042891544627471 0.9018150447060548\n"
     ]
    },
    {
     "name": "stderr",
     "output_type": "stream",
     "text": [
      "\r",
      " 48%|███████████▌            | 120/250 [16:08:38<12:43:42, 352.48s/it]"
     ]
    },
    {
     "name": "stdout",
     "output_type": "stream",
     "text": [
      "0.4003243502200644 0.37002454457846556\n"
     ]
    },
    {
     "name": "stderr",
     "output_type": "stream",
     "text": [
      "\r",
      " 48%|███████████▌            | 121/250 [16:23:22<18:21:10, 512.18s/it]"
     ]
    },
    {
     "name": "stdout",
     "output_type": "stream",
     "text": [
      "0.8312360172071364 0.8673524507847424\n"
     ]
    },
    {
     "name": "stderr",
     "output_type": "stream",
     "text": [
      "\r",
      " 49%|███████████▋            | 122/250 [16:26:41<14:52:09, 418.20s/it]"
     ]
    },
    {
     "name": "stdout",
     "output_type": "stream",
     "text": [
      "0.6101568636583278 0.7135763623368656\n"
     ]
    },
    {
     "name": "stderr",
     "output_type": "stream",
     "text": [
      "\r",
      " 49%|███████████▊            | 123/250 [16:34:15<15:07:53, 428.93s/it]"
     ]
    },
    {
     "name": "stdout",
     "output_type": "stream",
     "text": [
      "0.9619968928220543 0.844585833739283\n"
     ]
    },
    {
     "name": "stderr",
     "output_type": "stream",
     "text": [
      "\r",
      " 50%|███████████▉            | 124/250 [16:41:36<15:08:22, 432.56s/it]"
     ]
    },
    {
     "name": "stdout",
     "output_type": "stream",
     "text": [
      "0.32193569377911496 0.3703119189407659\n"
     ]
    },
    {
     "name": "stderr",
     "output_type": "stream",
     "text": [
      "\r",
      " 50%|████████████            | 125/250 [16:43:05<11:26:18, 329.43s/it]"
     ]
    },
    {
     "name": "stdout",
     "output_type": "stream",
     "text": [
      "0.7390154888972287 0.7359010551654408\n"
     ]
    },
    {
     "name": "stderr",
     "output_type": "stream",
     "text": [
      "\r",
      " 50%|████████████            | 126/250 [16:50:47<12:43:04, 369.23s/it]"
     ]
    },
    {
     "name": "stdout",
     "output_type": "stream",
     "text": [
      "0.7890827863442443 1.0\n"
     ]
    },
    {
     "name": "stderr",
     "output_type": "stream",
     "text": [
      "\r",
      " 51%|████████████▋            | 127/250 [16:52:25<9:50:05, 287.85s/it]"
     ]
    },
    {
     "name": "stdout",
     "output_type": "stream",
     "text": [
      "0.6297730939799895 0.4855485332355976\n"
     ]
    },
    {
     "name": "stderr",
     "output_type": "stream",
     "text": [
      "\r",
      " 51%|████████████▊            | 128/250 [16:57:02<9:38:35, 284.55s/it]"
     ]
    },
    {
     "name": "stdout",
     "output_type": "stream",
     "text": [
      "0.15608152887759852 0.1\n"
     ]
    },
    {
     "name": "stderr",
     "output_type": "stream",
     "text": [
      "\r",
      " 52%|████████████▉            | 129/250 [17:01:31<9:24:29, 279.91s/it]"
     ]
    },
    {
     "name": "stdout",
     "output_type": "stream",
     "text": [
      "0.15724824503938734 0.1\n"
     ]
    },
    {
     "name": "stderr",
     "output_type": "stream",
     "text": [
      "\r",
      " 52%|████████████▍           | 130/250 [17:08:51<10:55:45, 327.88s/it]"
     ]
    },
    {
     "name": "stdout",
     "output_type": "stream",
     "text": [
      "0.6227850928478869 0.565828424032695\n"
     ]
    },
    {
     "name": "stderr",
     "output_type": "stream",
     "text": [
      "\r",
      " 52%|████████████▌           | 131/250 [17:17:48<12:54:34, 390.54s/it]"
     ]
    },
    {
     "name": "stdout",
     "output_type": "stream",
     "text": [
      "0.8084102342029487 0.8504720935027558\n"
     ]
    },
    {
     "name": "stderr",
     "output_type": "stream",
     "text": [
      "\r",
      " 53%|████████████▋           | 132/250 [17:21:09<10:56:15, 333.69s/it]"
     ]
    },
    {
     "name": "stdout",
     "output_type": "stream",
     "text": [
      "0.21647721955823698 0.2540826646704978\n"
     ]
    },
    {
     "name": "stderr",
     "output_type": "stream",
     "text": [
      "\r",
      " 53%|████████████▊           | 133/250 [17:28:54<12:07:29, 373.07s/it]"
     ]
    },
    {
     "name": "stdout",
     "output_type": "stream",
     "text": [
      "0.9694523180834105 1.0\n"
     ]
    },
    {
     "name": "stderr",
     "output_type": "stream",
     "text": [
      "\r",
      " 54%|█████████████▍           | 134/250 [17:31:36<9:59:06, 309.88s/it]"
     ]
    },
    {
     "name": "stdout",
     "output_type": "stream",
     "text": [
      "0.5259873910977775 0.7120676125497082\n"
     ]
    },
    {
     "name": "stderr",
     "output_type": "stream",
     "text": [
      "\r",
      " 54%|████████████▉           | 135/250 [17:37:25<10:16:16, 321.54s/it]"
     ]
    },
    {
     "name": "stdout",
     "output_type": "stream",
     "text": [
      "0.6680792614066369 0.805835463800372\n"
     ]
    },
    {
     "name": "stderr",
     "output_type": "stream",
     "text": [
      "\r",
      " 54%|█████████████           | 136/250 [17:44:02<10:53:54, 344.17s/it]"
     ]
    },
    {
     "name": "stdout",
     "output_type": "stream",
     "text": [
      "0.2928955147461405 0.38413582284174486\n"
     ]
    },
    {
     "name": "stderr",
     "output_type": "stream",
     "text": [
      "\r",
      " 55%|█████████████▏          | 137/250 [17:51:50<11:58:13, 381.36s/it]"
     ]
    },
    {
     "name": "stdout",
     "output_type": "stream",
     "text": [
      "0.5679083671950951 0.6834732136910026\n"
     ]
    },
    {
     "name": "stderr",
     "output_type": "stream",
     "text": [
      "\r",
      " 55%|█████████████▏          | 138/250 [17:56:36<10:58:48, 352.93s/it]"
     ]
    },
    {
     "name": "stdout",
     "output_type": "stream",
     "text": [
      "0.6080270530145903 0.7114810549786275\n"
     ]
    },
    {
     "name": "stderr",
     "output_type": "stream",
     "text": [
      "\r",
      " 56%|█████████████▉           | 139/250 [17:58:56<8:54:21, 288.84s/it]"
     ]
    },
    {
     "name": "stdout",
     "output_type": "stream",
     "text": [
      "0.29680262273190006 0.2295816684971844\n"
     ]
    },
    {
     "name": "stderr",
     "output_type": "stream",
     "text": [
      "\r",
      " 56%|██████████████           | 140/250 [18:04:18<9:07:47, 298.79s/it]"
     ]
    },
    {
     "name": "stdout",
     "output_type": "stream",
     "text": [
      "0.5463234030712879 0.657802597738861\n"
     ]
    },
    {
     "name": "stderr",
     "output_type": "stream",
     "text": [
      "\r",
      " 56%|██████████████           | 141/250 [18:09:53<9:22:30, 309.64s/it]"
     ]
    },
    {
     "name": "stdout",
     "output_type": "stream",
     "text": [
      "0.5491016391107298 0.7683878696291665\n"
     ]
    },
    {
     "name": "stderr",
     "output_type": "stream",
     "text": [
      "\r",
      " 57%|██████████████▏          | 142/250 [18:10:38<6:54:35, 230.32s/it]"
     ]
    },
    {
     "name": "stdout",
     "output_type": "stream",
     "text": [
      "0.25058735932168713 0.13459600036751918\n"
     ]
    },
    {
     "name": "stderr",
     "output_type": "stream",
     "text": [
      "\r",
      " 57%|██████████████▎          | 143/250 [18:16:31<7:56:26, 267.17s/it]"
     ]
    },
    {
     "name": "stdout",
     "output_type": "stream",
     "text": [
      "0.550785774941955 0.6580856703560789\n"
     ]
    },
    {
     "name": "stderr",
     "output_type": "stream",
     "text": [
      "\r",
      " 58%|██████████████▍          | 144/250 [18:18:07<6:21:02, 215.69s/it]"
     ]
    },
    {
     "name": "stdout",
     "output_type": "stream",
     "text": [
      "0.861400593110513 0.6963580325937981\n"
     ]
    },
    {
     "name": "stderr",
     "output_type": "stream",
     "text": [
      "\r",
      " 58%|██████████████▍          | 145/250 [18:20:46<5:48:06, 198.92s/it]"
     ]
    },
    {
     "name": "stdout",
     "output_type": "stream",
     "text": [
      "0.4475561656785578 0.23824400913510713\n"
     ]
    },
    {
     "name": "stderr",
     "output_type": "stream",
     "text": [
      "\r",
      " 58%|██████████████▌          | 146/250 [18:26:55<7:12:52, 249.74s/it]"
     ]
    },
    {
     "name": "stdout",
     "output_type": "stream",
     "text": [
      "0.8187236506970056 0.7979478077527666\n"
     ]
    },
    {
     "name": "stderr",
     "output_type": "stream",
     "text": [
      "\r",
      " 59%|██████████████▋          | 147/250 [18:32:31<7:53:17, 275.70s/it]"
     ]
    },
    {
     "name": "stdout",
     "output_type": "stream",
     "text": [
      "0.9176298884088679 0.9449615788101783\n"
     ]
    },
    {
     "name": "stderr",
     "output_type": "stream",
     "text": [
      "\r",
      " 59%|██████████████▊          | 148/250 [18:33:22<5:53:57, 208.21s/it]"
     ]
    },
    {
     "name": "stdout",
     "output_type": "stream",
     "text": [
      "0.2301104806479821 0.1\n"
     ]
    },
    {
     "name": "stderr",
     "output_type": "stream",
     "text": [
      "\r",
      " 60%|██████████████▉          | 149/250 [18:35:05<4:57:18, 176.62s/it]"
     ]
    },
    {
     "name": "stdout",
     "output_type": "stream",
     "text": [
      "0.15602508789256844 0.1\n"
     ]
    },
    {
     "name": "stderr",
     "output_type": "stream",
     "text": [
      "\r",
      " 60%|███████████████          | 150/250 [18:42:38<7:12:40, 259.60s/it]"
     ]
    },
    {
     "name": "stdout",
     "output_type": "stream",
     "text": [
      "0.3903398767845528 0.2967125385439605\n"
     ]
    },
    {
     "name": "stderr",
     "output_type": "stream",
     "text": [
      "\r",
      " 60%|███████████████          | 151/250 [18:52:11<9:43:43, 353.77s/it]"
     ]
    },
    {
     "name": "stdout",
     "output_type": "stream",
     "text": [
      "0.17938830690472465 0.39083941086550866\n"
     ]
    },
    {
     "name": "stderr",
     "output_type": "stream",
     "text": [
      "\r",
      " 61%|██████████████▌         | 152/250 [18:59:55<10:31:41, 386.75s/it]"
     ]
    },
    {
     "name": "stdout",
     "output_type": "stream",
     "text": [
      "0.5798825815862707 0.4579042005309673\n"
     ]
    },
    {
     "name": "stderr",
     "output_type": "stream",
     "text": [
      "\r",
      " 61%|██████████████▋         | 153/250 [19:07:15<10:51:07, 402.76s/it]"
     ]
    },
    {
     "name": "stdout",
     "output_type": "stream",
     "text": [
      "0.7801090601658236 0.9717078841853898\n"
     ]
    },
    {
     "name": "stderr",
     "output_type": "stream",
     "text": [
      "\r",
      " 62%|███████████████▍         | 154/250 [19:09:47<8:43:56, 327.46s/it]"
     ]
    },
    {
     "name": "stdout",
     "output_type": "stream",
     "text": [
      "0.26603053872627647 0.1\n"
     ]
    },
    {
     "name": "stderr",
     "output_type": "stream",
     "text": [
      "\r",
      " 62%|██████████████▉         | 155/250 [19:20:16<11:01:36, 417.86s/it]"
     ]
    },
    {
     "name": "stdout",
     "output_type": "stream",
     "text": [
      "0.9921223357883595 1.0\n"
     ]
    },
    {
     "name": "stderr",
     "output_type": "stream",
     "text": [
      "\r",
      " 62%|██████████████▉         | 156/250 [19:27:43<11:08:24, 426.64s/it]"
     ]
    },
    {
     "name": "stdout",
     "output_type": "stream",
     "text": [
      "0.9847747785174813 0.7797186526818445\n"
     ]
    },
    {
     "name": "stderr",
     "output_type": "stream",
     "text": [
      "\r",
      " 63%|███████████████         | 157/250 [19:35:06<11:08:56, 431.57s/it]"
     ]
    },
    {
     "name": "stdout",
     "output_type": "stream",
     "text": [
      "0.6668903583454574 0.8621295987049058\n"
     ]
    },
    {
     "name": "stderr",
     "output_type": "stream",
     "text": [
      "\r",
      " 63%|███████████████▊         | 158/250 [19:37:27<8:48:11, 344.47s/it]"
     ]
    },
    {
     "name": "stdout",
     "output_type": "stream",
     "text": [
      "0.1282780672051961 0.1\n"
     ]
    },
    {
     "name": "stderr",
     "output_type": "stream",
     "text": [
      "\r",
      " 64%|███████████████▉         | 159/250 [19:40:09<7:19:24, 289.72s/it]"
     ]
    },
    {
     "name": "stdout",
     "output_type": "stream",
     "text": [
      "0.13909203127521114 0.40943619143366394\n"
     ]
    },
    {
     "name": "stderr",
     "output_type": "stream",
     "text": [
      "\r",
      " 64%|████████████████         | 160/250 [19:41:46<5:47:40, 231.78s/it]"
     ]
    },
    {
     "name": "stdout",
     "output_type": "stream",
     "text": [
      "0.6480526169505715 0.5208902155034121\n"
     ]
    },
    {
     "name": "stderr",
     "output_type": "stream",
     "text": [
      "\r",
      " 64%|████████████████         | 161/250 [19:48:14<6:53:22, 278.68s/it]"
     ]
    },
    {
     "name": "stdout",
     "output_type": "stream",
     "text": [
      "0.7347773879749404 0.5911333605461969\n"
     ]
    },
    {
     "name": "stderr",
     "output_type": "stream",
     "text": [
      "\r",
      " 65%|████████████████▏        | 162/250 [19:49:02<5:07:16, 209.51s/it]"
     ]
    },
    {
     "name": "stdout",
     "output_type": "stream",
     "text": [
      "0.42776355753820755 0.49465942172079724\n"
     ]
    },
    {
     "name": "stderr",
     "output_type": "stream",
     "text": [
      "\r",
      " 65%|████████████████▎        | 163/250 [19:56:46<6:54:22, 285.77s/it]"
     ]
    },
    {
     "name": "stdout",
     "output_type": "stream",
     "text": [
      "0.6029378769224981 0.4781772137844115\n"
     ]
    },
    {
     "name": "stderr",
     "output_type": "stream",
     "text": [
      "\r",
      " 66%|████████████████▍        | 164/250 [20:00:33<6:24:20, 268.15s/it]"
     ]
    },
    {
     "name": "stdout",
     "output_type": "stream",
     "text": [
      "0.18695160802719538 0.1\n"
     ]
    },
    {
     "name": "stderr",
     "output_type": "stream",
     "text": [
      "\r",
      " 66%|████████████████▌        | 165/250 [20:05:29<6:31:45, 276.53s/it]"
     ]
    },
    {
     "name": "stdout",
     "output_type": "stream",
     "text": [
      "0.11486098612351398 0.40121659496570966\n"
     ]
    },
    {
     "name": "stderr",
     "output_type": "stream",
     "text": [
      "\r",
      " 66%|████████████████▌        | 166/250 [20:13:52<8:02:12, 344.43s/it]"
     ]
    },
    {
     "name": "stdout",
     "output_type": "stream",
     "text": [
      "0.4381690613107589 0.33123384666375166\n"
     ]
    },
    {
     "name": "stderr",
     "output_type": "stream",
     "text": [
      "\r",
      " 67%|████████████████▋        | 167/250 [20:14:27<5:48:06, 251.64s/it]"
     ]
    },
    {
     "name": "stdout",
     "output_type": "stream",
     "text": [
      "0.6058793341859078 0.6493139770355987\n"
     ]
    },
    {
     "name": "stderr",
     "output_type": "stream",
     "text": [
      "\r",
      " 67%|████████████████▊        | 168/250 [20:16:33<4:52:29, 214.02s/it]"
     ]
    },
    {
     "name": "stdout",
     "output_type": "stream",
     "text": [
      "0.4883146813160273 0.36700958756374186\n"
     ]
    },
    {
     "name": "stderr",
     "output_type": "stream",
     "text": [
      "\r",
      " 68%|████████████████▉        | 169/250 [20:24:41<6:39:44, 296.11s/it]"
     ]
    },
    {
     "name": "stdout",
     "output_type": "stream",
     "text": [
      "0.6537978180141135 0.7691214731609091\n"
     ]
    },
    {
     "name": "stderr",
     "output_type": "stream",
     "text": [
      "\r",
      " 68%|█████████████████        | 170/250 [20:26:13<5:13:07, 234.85s/it]"
     ]
    },
    {
     "name": "stdout",
     "output_type": "stream",
     "text": [
      "0.1882152434641774 0.10000510534665095\n"
     ]
    },
    {
     "name": "stderr",
     "output_type": "stream",
     "text": [
      "\r",
      " 68%|█████████████████        | 171/250 [20:34:06<6:43:13, 306.25s/it]"
     ]
    },
    {
     "name": "stdout",
     "output_type": "stream",
     "text": [
      "0.9389072309412829 0.9069843657417552\n"
     ]
    },
    {
     "name": "stderr",
     "output_type": "stream",
     "text": [
      "\r",
      " 69%|█████████████████▏       | 172/250 [20:37:20<5:54:21, 272.58s/it]"
     ]
    },
    {
     "name": "stdout",
     "output_type": "stream",
     "text": [
      "0.17769571397238393 0.2047643830091848\n"
     ]
    },
    {
     "name": "stderr",
     "output_type": "stream",
     "text": [
      "\r",
      " 69%|█████████████████▎       | 173/250 [20:47:14<7:53:45, 369.16s/it]"
     ]
    },
    {
     "name": "stdout",
     "output_type": "stream",
     "text": [
      "0.7119394687090177 0.702361699583952\n"
     ]
    },
    {
     "name": "stderr",
     "output_type": "stream",
     "text": [
      "\r",
      " 70%|█████████████████▍       | 174/250 [20:56:33<8:59:52, 426.21s/it]"
     ]
    },
    {
     "name": "stdout",
     "output_type": "stream",
     "text": [
      "0.9129799929066553 0.8158826948505723\n"
     ]
    },
    {
     "name": "stderr",
     "output_type": "stream",
     "text": [
      "\r",
      " 70%|████████████████▊       | 175/250 [21:06:45<10:02:18, 481.84s/it]"
     ]
    },
    {
     "name": "stdout",
     "output_type": "stream",
     "text": [
      "0.6270806694949741 0.32826583164891476\n"
     ]
    },
    {
     "name": "stderr",
     "output_type": "stream",
     "text": [
      "\r",
      " 70%|████████████████▉       | 176/250 [21:18:40<11:20:36, 551.85s/it]"
     ]
    },
    {
     "name": "stdout",
     "output_type": "stream",
     "text": [
      "0.4480196528121404 0.5428431127027535\n"
     ]
    },
    {
     "name": "stderr",
     "output_type": "stream",
     "text": [
      "\r",
      " 71%|█████████████████▋       | 177/250 [21:20:22<8:27:09, 416.84s/it]"
     ]
    },
    {
     "name": "stdout",
     "output_type": "stream",
     "text": [
      "0.4039683280746868 0.7993098710496803\n"
     ]
    },
    {
     "name": "stderr",
     "output_type": "stream",
     "text": [
      "\r",
      " 71%|█████████████████▊       | 178/250 [21:25:24<7:38:56, 382.45s/it]"
     ]
    },
    {
     "name": "stdout",
     "output_type": "stream",
     "text": [
      "0.6360503368300967 0.8043040239742656\n"
     ]
    },
    {
     "name": "stderr",
     "output_type": "stream",
     "text": [
      "\r",
      " 72%|█████████████████▉       | 179/250 [21:28:24<6:20:34, 321.61s/it]"
     ]
    },
    {
     "name": "stdout",
     "output_type": "stream",
     "text": [
      "0.5205990399478158 0.12380767294487141\n"
     ]
    },
    {
     "name": "stderr",
     "output_type": "stream",
     "text": [
      "\r",
      " 72%|██████████████████       | 180/250 [21:34:21<6:27:29, 332.14s/it]"
     ]
    },
    {
     "name": "stdout",
     "output_type": "stream",
     "text": [
      "0.37230894085050986 0.45305006647808665\n"
     ]
    },
    {
     "name": "stderr",
     "output_type": "stream",
     "text": [
      "\r",
      " 72%|██████████████████       | 181/250 [21:38:43<5:57:44, 311.08s/it]"
     ]
    },
    {
     "name": "stdout",
     "output_type": "stream",
     "text": [
      "0.5023009616549802 0.15582225269531835\n"
     ]
    },
    {
     "name": "stderr",
     "output_type": "stream",
     "text": [
      "\r",
      " 73%|██████████████████▏      | 182/250 [21:47:47<7:12:01, 381.20s/it]"
     ]
    },
    {
     "name": "stdout",
     "output_type": "stream",
     "text": [
      "0.9151507450183078 1.0\n"
     ]
    },
    {
     "name": "stderr",
     "output_type": "stream",
     "text": [
      "\r",
      " 73%|██████████████████▎      | 183/250 [21:52:27<6:31:40, 350.76s/it]"
     ]
    },
    {
     "name": "stdout",
     "output_type": "stream",
     "text": [
      "0.2548698893164252 0.1\n"
     ]
    },
    {
     "name": "stderr",
     "output_type": "stream",
     "text": [
      "\r",
      " 74%|██████████████████▍      | 184/250 [21:55:21<5:27:26, 297.67s/it]"
     ]
    },
    {
     "name": "stdout",
     "output_type": "stream",
     "text": [
      "0.6618698500623954 0.5193310677591104\n"
     ]
    },
    {
     "name": "stderr",
     "output_type": "stream",
     "text": [
      "\r",
      " 74%|██████████████████▌      | 185/250 [21:56:24<4:06:15, 227.31s/it]"
     ]
    },
    {
     "name": "stdout",
     "output_type": "stream",
     "text": [
      "0.31350223624755025 0.5492001580845365\n"
     ]
    },
    {
     "name": "stderr",
     "output_type": "stream",
     "text": [
      "\r",
      " 74%|██████████████████▌      | 186/250 [22:05:33<5:45:25, 323.84s/it]"
     ]
    },
    {
     "name": "stdout",
     "output_type": "stream",
     "text": [
      "0.8828584904005179 1.0\n"
     ]
    },
    {
     "name": "stderr",
     "output_type": "stream",
     "text": [
      "\r",
      " 75%|██████████████████▋      | 187/250 [22:17:29<7:43:29, 441.42s/it]"
     ]
    },
    {
     "name": "stdout",
     "output_type": "stream",
     "text": [
      "0.7196002055926947 0.6194945772827047\n"
     ]
    },
    {
     "name": "stderr",
     "output_type": "stream",
     "text": [
      "\r",
      " 75%|██████████████████▊      | 188/250 [22:19:04<5:48:46, 337.52s/it]"
     ]
    },
    {
     "name": "stdout",
     "output_type": "stream",
     "text": [
      "0.15858808796188892 0.1\n"
     ]
    },
    {
     "name": "stderr",
     "output_type": "stream",
     "text": [
      "\r",
      " 76%|██████████████████▉      | 189/250 [22:24:29<5:39:20, 333.78s/it]"
     ]
    },
    {
     "name": "stdout",
     "output_type": "stream",
     "text": [
      "0.5162584054411858 0.1585658793817558\n"
     ]
    },
    {
     "name": "stderr",
     "output_type": "stream",
     "text": [
      "\r",
      " 76%|███████████████████      | 190/250 [22:29:38<5:26:11, 326.20s/it]"
     ]
    },
    {
     "name": "stdout",
     "output_type": "stream",
     "text": [
      "0.9896575822999918 0.818582225170612\n"
     ]
    },
    {
     "name": "stderr",
     "output_type": "stream",
     "text": [
      "\r",
      " 76%|███████████████████      | 191/250 [22:35:10<5:22:31, 328.00s/it]"
     ]
    },
    {
     "name": "stdout",
     "output_type": "stream",
     "text": [
      "0.10136958101735122 0.36135652402515084\n"
     ]
    },
    {
     "name": "stderr",
     "output_type": "stream",
     "text": [
      "\r",
      " 77%|███████████████████▏     | 192/250 [22:43:06<6:00:09, 372.58s/it]"
     ]
    },
    {
     "name": "stdout",
     "output_type": "stream",
     "text": [
      "0.6442830341993331 0.5421572919299923\n"
     ]
    },
    {
     "name": "stderr",
     "output_type": "stream",
     "text": [
      "\r",
      " 77%|███████████████████▎     | 193/250 [22:51:05<6:24:06, 404.33s/it]"
     ]
    },
    {
     "name": "stdout",
     "output_type": "stream",
     "text": [
      "0.23957672401390276 0.1000117619596762\n"
     ]
    },
    {
     "name": "stderr",
     "output_type": "stream",
     "text": [
      "\r",
      " 78%|███████████████████▍     | 194/250 [22:53:16<5:01:01, 322.52s/it]"
     ]
    },
    {
     "name": "stdout",
     "output_type": "stream",
     "text": [
      "0.26792223972011137 0.1000141927879263\n"
     ]
    },
    {
     "name": "stderr",
     "output_type": "stream",
     "text": [
      "\r",
      " 78%|███████████████████▌     | 195/250 [22:58:05<4:46:27, 312.50s/it]"
     ]
    },
    {
     "name": "stdout",
     "output_type": "stream",
     "text": [
      "0.12335166024624489 0.1\n"
     ]
    },
    {
     "name": "stderr",
     "output_type": "stream",
     "text": [
      "\r",
      " 78%|███████████████████▌     | 196/250 [23:07:16<5:45:34, 383.97s/it]"
     ]
    },
    {
     "name": "stdout",
     "output_type": "stream",
     "text": [
      "0.9457794437216281 0.7753489541079673\n"
     ]
    },
    {
     "name": "stderr",
     "output_type": "stream",
     "text": [
      "\r",
      " 79%|███████████████████▋     | 197/250 [23:14:03<5:45:08, 390.73s/it]"
     ]
    },
    {
     "name": "stdout",
     "output_type": "stream",
     "text": [
      "0.6016549247978251 0.5960802384338239\n"
     ]
    },
    {
     "name": "stderr",
     "output_type": "stream",
     "text": [
      "\r",
      " 79%|███████████████████▊     | 198/250 [23:21:02<5:45:57, 399.18s/it]"
     ]
    },
    {
     "name": "stdout",
     "output_type": "stream",
     "text": [
      "0.6372008889942536 0.5402084118692729\n"
     ]
    },
    {
     "name": "stderr",
     "output_type": "stream",
     "text": [
      "\r",
      " 80%|███████████████████▉     | 199/250 [23:26:05<5:14:50, 370.40s/it]"
     ]
    },
    {
     "name": "stdout",
     "output_type": "stream",
     "text": [
      "0.1815374448212869 0.3056402495210616\n"
     ]
    },
    {
     "name": "stderr",
     "output_type": "stream",
     "text": [
      "\r",
      " 80%|████████████████████     | 200/250 [23:33:48<5:31:43, 398.08s/it]"
     ]
    },
    {
     "name": "stdout",
     "output_type": "stream",
     "text": [
      "0.16128821028128143 0.1\n"
     ]
    },
    {
     "name": "stderr",
     "output_type": "stream",
     "text": [
      "\r",
      " 80%|████████████████████     | 201/250 [23:38:58<5:03:42, 371.89s/it]"
     ]
    },
    {
     "name": "stdout",
     "output_type": "stream",
     "text": [
      "0.7155340020096702 0.5721945742206481\n"
     ]
    },
    {
     "name": "stderr",
     "output_type": "stream",
     "text": [
      "\r",
      " 81%|████████████████████▏    | 202/250 [23:41:46<4:08:36, 310.76s/it]"
     ]
    },
    {
     "name": "stdout",
     "output_type": "stream",
     "text": [
      "0.14922772735941456 0.1\n"
     ]
    },
    {
     "name": "stderr",
     "output_type": "stream",
     "text": [
      "\r",
      " 81%|████████████████████▎    | 203/250 [23:45:00<3:35:49, 275.52s/it]"
     ]
    },
    {
     "name": "stdout",
     "output_type": "stream",
     "text": [
      "0.2329680290754974 0.1888360967893933\n"
     ]
    },
    {
     "name": "stderr",
     "output_type": "stream",
     "text": [
      "\r",
      " 82%|████████████████████▍    | 204/250 [23:46:28<2:48:07, 219.29s/it]"
     ]
    },
    {
     "name": "stdout",
     "output_type": "stream",
     "text": [
      "0.32540362121106303 0.5075369913497336\n"
     ]
    },
    {
     "name": "stderr",
     "output_type": "stream",
     "text": [
      "\r",
      " 82%|████████████████████▌    | 205/250 [23:51:23<3:01:36, 242.13s/it]"
     ]
    },
    {
     "name": "stdout",
     "output_type": "stream",
     "text": [
      "0.9779053652507549 0.717840100603866\n"
     ]
    },
    {
     "name": "stderr",
     "output_type": "stream",
     "text": [
      "\r",
      " 82%|████████████████████▌    | 206/250 [24:00:17<4:01:48, 329.74s/it]"
     ]
    },
    {
     "name": "stdout",
     "output_type": "stream",
     "text": [
      "0.9170705644038303 0.7587572784379504\n"
     ]
    },
    {
     "name": "stderr",
     "output_type": "stream",
     "text": [
      "\r",
      " 83%|████████████████████▋    | 207/250 [24:03:44<3:29:53, 292.86s/it]"
     ]
    },
    {
     "name": "stdout",
     "output_type": "stream",
     "text": [
      "0.4917496749306811 0.8250935186463573\n"
     ]
    },
    {
     "name": "stderr",
     "output_type": "stream",
     "text": [
      "\r",
      " 83%|████████████████████▊    | 208/250 [24:07:43<3:13:38, 276.62s/it]"
     ]
    },
    {
     "name": "stdout",
     "output_type": "stream",
     "text": [
      "0.10069641449478905 0.18850731247502564\n"
     ]
    },
    {
     "name": "stderr",
     "output_type": "stream",
     "text": [
      "\r",
      " 84%|████████████████████▉    | 209/250 [24:09:54<2:39:05, 232.81s/it]"
     ]
    },
    {
     "name": "stdout",
     "output_type": "stream",
     "text": [
      "0.8663726697964191 0.43241789767250005\n"
     ]
    },
    {
     "name": "stderr",
     "output_type": "stream",
     "text": [
      "\r",
      " 84%|█████████████████████    | 210/250 [24:12:46<2:23:08, 214.72s/it]"
     ]
    },
    {
     "name": "stdout",
     "output_type": "stream",
     "text": [
      "0.2371864490653072 0.40994014345639157\n"
     ]
    },
    {
     "name": "stderr",
     "output_type": "stream",
     "text": [
      "\r",
      " 84%|█████████████████████    | 211/250 [24:15:11<2:05:56, 193.76s/it]"
     ]
    },
    {
     "name": "stdout",
     "output_type": "stream",
     "text": [
      "0.9584399032321655 1.0\n"
     ]
    },
    {
     "name": "stderr",
     "output_type": "stream",
     "text": [
      "\r",
      " 85%|█████████████████████▏   | 212/250 [24:25:43<3:25:55, 325.15s/it]"
     ]
    },
    {
     "name": "stdout",
     "output_type": "stream",
     "text": [
      "0.3315198912435554 0.22770185516249766\n"
     ]
    },
    {
     "name": "stderr",
     "output_type": "stream",
     "text": [
      "\r",
      " 85%|█████████████████████▎   | 213/250 [24:28:28<2:51:02, 277.36s/it]"
     ]
    },
    {
     "name": "stdout",
     "output_type": "stream",
     "text": [
      "0.5711651049118255 0.5770336592578812\n"
     ]
    },
    {
     "name": "stderr",
     "output_type": "stream",
     "text": [
      "\r",
      " 86%|█████████████████████▍   | 214/250 [24:31:03<2:24:19, 240.53s/it]"
     ]
    },
    {
     "name": "stdout",
     "output_type": "stream",
     "text": [
      "0.8337293893430013 0.9114668018398632\n"
     ]
    },
    {
     "name": "stderr",
     "output_type": "stream",
     "text": [
      "\r",
      " 86%|█████████████████████▌   | 215/250 [24:48:45<4:44:02, 486.93s/it]"
     ]
    },
    {
     "name": "stdout",
     "output_type": "stream",
     "text": [
      "0.8577473164711462 1.0\n"
     ]
    },
    {
     "name": "stderr",
     "output_type": "stream",
     "text": [
      "\r",
      " 86%|█████████████████████▌   | 216/250 [25:01:23<5:22:00, 568.24s/it]"
     ]
    },
    {
     "name": "stdout",
     "output_type": "stream",
     "text": [
      "0.5540505608947779 0.4956739801168276\n"
     ]
    },
    {
     "name": "stderr",
     "output_type": "stream",
     "text": [
      "\r",
      " 87%|█████████████████████▋   | 217/250 [25:06:32<4:29:46, 490.50s/it]"
     ]
    },
    {
     "name": "stdout",
     "output_type": "stream",
     "text": [
      "0.7994991866359572 0.9692131509540164\n"
     ]
    },
    {
     "name": "stderr",
     "output_type": "stream",
     "text": [
      "\r",
      " 87%|█████████████████████▊   | 218/250 [25:16:34<4:39:28, 524.03s/it]"
     ]
    },
    {
     "name": "stdout",
     "output_type": "stream",
     "text": [
      "0.5938803726595797 0.34903950246859095\n"
     ]
    },
    {
     "name": "stderr",
     "output_type": "stream",
     "text": [
      "\r",
      " 88%|█████████████████████▉   | 219/250 [25:20:19<3:44:18, 434.13s/it]"
     ]
    },
    {
     "name": "stdout",
     "output_type": "stream",
     "text": [
      "0.3533663957805822 0.5105963866353151\n"
     ]
    },
    {
     "name": "stderr",
     "output_type": "stream",
     "text": [
      "\r",
      " 88%|██████████████████████   | 220/250 [25:28:21<3:44:15, 448.51s/it]"
     ]
    },
    {
     "name": "stdout",
     "output_type": "stream",
     "text": [
      "0.6290856544459899 0.5451866766002915\n"
     ]
    },
    {
     "name": "stderr",
     "output_type": "stream",
     "text": [
      "\r",
      " 88%|██████████████████████   | 221/250 [25:30:37<2:51:28, 354.79s/it]"
     ]
    },
    {
     "name": "stdout",
     "output_type": "stream",
     "text": [
      "0.8714642924634538 0.5051085086057183\n"
     ]
    },
    {
     "name": "stderr",
     "output_type": "stream",
     "text": [
      "\r",
      " 89%|██████████████████████▏  | 222/250 [25:35:45<2:38:58, 340.67s/it]"
     ]
    },
    {
     "name": "stdout",
     "output_type": "stream",
     "text": [
      "0.9423558864501306 1.0\n"
     ]
    },
    {
     "name": "stderr",
     "output_type": "stream",
     "text": [
      "\r",
      " 89%|██████████████████████▎  | 223/250 [25:39:40<2:19:09, 309.24s/it]"
     ]
    },
    {
     "name": "stdout",
     "output_type": "stream",
     "text": [
      "0.34638937692367433 0.3341598785479451\n"
     ]
    },
    {
     "name": "stderr",
     "output_type": "stream",
     "text": [
      "\r",
      " 90%|██████████████████████▍  | 224/250 [25:48:31<2:42:47, 375.67s/it]"
     ]
    },
    {
     "name": "stdout",
     "output_type": "stream",
     "text": [
      "0.5833312848382952 0.47860267453743227\n"
     ]
    },
    {
     "name": "stderr",
     "output_type": "stream",
     "text": [
      "\r",
      " 90%|██████████████████████▌  | 225/250 [25:58:58<3:07:54, 450.96s/it]"
     ]
    },
    {
     "name": "stdout",
     "output_type": "stream",
     "text": [
      "0.7247655471543646 0.8797696095374572\n"
     ]
    },
    {
     "name": "stderr",
     "output_type": "stream",
     "text": [
      "\r",
      " 90%|██████████████████████▌  | 226/250 [26:11:08<3:33:53, 534.71s/it]"
     ]
    },
    {
     "name": "stdout",
     "output_type": "stream",
     "text": [
      "0.9693117839628905 1.0\n"
     ]
    },
    {
     "name": "stderr",
     "output_type": "stream",
     "text": [
      "\r",
      " 91%|██████████████████████▋  | 227/250 [26:20:25<3:27:34, 541.50s/it]"
     ]
    },
    {
     "name": "stdout",
     "output_type": "stream",
     "text": [
      "0.6047250889062017 0.47689601496815026\n"
     ]
    },
    {
     "name": "stderr",
     "output_type": "stream",
     "text": [
      "\r",
      " 91%|██████████████████████▊  | 228/250 [26:29:00<3:15:34, 533.38s/it]"
     ]
    },
    {
     "name": "stdout",
     "output_type": "stream",
     "text": [
      "0.9594791366486607 1.0\n"
     ]
    },
    {
     "name": "stderr",
     "output_type": "stream",
     "text": [
      "\r",
      " 92%|██████████████████████▉  | 229/250 [26:35:48<2:53:35, 495.95s/it]"
     ]
    },
    {
     "name": "stdout",
     "output_type": "stream",
     "text": [
      "0.9883376085344951 0.9999662779544911\n"
     ]
    },
    {
     "name": "stderr",
     "output_type": "stream",
     "text": [
      "\r",
      " 92%|███████████████████████  | 230/250 [26:37:27<2:05:34, 376.73s/it]"
     ]
    },
    {
     "name": "stdout",
     "output_type": "stream",
     "text": [
      "0.33894198476936277 0.10000000000000002\n"
     ]
    },
    {
     "name": "stderr",
     "output_type": "stream",
     "text": [
      "\r",
      " 92%|██████████████████████▏ | 231/250 [27:46:13<7:55:31, 1501.66s/it]"
     ]
    },
    {
     "name": "stdout",
     "output_type": "stream",
     "text": [
      "0.5605098524778143 0.609100194487982\n"
     ]
    },
    {
     "name": "stderr",
     "output_type": "stream",
     "text": [
      "\r",
      " 93%|█████████████████████▎ | 232/250 [30:04:18<17:40:57, 3536.55s/it]"
     ]
    },
    {
     "name": "stdout",
     "output_type": "stream",
     "text": [
      "0.9775609223355283 0.9783828142352716\n"
     ]
    },
    {
     "name": "stderr",
     "output_type": "stream",
     "text": [
      "\r",
      " 93%|█████████████████████▍ | 233/250 [31:09:18<17:12:53, 3645.51s/it]"
     ]
    },
    {
     "name": "stdout",
     "output_type": "stream",
     "text": [
      "0.2757412939841906 0.4459808046065468\n"
     ]
    },
    {
     "name": "stderr",
     "output_type": "stream",
     "text": [
      "\r",
      " 94%|█████████████████████▌ | 234/250 [33:41:55<23:33:05, 5299.12s/it]"
     ]
    },
    {
     "name": "stdout",
     "output_type": "stream",
     "text": [
      "0.6473726526859416 0.48641645156179436\n"
     ]
    },
    {
     "name": "stderr",
     "output_type": "stream",
     "text": [
      "\r",
      " 94%|█████████████████████▌ | 235/250 [36:04:13<26:07:42, 6270.80s/it]"
     ]
    },
    {
     "name": "stdout",
     "output_type": "stream",
     "text": [
      "0.6397272313560465 1.0\n"
     ]
    },
    {
     "name": "stderr",
     "output_type": "stream",
     "text": [
      "\r",
      " 94%|█████████████████████▋ | 236/250 [36:53:44<20:32:12, 5280.93s/it]"
     ]
    },
    {
     "name": "stdout",
     "output_type": "stream",
     "text": [
      "0.3854749722120181 0.3872021329818932\n"
     ]
    },
    {
     "name": "stderr",
     "output_type": "stream",
     "text": [
      "\r",
      " 95%|█████████████████████▊ | 237/250 [37:08:20<14:17:52, 3959.40s/it]"
     ]
    },
    {
     "name": "stdout",
     "output_type": "stream",
     "text": [
      "0.8994409475942989 1.0\n"
     ]
    },
    {
     "name": "stderr",
     "output_type": "stream",
     "text": [
      "\r",
      " 95%|██████████████████████▊ | 238/250 [37:10:58<9:23:45, 2818.78s/it]"
     ]
    },
    {
     "name": "stdout",
     "output_type": "stream",
     "text": [
      "0.23572232445237903 0.4715760776810501\n"
     ]
    },
    {
     "name": "stderr",
     "output_type": "stream",
     "text": [
      "\r",
      " 96%|██████████████████████▉ | 239/250 [37:26:24<6:52:40, 2250.91s/it]"
     ]
    },
    {
     "name": "stdout",
     "output_type": "stream",
     "text": [
      "0.5771862260634814 0.6818596142059342\n"
     ]
    },
    {
     "name": "stderr",
     "output_type": "stream",
     "text": [
      "\r",
      " 96%|███████████████████████ | 240/250 [37:39:21<5:01:30, 1809.01s/it]"
     ]
    },
    {
     "name": "stdout",
     "output_type": "stream",
     "text": [
      "0.26059729411860133 0.1\n"
     ]
    },
    {
     "name": "stderr",
     "output_type": "stream",
     "text": [
      "\r",
      " 96%|███████████████████████▏| 241/250 [37:44:40<3:24:15, 1361.76s/it]"
     ]
    },
    {
     "name": "stdout",
     "output_type": "stream",
     "text": [
      "0.39974193720751944 0.33000655181318517\n"
     ]
    },
    {
     "name": "stderr",
     "output_type": "stream",
     "text": [
      "\r",
      " 97%|███████████████████████▏| 242/250 [37:55:35<2:33:18, 1149.81s/it]"
     ]
    },
    {
     "name": "stdout",
     "output_type": "stream",
     "text": [
      "0.6354885043956039 0.4853158486310947\n"
     ]
    },
    {
     "name": "stderr",
     "output_type": "stream",
     "text": [
      "\r",
      " 97%|████████████████████████▎| 243/250 [37:58:03<1:39:04, 849.19s/it]"
     ]
    },
    {
     "name": "stdout",
     "output_type": "stream",
     "text": [
      "0.43634050361044424 0.6327062549236161\n"
     ]
    },
    {
     "name": "stderr",
     "output_type": "stream",
     "text": [
      "\r",
      " 98%|████████████████████████▍| 244/250 [38:04:54<1:11:47, 717.99s/it]"
     ]
    },
    {
     "name": "stdout",
     "output_type": "stream",
     "text": [
      "0.6981463658726202 0.7407251085146619\n"
     ]
    },
    {
     "name": "stderr",
     "output_type": "stream",
     "text": [
      "\r",
      " 98%|████████████████████████▌| 245/250 [38:18:05<1:01:38, 739.63s/it]"
     ]
    },
    {
     "name": "stdout",
     "output_type": "stream",
     "text": [
      "0.7043097130355526 0.49098323479298983\n"
     ]
    },
    {
     "name": "stderr",
     "output_type": "stream",
     "text": [
      "\r",
      " 98%|██████████████████████████▌| 246/250 [38:28:09<46:36, 699.08s/it]"
     ]
    },
    {
     "name": "stdout",
     "output_type": "stream",
     "text": [
      "0.6238689611666746 0.6835079453441082\n"
     ]
    },
    {
     "name": "stderr",
     "output_type": "stream",
     "text": [
      "\r",
      " 99%|██████████████████████████▋| 247/250 [38:30:15<26:21, 527.13s/it]"
     ]
    },
    {
     "name": "stdout",
     "output_type": "stream",
     "text": [
      "0.10559414686304891 0.1\n"
     ]
    },
    {
     "name": "stderr",
     "output_type": "stream",
     "text": [
      "\r",
      " 99%|██████████████████████████▊| 248/250 [38:32:57<13:55, 417.66s/it]"
     ]
    },
    {
     "name": "stdout",
     "output_type": "stream",
     "text": [
      "0.8308754734476231 1.0\n"
     ]
    },
    {
     "name": "stderr",
     "output_type": "stream",
     "text": [
      "\r",
      "100%|██████████████████████████▉| 249/250 [38:39:37<06:52, 412.27s/it]"
     ]
    },
    {
     "name": "stdout",
     "output_type": "stream",
     "text": [
      "0.3747059538516215 0.4564920050035962\n"
     ]
    },
    {
     "name": "stderr",
     "output_type": "stream",
     "text": [
      "100%|███████████████████████████| 250/250 [38:43:48<00:00, 557.71s/it]"
     ]
    },
    {
     "name": "stdout",
     "output_type": "stream",
     "text": [
      "0.6548768635121288 0.912819821470842\n"
     ]
    },
    {
     "name": "stderr",
     "output_type": "stream",
     "text": [
      "\n"
     ]
    }
   ],
   "source": [
    "for n in tqdm(range(250)):\n",
    "    threshold = np.random.uniform(min_threshold, max_threshold)\n",
    "    a = lambda t: threshold\n",
    "    ndt = np.random.uniform(min_ndt, max_ndt)\n",
    "    eta = np.random.uniform(min_eta, max_eta)\n",
    "    mu = np.array([np.random.uniform(min_mu, max_mu), \n",
    "                   np.random.uniform(min_mu, max_mu)])\n",
    "    \n",
    "    RT = []\n",
    "    Theta = []\n",
    "    \n",
    "    for i in range(500):\n",
    "        rt, theta = simulate_HSDM_2D(a, mu, eta, ndt)\n",
    "        RT.append(rt)\n",
    "        Theta.append(theta)\n",
    "    \n",
    "    min_ans = differential_evolution(HSDM_2D_likelihood,\n",
    "                                     args=(RT, Theta),\n",
    "                                     bounds=[(min_threshold, max_threshold), \n",
    "                                             (min_ndt, max_ndt), (min_eta, max_eta),\n",
    "                                             (min_mu, max_mu), (min_mu, max_mu)])\n",
    "    \n",
    "    min_ans = minimize(HSDM_2D_likelihood,\n",
    "                       method='nelder-mead',\n",
    "                       x0=min_ans.x,\n",
    "                       args=(RT, Theta),\n",
    "                       bounds=[(min_threshold, max_threshold), \n",
    "                               (min_ndt, max_ndt), (min_eta, max_eta),\n",
    "                               (min_mu, max_mu), (min_mu, max_mu)])\n",
    "    \n",
    "    \n",
    "    if min_ans.success:\n",
    "        recovery_df = pd.DataFrame({'threshold_true': [threshold],\n",
    "                                    'threshold_estimate': [min_ans.x[0]],\n",
    "                                    'ndt_true': [ndt],\n",
    "                                    'ndt_estimate': [min_ans.x[1]],\n",
    "                                    'eta_true': [eta],\n",
    "                                    'eta_estimate': [min_ans.x[2]],\n",
    "                                    'mu1_true': [mu[1]],\n",
    "                                    'mu1_estimate': [min_ans.x[3]],\n",
    "                                    'mu2_true': [mu[0]],\n",
    "                                    'mu2_estimate': [min_ans.x[4]]})\n",
    "        \n",
    "        print(eta, min_ans.x[2])\n",
    "        \n",
    "        old_recovery_data = pd.read_csv(file_name, index_col=0)\n",
    "        recovery_df = pd.concat([old_recovery_data, recovery_df]).reset_index(drop=True)\n",
    "        recovery_df.to_csv(file_name)"
   ]
  },
  {
   "cell_type": "code",
   "execution_count": null,
   "id": "6f5f5dfb",
   "metadata": {},
   "outputs": [],
   "source": []
  }
 ],
 "metadata": {
  "kernelspec": {
   "display_name": "Python 3 (ipykernel)",
   "language": "python",
   "name": "python3"
  },
  "language_info": {
   "codemirror_mode": {
    "name": "ipython",
    "version": 3
   },
   "file_extension": ".py",
   "mimetype": "text/x-python",
   "name": "python",
   "nbconvert_exporter": "python",
   "pygments_lexer": "ipython3",
   "version": "3.10.6"
  }
 },
 "nbformat": 4,
 "nbformat_minor": 5
}
