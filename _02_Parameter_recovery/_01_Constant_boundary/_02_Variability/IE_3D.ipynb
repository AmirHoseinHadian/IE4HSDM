{
 "cells": [
  {
   "cell_type": "code",
   "execution_count": 1,
   "id": "e52e3847",
   "metadata": {},
   "outputs": [],
   "source": [
    "import numpy as np\n",
    "import pandas as pd\n",
    "from tqdm import tqdm\n",
    "\n",
    "from mpmath import besseljzero\n",
    "from scipy.special import gamma\n",
    "from scipy.special import jv, iv, ive\n",
    "from scipy.optimize import differential_evolution\n",
    "from scipy.interpolate import interp1d\n",
    "\n",
    "from scipy.stats import pearsonr\n",
    "from sklearn.metrics import r2_score\n",
    "\n",
    "import seaborn as sns\n",
    "import matplotlib.pyplot as plt"
   ]
  },
  {
   "cell_type": "code",
   "execution_count": 2,
   "id": "5d89b181",
   "metadata": {},
   "outputs": [],
   "source": [
    "def simulate_HSDM_3D(a, mu, eta, ndt, sigma=1, dt=0.001):\n",
    "    x = np.zeros(mu.shape)\n",
    "    \n",
    "    rt = 0\n",
    "    \n",
    "    mu_t = np.random.normal(mu, eta) \n",
    "    while np.linalg.norm(x, 2) < a(rt):\n",
    "        x += mu_t*dt + sigma*np.sqrt(dt)*np.random.normal(0, 1, mu.shape)\n",
    "        rt += dt\n",
    "    \n",
    "    theta1 = np.arctan2(np.sqrt(x[2]**2 + x[1]**2), x[0])\n",
    "    theta2 = np.arctan2(x[2], x[1])   \n",
    "    \n",
    "    return rt+ndt, (theta1, theta2)"
   ]
  },
  {
   "cell_type": "code",
   "execution_count": 3,
   "id": "337f9f8b",
   "metadata": {},
   "outputs": [],
   "source": [
    "def k(a, da, t, q, sigma=2):\n",
    "    return 0.5 * (q - 0.5*sigma - da(t))\n",
    "\n",
    "def psi(a, da, t, z, tau, q, sigma=2):\n",
    "    kk = k(a, da, t, q, sigma)\n",
    "    \n",
    "    if 2*np.sqrt(a(t)*z)/(sigma*(t-tau))<=700:\n",
    "        term1 = 1./(sigma*(t - tau)) * np.exp(- (a(t) + z)/(sigma*(t-tau)))\n",
    "        term2 = (a(t)/z)**(0.5*(q-sigma)/sigma)\n",
    "        term3 = da(t) - (a(t)/(t-tau)) + kk\n",
    "        term4 = iv(q/sigma-1, 2*np.sqrt(a(t)*z)/(sigma*(t-tau)))\n",
    "        term5 = (np.sqrt(a(t)*z)/(t-tau)) * iv(q/sigma, 2*np.sqrt(a(t)*z)/(sigma*(t-tau)))\n",
    "    else:\n",
    "        term1 = 1./(sigma*(t - tau))\n",
    "        term2 = (a(t)/z)**(0.5*(q-sigma)/sigma)\n",
    "        term3 = da(t) - (a(t)/(t-tau)) + kk\n",
    "        term4 = ive(q/sigma-1, (a(t) + z)/(sigma*(t-tau)))\n",
    "        term5 = (np.sqrt(a(t)*z)/(t-tau)) * ive(q/sigma, (a(t) + z)/(sigma*(t-tau)))\n",
    "    \n",
    "    return term1 * term2 * (term3 * term4 + term5)\n",
    "\n",
    "def ie_bessel_fpt(a, da, q, z, sigma=2, dt=0.1, T_max=2):\n",
    "    g = [0]\n",
    "    T = [0]\n",
    "    g.append(-2*psi(a, da, dt, z, 0, q, sigma))\n",
    "    T.append(dt)\n",
    "    \n",
    "    for n in range(2, int(T_max/dt)+2):\n",
    "        s = -2 * psi(a, da, n*dt, z, 0, q, sigma)\n",
    "\n",
    "        for j in range(1, n):\n",
    "            s += 2 * dt * g[j] * psi(a, da, n*dt, a(j*dt), j*dt, q, sigma)\n",
    "\n",
    "        g.append(s)\n",
    "        T.append(n*dt)\n",
    "        \n",
    "    g = np.asarray(g)\n",
    "    T = np.asarray(T)\n",
    "    \n",
    "    gt = interp1d(T, g)\n",
    "    return gt"
   ]
  },
  {
   "cell_type": "code",
   "execution_count": 4,
   "id": "fd588e9b",
   "metadata": {},
   "outputs": [],
   "source": [
    "def HSDM_3D_likelihood(prms, RT, Theta):\n",
    "    a = lambda t: prms[0]**2\n",
    "    da = lambda t: 0\n",
    "    ndt = prms[1]\n",
    "    \n",
    "    eta = prms[2]\n",
    "    eta2 = eta**2\n",
    "    \n",
    "    mu = np.array([prms[3], prms[4], prms[5]])\n",
    "    \n",
    "    if max(RT) <= 4.5:\n",
    "        fpt = ie_bessel_fpt(a, da, mu.shape[0], 0.000001, \n",
    "                            dt=0.02, T_max=max(RT))\n",
    "    else:\n",
    "        fpt = ie_bessel_fpt(a, da, mu.shape[0], 0.000001, \n",
    "                            dt=0.02, T_max=4.5)\n",
    "        \n",
    "        fpt_l = ie_bessel_fpt(a, da, mu.shape[0], 0.000001, \n",
    "                              dt=0.1, T_max=max(RT))\n",
    "    log_lik = 0\n",
    "    for i in range(len(RT)):\n",
    "        rt, theta = RT[i], Theta[i]\n",
    "        if rt - ndt > 0.001 and ndt >= 0:\n",
    "            x2 =  prms[0]*np.cos(theta[0])\n",
    "            x1 =  prms[0]*np.sin(theta[0])*np.cos(theta[1]) \n",
    "            x0 =  prms[0]*np.sin(theta[0])*np.sin(theta[1])\n",
    "            fixed = 1/(np.sqrt(eta2 * (rt - ndt) + 1))\n",
    "            exponent0 = -0.5*mu[0]**2/eta2 + 0.5*(x0 * eta2 + mu[0])**2 / (eta2 * (eta2 * (rt - ndt) + 1))\n",
    "            exponent1 = -0.5*mu[1]**2/eta2 + 0.5*(x1 * eta2 + mu[1])**2 / (eta2 * (eta2 * (rt - ndt) + 1))\n",
    "            exponent2 = -0.5*mu[2]**2/eta2 + 0.5*(x2 * eta2 + mu[2])**2 / (eta2 * (eta2 * (rt - ndt) + 1))\n",
    "            term1 = fixed * np.exp(exponent0)\n",
    "            term2 = fixed * np.exp(exponent1)\n",
    "            term3 = fixed * np.exp(exponent2)\n",
    "            \n",
    "            if rt - ndt <= 4.5:\n",
    "                density = term1 * term2 * term3 * fpt(rt - ndt)\n",
    "            else:\n",
    "                density = term1 * term2 * term3 * fpt_l(rt - ndt)\n",
    "            \n",
    "            if 0.1**14 < density:\n",
    "                log_lik += -np.log(density)\n",
    "            else:\n",
    "                log_lik += -np.log(0.1**14)\n",
    "        else:\n",
    "            log_lik += -np.log(0.1**14)\n",
    "        \n",
    "    return log_lik"
   ]
  },
  {
   "cell_type": "code",
   "execution_count": 5,
   "id": "7857d54f",
   "metadata": {},
   "outputs": [],
   "source": [
    "min_threshold = 1\n",
    "max_threshold = 3\n",
    "\n",
    "min_ndt = 0.1\n",
    "max_ndt = 1\n",
    "\n",
    "min_eta = 0.1\n",
    "max_eta = 1\n",
    "\n",
    "min_mu = -2.5\n",
    "max_mu = 2.5\n",
    "\n",
    "file_name = '_Recovery_data/IE_3d_recovery_dvar.csv'"
   ]
  },
  {
   "cell_type": "code",
   "execution_count": 6,
   "id": "b1dec979",
   "metadata": {
    "scrolled": false
   },
   "outputs": [
    {
     "name": "stderr",
     "output_type": "stream",
     "text": [
      "  2%|▌                              | 1/50 [05:09<4:12:23, 309.04s/it]"
     ]
    },
    {
     "name": "stdout",
     "output_type": "stream",
     "text": [
      "0.28320246421051487 0.34370600497979603\n"
     ]
    },
    {
     "name": "stderr",
     "output_type": "stream",
     "text": [
      "\r",
      "  4%|█▏                             | 2/50 [09:04<3:32:37, 265.79s/it]"
     ]
    },
    {
     "name": "stdout",
     "output_type": "stream",
     "text": [
      "0.939381154167334 1.0\n"
     ]
    },
    {
     "name": "stderr",
     "output_type": "stream",
     "text": [
      "\r",
      "  6%|█▊                             | 3/50 [11:09<2:37:59, 201.70s/it]"
     ]
    },
    {
     "name": "stdout",
     "output_type": "stream",
     "text": [
      "0.9779742185235385 0.9030115657431935\n"
     ]
    },
    {
     "name": "stderr",
     "output_type": "stream",
     "text": [
      "\r",
      "  8%|██▍                            | 4/50 [14:04<2:26:20, 190.89s/it]"
     ]
    },
    {
     "name": "stdout",
     "output_type": "stream",
     "text": [
      "0.5727381188418857 0.8991830436630545\n"
     ]
    },
    {
     "name": "stderr",
     "output_type": "stream",
     "text": [
      "\r",
      " 10%|███                            | 5/50 [17:45<2:31:23, 201.86s/it]"
     ]
    },
    {
     "name": "stdout",
     "output_type": "stream",
     "text": [
      "0.20214707639173096 0.1\n"
     ]
    },
    {
     "name": "stderr",
     "output_type": "stream",
     "text": [
      "\r",
      " 12%|███▋                           | 6/50 [24:33<3:19:16, 271.75s/it]"
     ]
    },
    {
     "name": "stdout",
     "output_type": "stream",
     "text": [
      "0.22938573305244556 0.36102886603732753\n"
     ]
    },
    {
     "name": "stderr",
     "output_type": "stream",
     "text": [
      "\r",
      " 14%|████▎                          | 7/50 [27:14<2:48:52, 235.64s/it]"
     ]
    },
    {
     "name": "stdout",
     "output_type": "stream",
     "text": [
      "0.891458286572861 0.7024197630158491\n"
     ]
    },
    {
     "name": "stderr",
     "output_type": "stream",
     "text": [
      "\r",
      " 16%|████▉                          | 8/50 [32:36<3:04:14, 263.21s/it]"
     ]
    },
    {
     "name": "stdout",
     "output_type": "stream",
     "text": [
      "0.8358958205890761 0.8372897743788275\n"
     ]
    },
    {
     "name": "stderr",
     "output_type": "stream",
     "text": [
      "\r",
      " 18%|█████▌                         | 9/50 [36:51<2:58:00, 260.50s/it]"
     ]
    },
    {
     "name": "stdout",
     "output_type": "stream",
     "text": [
      "0.3999588363090216 0.4818358975880048\n"
     ]
    },
    {
     "name": "stderr",
     "output_type": "stream",
     "text": [
      "\r",
      " 20%|██████                        | 10/50 [45:00<3:40:41, 331.04s/it]"
     ]
    },
    {
     "name": "stdout",
     "output_type": "stream",
     "text": [
      "0.16892784987342846 0.2294775992203718\n"
     ]
    },
    {
     "name": "stderr",
     "output_type": "stream",
     "text": [
      "\r",
      " 22%|██████▌                       | 11/50 [49:45<3:26:08, 317.14s/it]"
     ]
    },
    {
     "name": "stdout",
     "output_type": "stream",
     "text": [
      "0.259945417732071 0.1\n"
     ]
    },
    {
     "name": "stderr",
     "output_type": "stream",
     "text": [
      "\r",
      " 24%|███████▏                      | 12/50 [55:17<3:23:43, 321.66s/it]"
     ]
    },
    {
     "name": "stdout",
     "output_type": "stream",
     "text": [
      "0.19771945520168924 0.1\n"
     ]
    },
    {
     "name": "stderr",
     "output_type": "stream",
     "text": [
      "\r",
      " 26%|███████▎                    | 13/50 [1:05:29<4:12:34, 409.58s/it]"
     ]
    },
    {
     "name": "stdout",
     "output_type": "stream",
     "text": [
      "0.8181041261516244 0.6563739152814694\n"
     ]
    },
    {
     "name": "stderr",
     "output_type": "stream",
     "text": [
      "\r",
      " 28%|███████▊                    | 14/50 [1:07:36<3:14:31, 324.20s/it]"
     ]
    },
    {
     "name": "stdout",
     "output_type": "stream",
     "text": [
      "0.12648400677818666 0.1\n"
     ]
    },
    {
     "name": "stderr",
     "output_type": "stream",
     "text": [
      "\r",
      " 30%|████████▍                   | 15/50 [1:10:17<2:40:26, 275.03s/it]"
     ]
    },
    {
     "name": "stdout",
     "output_type": "stream",
     "text": [
      "0.5643847625819991 0.24017699751352012\n"
     ]
    },
    {
     "name": "stderr",
     "output_type": "stream",
     "text": [
      "\r",
      " 32%|████████▉                   | 16/50 [1:12:01<2:06:40, 223.53s/it]"
     ]
    },
    {
     "name": "stdout",
     "output_type": "stream",
     "text": [
      "0.8753761395543195 1.0\n"
     ]
    },
    {
     "name": "stderr",
     "output_type": "stream",
     "text": [
      "\r",
      " 34%|█████████▌                  | 17/50 [1:12:57<1:35:10, 173.05s/it]"
     ]
    },
    {
     "name": "stdout",
     "output_type": "stream",
     "text": [
      "0.8718417164003405 0.2826725837256228\n"
     ]
    },
    {
     "name": "stderr",
     "output_type": "stream",
     "text": [
      "\r",
      " 36%|██████████                  | 18/50 [1:18:04<1:53:48, 213.40s/it]"
     ]
    },
    {
     "name": "stdout",
     "output_type": "stream",
     "text": [
      "0.7371165161980822 0.49974904863608827\n"
     ]
    },
    {
     "name": "stderr",
     "output_type": "stream",
     "text": [
      "\r",
      " 38%|██████████▋                 | 19/50 [1:28:20<2:52:45, 334.36s/it]"
     ]
    },
    {
     "name": "stdout",
     "output_type": "stream",
     "text": [
      "0.18212145624765538 0.13140993510500365\n"
     ]
    },
    {
     "name": "stderr",
     "output_type": "stream",
     "text": [
      "\r",
      " 40%|███████████▏                | 20/50 [1:32:42<2:36:17, 312.59s/it]"
     ]
    },
    {
     "name": "stdout",
     "output_type": "stream",
     "text": [
      "0.30740473577277455 0.41057469730982843\n"
     ]
    },
    {
     "name": "stderr",
     "output_type": "stream",
     "text": [
      "\r",
      " 42%|███████████▊                | 21/50 [1:41:29<3:02:07, 376.80s/it]"
     ]
    },
    {
     "name": "stdout",
     "output_type": "stream",
     "text": [
      "0.6675065426416573 0.7744886418535846\n"
     ]
    },
    {
     "name": "stderr",
     "output_type": "stream",
     "text": [
      "\r",
      " 44%|████████████▎               | 22/50 [1:42:35<2:12:21, 283.63s/it]"
     ]
    },
    {
     "name": "stdout",
     "output_type": "stream",
     "text": [
      "0.2224914005287255 0.1\n"
     ]
    },
    {
     "name": "stderr",
     "output_type": "stream",
     "text": [
      "\r",
      " 46%|████████████▉               | 23/50 [1:46:30<2:01:02, 269.00s/it]"
     ]
    },
    {
     "name": "stdout",
     "output_type": "stream",
     "text": [
      "0.9048451348103779 0.657240534946917\n"
     ]
    },
    {
     "name": "stderr",
     "output_type": "stream",
     "text": [
      "\r",
      " 48%|█████████████▍              | 24/50 [1:54:21<2:22:54, 329.78s/it]"
     ]
    },
    {
     "name": "stdout",
     "output_type": "stream",
     "text": [
      "0.17625851316005303 0.10233104711419379\n"
     ]
    },
    {
     "name": "stderr",
     "output_type": "stream",
     "text": [
      "\r",
      " 50%|██████████████              | 25/50 [1:56:08<1:49:29, 262.77s/it]"
     ]
    },
    {
     "name": "stdout",
     "output_type": "stream",
     "text": [
      "0.38539359676430696 0.21424331144746234\n"
     ]
    },
    {
     "name": "stderr",
     "output_type": "stream",
     "text": [
      "\r",
      " 52%|██████████████▌             | 26/50 [2:02:31<1:59:31, 298.81s/it]"
     ]
    },
    {
     "name": "stdout",
     "output_type": "stream",
     "text": [
      "0.9226261336510457 0.9923427043692638\n"
     ]
    },
    {
     "name": "stderr",
     "output_type": "stream",
     "text": [
      "\r",
      " 54%|███████████████             | 27/50 [2:07:16<1:52:58, 294.72s/it]"
     ]
    },
    {
     "name": "stdout",
     "output_type": "stream",
     "text": [
      "0.11870117020797953 0.4077145791101835\n"
     ]
    },
    {
     "name": "stderr",
     "output_type": "stream",
     "text": [
      "\r",
      " 56%|███████████████▋            | 28/50 [2:12:30<1:50:11, 300.51s/it]"
     ]
    },
    {
     "name": "stdout",
     "output_type": "stream",
     "text": [
      "0.4263693392696371 0.3437593877083392\n"
     ]
    },
    {
     "name": "stderr",
     "output_type": "stream",
     "text": [
      "\r",
      " 58%|████████████████▏           | 29/50 [2:13:44<1:21:25, 232.65s/it]"
     ]
    },
    {
     "name": "stdout",
     "output_type": "stream",
     "text": [
      "0.16381281840425466 0.1\n"
     ]
    },
    {
     "name": "stderr",
     "output_type": "stream",
     "text": [
      "\r",
      " 60%|████████████████▊           | 30/50 [2:17:12<1:15:05, 225.29s/it]"
     ]
    },
    {
     "name": "stdout",
     "output_type": "stream",
     "text": [
      "0.752316072247054 0.8203769183627116\n"
     ]
    },
    {
     "name": "stderr",
     "output_type": "stream",
     "text": [
      "\r",
      " 62%|█████████████████▎          | 31/50 [2:19:35<1:03:31, 200.61s/it]"
     ]
    },
    {
     "name": "stdout",
     "output_type": "stream",
     "text": [
      "0.24618001848673188 0.16539305256497736\n"
     ]
    },
    {
     "name": "stderr",
     "output_type": "stream",
     "text": [
      "\r",
      " 64%|█████████████████▉          | 32/50 [2:22:58<1:00:20, 201.16s/it]"
     ]
    },
    {
     "name": "stdout",
     "output_type": "stream",
     "text": [
      "0.25764303250280146 0.28765669047215925\n"
     ]
    },
    {
     "name": "stderr",
     "output_type": "stream",
     "text": [
      "\r",
      " 66%|██████████████████▍         | 33/50 [2:27:15<1:01:44, 217.93s/it]"
     ]
    },
    {
     "name": "stdout",
     "output_type": "stream",
     "text": [
      "0.18983999846177788 0.32046070722344944\n"
     ]
    },
    {
     "name": "stderr",
     "output_type": "stream",
     "text": [
      "\r",
      " 68%|████████████████████▍         | 34/50 [2:27:56<44:00, 165.01s/it]"
     ]
    },
    {
     "name": "stdout",
     "output_type": "stream",
     "text": [
      "0.8891456139201421 0.9948610940809813\n"
     ]
    },
    {
     "name": "stderr",
     "output_type": "stream",
     "text": [
      "\r",
      " 70%|█████████████████████         | 35/50 [2:34:14<57:13, 228.93s/it]"
     ]
    },
    {
     "name": "stdout",
     "output_type": "stream",
     "text": [
      "0.3531484488900437 0.1\n"
     ]
    },
    {
     "name": "stderr",
     "output_type": "stream",
     "text": [
      "\r",
      " 72%|████████████████████▏       | 36/50 [2:41:18<1:07:03, 287.40s/it]"
     ]
    },
    {
     "name": "stdout",
     "output_type": "stream",
     "text": [
      "0.5472300381729487 0.8591114381486539\n"
     ]
    },
    {
     "name": "stderr",
     "output_type": "stream",
     "text": [
      "\r",
      " 74%|██████████████████████▏       | 37/50 [2:43:09<50:45, 234.28s/it]"
     ]
    },
    {
     "name": "stdout",
     "output_type": "stream",
     "text": [
      "0.3871566351253087 0.6908476013747348\n"
     ]
    },
    {
     "name": "stderr",
     "output_type": "stream",
     "text": [
      "\r",
      " 76%|██████████████████████▊       | 38/50 [2:47:08<47:09, 235.79s/it]"
     ]
    },
    {
     "name": "stdout",
     "output_type": "stream",
     "text": [
      "0.13826496579313954 0.11403607080840449\n"
     ]
    },
    {
     "name": "stderr",
     "output_type": "stream",
     "text": [
      " 76%|██████████████████████▊       | 38/50 [2:49:46<53:36, 268.06s/it]\n"
     ]
    },
    {
     "ename": "KeyboardInterrupt",
     "evalue": "",
     "output_type": "error",
     "traceback": [
      "\u001b[0;31m---------------------------------------------------------------------------\u001b[0m",
      "\u001b[0;31mKeyboardInterrupt\u001b[0m                         Traceback (most recent call last)",
      "Cell \u001b[0;32mIn[6], line 18\u001b[0m\n\u001b[1;32m     15\u001b[0m     RT\u001b[38;5;241m.\u001b[39mappend(rt)\n\u001b[1;32m     16\u001b[0m     Theta\u001b[38;5;241m.\u001b[39mappend(theta)\n\u001b[0;32m---> 18\u001b[0m min_ans \u001b[38;5;241m=\u001b[39m \u001b[43mdifferential_evolution\u001b[49m\u001b[43m(\u001b[49m\u001b[43mHSDM_3D_likelihood\u001b[49m\u001b[43m,\u001b[49m\n\u001b[1;32m     19\u001b[0m \u001b[43m                                 \u001b[49m\u001b[43margs\u001b[49m\u001b[38;5;241;43m=\u001b[39;49m\u001b[43m(\u001b[49m\u001b[43mRT\u001b[49m\u001b[43m,\u001b[49m\u001b[43m \u001b[49m\u001b[43mTheta\u001b[49m\u001b[43m)\u001b[49m\u001b[43m,\u001b[49m\u001b[43m \u001b[49m\n\u001b[1;32m     20\u001b[0m \u001b[43m                                 \u001b[49m\u001b[43mbounds\u001b[49m\u001b[38;5;241;43m=\u001b[39;49m\u001b[43m[\u001b[49m\u001b[43m(\u001b[49m\u001b[43mmin_threshold\u001b[49m\u001b[43m,\u001b[49m\u001b[43m \u001b[49m\u001b[43mmax_threshold\u001b[49m\u001b[43m)\u001b[49m\u001b[43m,\u001b[49m\u001b[43m \u001b[49m\n\u001b[1;32m     21\u001b[0m \u001b[43m                                         \u001b[49m\u001b[43m(\u001b[49m\u001b[43mmin_ndt\u001b[49m\u001b[43m,\u001b[49m\u001b[43m \u001b[49m\u001b[43mmax_ndt\u001b[49m\u001b[43m)\u001b[49m\u001b[43m,\u001b[49m\u001b[43m \u001b[49m\u001b[43m(\u001b[49m\u001b[43mmin_eta\u001b[49m\u001b[43m,\u001b[49m\u001b[43m \u001b[49m\u001b[43mmax_eta\u001b[49m\u001b[43m)\u001b[49m\u001b[43m,\u001b[49m\n\u001b[1;32m     22\u001b[0m \u001b[43m                                         \u001b[49m\u001b[43m(\u001b[49m\u001b[43mmin_mu\u001b[49m\u001b[43m,\u001b[49m\u001b[43m \u001b[49m\u001b[43mmax_mu\u001b[49m\u001b[43m)\u001b[49m\u001b[43m,\u001b[49m\u001b[43m \u001b[49m\u001b[43m(\u001b[49m\u001b[43mmin_mu\u001b[49m\u001b[43m,\u001b[49m\u001b[43m \u001b[49m\u001b[43mmax_mu\u001b[49m\u001b[43m)\u001b[49m\u001b[43m,\u001b[49m\u001b[43m \u001b[49m\u001b[43m(\u001b[49m\u001b[43mmin_mu\u001b[49m\u001b[43m,\u001b[49m\u001b[43m \u001b[49m\u001b[43mmax_mu\u001b[49m\u001b[43m)\u001b[49m\u001b[43m]\u001b[49m\u001b[43m)\u001b[49m\n\u001b[1;32m     24\u001b[0m \u001b[38;5;28;01mif\u001b[39;00m min_ans\u001b[38;5;241m.\u001b[39msuccess:\n\u001b[1;32m     25\u001b[0m     recovery_df \u001b[38;5;241m=\u001b[39m pd\u001b[38;5;241m.\u001b[39mDataFrame({\u001b[38;5;124m'\u001b[39m\u001b[38;5;124mthreshold_true\u001b[39m\u001b[38;5;124m'\u001b[39m: [threshold],\n\u001b[1;32m     26\u001b[0m                                 \u001b[38;5;124m'\u001b[39m\u001b[38;5;124mthreshold_estimate\u001b[39m\u001b[38;5;124m'\u001b[39m: [min_ans\u001b[38;5;241m.\u001b[39mx[\u001b[38;5;241m0\u001b[39m]],\n\u001b[1;32m     27\u001b[0m                                 \u001b[38;5;124m'\u001b[39m\u001b[38;5;124mndt_true\u001b[39m\u001b[38;5;124m'\u001b[39m: [ndt],\n\u001b[0;32m   (...)\u001b[0m\n\u001b[1;32m     35\u001b[0m                                 \u001b[38;5;124m'\u001b[39m\u001b[38;5;124mmu3_true\u001b[39m\u001b[38;5;124m'\u001b[39m: [mu[\u001b[38;5;241m0\u001b[39m]],\n\u001b[1;32m     36\u001b[0m                                 \u001b[38;5;124m'\u001b[39m\u001b[38;5;124mmu3_estimate\u001b[39m\u001b[38;5;124m'\u001b[39m: [min_ans\u001b[38;5;241m.\u001b[39mx[\u001b[38;5;241m5\u001b[39m]]})\n",
      "File \u001b[0;32m~/mambaforge/lib/python3.10/site-packages/scipy/optimize/_differentialevolution.py:392\u001b[0m, in \u001b[0;36mdifferential_evolution\u001b[0;34m(func, bounds, args, strategy, maxiter, popsize, tol, mutation, recombination, seed, callback, disp, polish, init, atol, updating, workers, constraints, x0, integrality, vectorized)\u001b[0m\n\u001b[1;32m    375\u001b[0m \u001b[38;5;66;03m# using a context manager means that any created Pool objects are\u001b[39;00m\n\u001b[1;32m    376\u001b[0m \u001b[38;5;66;03m# cleared up.\u001b[39;00m\n\u001b[1;32m    377\u001b[0m \u001b[38;5;28;01mwith\u001b[39;00m DifferentialEvolutionSolver(func, bounds, args\u001b[38;5;241m=\u001b[39margs,\n\u001b[1;32m    378\u001b[0m                                  strategy\u001b[38;5;241m=\u001b[39mstrategy,\n\u001b[1;32m    379\u001b[0m                                  maxiter\u001b[38;5;241m=\u001b[39mmaxiter,\n\u001b[0;32m   (...)\u001b[0m\n\u001b[1;32m    390\u001b[0m                                  integrality\u001b[38;5;241m=\u001b[39mintegrality,\n\u001b[1;32m    391\u001b[0m                                  vectorized\u001b[38;5;241m=\u001b[39mvectorized) \u001b[38;5;28;01mas\u001b[39;00m solver:\n\u001b[0;32m--> 392\u001b[0m     ret \u001b[38;5;241m=\u001b[39m \u001b[43msolver\u001b[49m\u001b[38;5;241;43m.\u001b[39;49m\u001b[43msolve\u001b[49m\u001b[43m(\u001b[49m\u001b[43m)\u001b[49m\n\u001b[1;32m    394\u001b[0m \u001b[38;5;28;01mreturn\u001b[39;00m ret\n",
      "File \u001b[0;32m~/mambaforge/lib/python3.10/site-packages/scipy/optimize/_differentialevolution.py:993\u001b[0m, in \u001b[0;36mDifferentialEvolutionSolver.solve\u001b[0;34m(self)\u001b[0m\n\u001b[1;32m    990\u001b[0m \u001b[38;5;28;01mfor\u001b[39;00m nit \u001b[38;5;129;01min\u001b[39;00m \u001b[38;5;28mrange\u001b[39m(\u001b[38;5;241m1\u001b[39m, \u001b[38;5;28mself\u001b[39m\u001b[38;5;241m.\u001b[39mmaxiter \u001b[38;5;241m+\u001b[39m \u001b[38;5;241m1\u001b[39m):\n\u001b[1;32m    991\u001b[0m     \u001b[38;5;66;03m# evolve the population by a generation\u001b[39;00m\n\u001b[1;32m    992\u001b[0m     \u001b[38;5;28;01mtry\u001b[39;00m:\n\u001b[0;32m--> 993\u001b[0m         \u001b[38;5;28;43mnext\u001b[39;49m\u001b[43m(\u001b[49m\u001b[38;5;28;43mself\u001b[39;49m\u001b[43m)\u001b[49m\n\u001b[1;32m    994\u001b[0m     \u001b[38;5;28;01mexcept\u001b[39;00m \u001b[38;5;167;01mStopIteration\u001b[39;00m:\n\u001b[1;32m    995\u001b[0m         warning_flag \u001b[38;5;241m=\u001b[39m \u001b[38;5;28;01mTrue\u001b[39;00m\n",
      "File \u001b[0;32m~/mambaforge/lib/python3.10/site-packages/scipy/optimize/_differentialevolution.py:1379\u001b[0m, in \u001b[0;36mDifferentialEvolutionSolver.__next__\u001b[0;34m(self)\u001b[0m\n\u001b[1;32m   1377\u001b[0m     feasible \u001b[38;5;241m=\u001b[39m \u001b[38;5;28;01mTrue\u001b[39;00m\n\u001b[1;32m   1378\u001b[0m     cv \u001b[38;5;241m=\u001b[39m np\u001b[38;5;241m.\u001b[39matleast_2d([\u001b[38;5;241m0.\u001b[39m])\n\u001b[0;32m-> 1379\u001b[0m     energy \u001b[38;5;241m=\u001b[39m \u001b[38;5;28;43mself\u001b[39;49m\u001b[38;5;241;43m.\u001b[39;49m\u001b[43mfunc\u001b[49m\u001b[43m(\u001b[49m\u001b[43mparameters\u001b[49m\u001b[43m)\u001b[49m\n\u001b[1;32m   1380\u001b[0m     \u001b[38;5;28mself\u001b[39m\u001b[38;5;241m.\u001b[39m_nfev \u001b[38;5;241m+\u001b[39m\u001b[38;5;241m=\u001b[39m \u001b[38;5;241m1\u001b[39m\n\u001b[1;32m   1382\u001b[0m \u001b[38;5;66;03m# compare trial and population member\u001b[39;00m\n",
      "File \u001b[0;32m~/mambaforge/lib/python3.10/site-packages/scipy/_lib/_util.py:407\u001b[0m, in \u001b[0;36m_FunctionWrapper.__call__\u001b[0;34m(self, x)\u001b[0m\n\u001b[1;32m    406\u001b[0m \u001b[38;5;28;01mdef\u001b[39;00m \u001b[38;5;21m__call__\u001b[39m(\u001b[38;5;28mself\u001b[39m, x):\n\u001b[0;32m--> 407\u001b[0m     \u001b[38;5;28;01mreturn\u001b[39;00m \u001b[38;5;28;43mself\u001b[39;49m\u001b[38;5;241;43m.\u001b[39;49m\u001b[43mf\u001b[49m\u001b[43m(\u001b[49m\u001b[43mx\u001b[49m\u001b[43m,\u001b[49m\u001b[43m \u001b[49m\u001b[38;5;241;43m*\u001b[39;49m\u001b[38;5;28;43mself\u001b[39;49m\u001b[38;5;241;43m.\u001b[39;49m\u001b[43margs\u001b[49m\u001b[43m)\u001b[49m\n",
      "Cell \u001b[0;32mIn[4], line 15\u001b[0m, in \u001b[0;36mHSDM_3D_likelihood\u001b[0;34m(prms, RT, Theta)\u001b[0m\n\u001b[1;32m     12\u001b[0m     fpt \u001b[38;5;241m=\u001b[39m ie_bessel_fpt(a, da, mu\u001b[38;5;241m.\u001b[39mshape[\u001b[38;5;241m0\u001b[39m], \u001b[38;5;241m0.000001\u001b[39m, \n\u001b[1;32m     13\u001b[0m                         dt\u001b[38;5;241m=\u001b[39m\u001b[38;5;241m0.02\u001b[39m, T_max\u001b[38;5;241m=\u001b[39m\u001b[38;5;28mmax\u001b[39m(RT))\n\u001b[1;32m     14\u001b[0m \u001b[38;5;28;01melse\u001b[39;00m:\n\u001b[0;32m---> 15\u001b[0m     fpt \u001b[38;5;241m=\u001b[39m \u001b[43mie_bessel_fpt\u001b[49m\u001b[43m(\u001b[49m\u001b[43ma\u001b[49m\u001b[43m,\u001b[49m\u001b[43m \u001b[49m\u001b[43mda\u001b[49m\u001b[43m,\u001b[49m\u001b[43m \u001b[49m\u001b[43mmu\u001b[49m\u001b[38;5;241;43m.\u001b[39;49m\u001b[43mshape\u001b[49m\u001b[43m[\u001b[49m\u001b[38;5;241;43m0\u001b[39;49m\u001b[43m]\u001b[49m\u001b[43m,\u001b[49m\u001b[43m \u001b[49m\u001b[38;5;241;43m0.000001\u001b[39;49m\u001b[43m,\u001b[49m\u001b[43m \u001b[49m\n\u001b[1;32m     16\u001b[0m \u001b[43m                        \u001b[49m\u001b[43mdt\u001b[49m\u001b[38;5;241;43m=\u001b[39;49m\u001b[38;5;241;43m0.02\u001b[39;49m\u001b[43m,\u001b[49m\u001b[43m \u001b[49m\u001b[43mT_max\u001b[49m\u001b[38;5;241;43m=\u001b[39;49m\u001b[38;5;241;43m4.5\u001b[39;49m\u001b[43m)\u001b[49m\n\u001b[1;32m     18\u001b[0m     fpt_l \u001b[38;5;241m=\u001b[39m ie_bessel_fpt(a, da, mu\u001b[38;5;241m.\u001b[39mshape[\u001b[38;5;241m0\u001b[39m], \u001b[38;5;241m0.000001\u001b[39m, \n\u001b[1;32m     19\u001b[0m                           dt\u001b[38;5;241m=\u001b[39m\u001b[38;5;241m0.1\u001b[39m, T_max\u001b[38;5;241m=\u001b[39m\u001b[38;5;28mmax\u001b[39m(RT))\n\u001b[1;32m     20\u001b[0m log_lik \u001b[38;5;241m=\u001b[39m \u001b[38;5;241m0\u001b[39m\n",
      "Cell \u001b[0;32mIn[3], line 32\u001b[0m, in \u001b[0;36mie_bessel_fpt\u001b[0;34m(a, da, q, z, sigma, dt, T_max)\u001b[0m\n\u001b[1;32m     29\u001b[0m s \u001b[38;5;241m=\u001b[39m \u001b[38;5;241m-\u001b[39m\u001b[38;5;241m2\u001b[39m \u001b[38;5;241m*\u001b[39m psi(a, da, n\u001b[38;5;241m*\u001b[39mdt, z, \u001b[38;5;241m0\u001b[39m, q, sigma)\n\u001b[1;32m     31\u001b[0m \u001b[38;5;28;01mfor\u001b[39;00m j \u001b[38;5;129;01min\u001b[39;00m \u001b[38;5;28mrange\u001b[39m(\u001b[38;5;241m1\u001b[39m, n):\n\u001b[0;32m---> 32\u001b[0m     s \u001b[38;5;241m+\u001b[39m\u001b[38;5;241m=\u001b[39m \u001b[38;5;241m2\u001b[39m \u001b[38;5;241m*\u001b[39m dt \u001b[38;5;241m*\u001b[39m g[j] \u001b[38;5;241m*\u001b[39m \u001b[43mpsi\u001b[49m\u001b[43m(\u001b[49m\u001b[43ma\u001b[49m\u001b[43m,\u001b[49m\u001b[43m \u001b[49m\u001b[43mda\u001b[49m\u001b[43m,\u001b[49m\u001b[43m \u001b[49m\u001b[43mn\u001b[49m\u001b[38;5;241;43m*\u001b[39;49m\u001b[43mdt\u001b[49m\u001b[43m,\u001b[49m\u001b[43m \u001b[49m\u001b[43ma\u001b[49m\u001b[43m(\u001b[49m\u001b[43mj\u001b[49m\u001b[38;5;241;43m*\u001b[39;49m\u001b[43mdt\u001b[49m\u001b[43m)\u001b[49m\u001b[43m,\u001b[49m\u001b[43m \u001b[49m\u001b[43mj\u001b[49m\u001b[38;5;241;43m*\u001b[39;49m\u001b[43mdt\u001b[49m\u001b[43m,\u001b[49m\u001b[43m \u001b[49m\u001b[43mq\u001b[49m\u001b[43m,\u001b[49m\u001b[43m \u001b[49m\u001b[43msigma\u001b[49m\u001b[43m)\u001b[49m\n\u001b[1;32m     34\u001b[0m g\u001b[38;5;241m.\u001b[39mappend(s)\n\u001b[1;32m     35\u001b[0m T\u001b[38;5;241m.\u001b[39mappend(n\u001b[38;5;241m*\u001b[39mdt)\n",
      "Cell \u001b[0;32mIn[3], line 8\u001b[0m, in \u001b[0;36mpsi\u001b[0;34m(a, da, t, z, tau, q, sigma)\u001b[0m\n\u001b[1;32m      5\u001b[0m kk \u001b[38;5;241m=\u001b[39m k(a, da, t, q, sigma)\n\u001b[1;32m      7\u001b[0m \u001b[38;5;28;01mif\u001b[39;00m \u001b[38;5;241m2\u001b[39m\u001b[38;5;241m*\u001b[39mnp\u001b[38;5;241m.\u001b[39msqrt(a(t)\u001b[38;5;241m*\u001b[39mz)\u001b[38;5;241m/\u001b[39m(sigma\u001b[38;5;241m*\u001b[39m(t\u001b[38;5;241m-\u001b[39mtau))\u001b[38;5;241m<\u001b[39m\u001b[38;5;241m=\u001b[39m\u001b[38;5;241m700\u001b[39m:\n\u001b[0;32m----> 8\u001b[0m     term1 \u001b[38;5;241m=\u001b[39m \u001b[38;5;241m1.\u001b[39m\u001b[38;5;241m/\u001b[39m(sigma\u001b[38;5;241m*\u001b[39m(t \u001b[38;5;241m-\u001b[39m tau)) \u001b[38;5;241m*\u001b[39m \u001b[43mnp\u001b[49m\u001b[38;5;241;43m.\u001b[39;49m\u001b[43mexp\u001b[49m\u001b[43m(\u001b[49m\u001b[38;5;241;43m-\u001b[39;49m\u001b[43m \u001b[49m\u001b[43m(\u001b[49m\u001b[43ma\u001b[49m\u001b[43m(\u001b[49m\u001b[43mt\u001b[49m\u001b[43m)\u001b[49m\u001b[43m \u001b[49m\u001b[38;5;241;43m+\u001b[39;49m\u001b[43m \u001b[49m\u001b[43mz\u001b[49m\u001b[43m)\u001b[49m\u001b[38;5;241;43m/\u001b[39;49m\u001b[43m(\u001b[49m\u001b[43msigma\u001b[49m\u001b[38;5;241;43m*\u001b[39;49m\u001b[43m(\u001b[49m\u001b[43mt\u001b[49m\u001b[38;5;241;43m-\u001b[39;49m\u001b[43mtau\u001b[49m\u001b[43m)\u001b[49m\u001b[43m)\u001b[49m\u001b[43m)\u001b[49m\n\u001b[1;32m      9\u001b[0m     term2 \u001b[38;5;241m=\u001b[39m (a(t)\u001b[38;5;241m/\u001b[39mz)\u001b[38;5;241m*\u001b[39m\u001b[38;5;241m*\u001b[39m(\u001b[38;5;241m0.5\u001b[39m\u001b[38;5;241m*\u001b[39m(q\u001b[38;5;241m-\u001b[39msigma)\u001b[38;5;241m/\u001b[39msigma)\n\u001b[1;32m     10\u001b[0m     term3 \u001b[38;5;241m=\u001b[39m da(t) \u001b[38;5;241m-\u001b[39m (a(t)\u001b[38;5;241m/\u001b[39m(t\u001b[38;5;241m-\u001b[39mtau)) \u001b[38;5;241m+\u001b[39m kk\n",
      "\u001b[0;31mKeyboardInterrupt\u001b[0m: "
     ]
    }
   ],
   "source": [
    "for n in tqdm(range(50)):\n",
    "    threshold = np.random.uniform(min_threshold, max_threshold)\n",
    "    a = lambda t: threshold\n",
    "    ndt = np.random.uniform(min_ndt, max_ndt)\n",
    "    eta = np.random.uniform(min_eta, max_eta)\n",
    "    mu = np.array([np.random.uniform(min_mu, max_mu), \n",
    "                   np.random.uniform(min_mu, max_mu),\n",
    "                   np.random.uniform(min_mu, max_mu)])    \n",
    "    \n",
    "    RT = []\n",
    "    Theta = []\n",
    "    \n",
    "    for i in range(500):\n",
    "        rt, theta = simulate_HSDM_3D(a, mu, eta, ndt)\n",
    "        RT.append(rt)\n",
    "        Theta.append(theta)\n",
    "    \n",
    "    min_ans = differential_evolution(HSDM_3D_likelihood,\n",
    "                                     args=(RT, Theta), \n",
    "                                     bounds=[(min_threshold, max_threshold), \n",
    "                                             (min_ndt, max_ndt), (min_eta, max_eta),\n",
    "                                             (min_mu, max_mu), (min_mu, max_mu), (min_mu, max_mu)])\n",
    "    \n",
    "    if min_ans.success:\n",
    "        recovery_df = pd.DataFrame({'threshold_true': [threshold],\n",
    "                                    'threshold_estimate': [min_ans.x[0]],\n",
    "                                    'ndt_true': [ndt],\n",
    "                                    'ndt_estimate': [min_ans.x[1]],\n",
    "                                    'eta_true': [eta],\n",
    "                                    'eta_estimate': [min_ans.x[2]],\n",
    "                                    'mu1_true': [mu[2]],\n",
    "                                    'mu1_estimate': [min_ans.x[3]],\n",
    "                                    'mu2_true': [mu[1]],\n",
    "                                    'mu2_estimate': [min_ans.x[4]],\n",
    "                                    'mu3_true': [mu[0]],\n",
    "                                    'mu3_estimate': [min_ans.x[5]]})\n",
    "        \n",
    "        print(eta, min_ans.x[2])\n",
    "        \n",
    "        old_recovery_data = pd.read_csv(file_name, index_col=0)\n",
    "        recovery_df = pd.concat([old_recovery_data, recovery_df]).reset_index(drop=True)\n",
    "        recovery_df.to_csv(file_name)"
   ]
  },
  {
   "cell_type": "code",
   "execution_count": null,
   "id": "bdf45523",
   "metadata": {},
   "outputs": [],
   "source": []
  }
 ],
 "metadata": {
  "kernelspec": {
   "display_name": "Python 3 (ipykernel)",
   "language": "python",
   "name": "python3"
  },
  "language_info": {
   "codemirror_mode": {
    "name": "ipython",
    "version": 3
   },
   "file_extension": ".py",
   "mimetype": "text/x-python",
   "name": "python",
   "nbconvert_exporter": "python",
   "pygments_lexer": "ipython3",
   "version": "3.10.6"
  }
 },
 "nbformat": 4,
 "nbformat_minor": 5
}
