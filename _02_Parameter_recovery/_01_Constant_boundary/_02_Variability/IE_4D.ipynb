{
 "cells": [
  {
   "cell_type": "code",
   "execution_count": 1,
   "id": "e52e3847",
   "metadata": {},
   "outputs": [],
   "source": [
    "import numpy as np\n",
    "import pandas as pd\n",
    "from tqdm import tqdm\n",
    "\n",
    "from mpmath import besseljzero\n",
    "from scipy.special import gamma\n",
    "from scipy.special import jv, iv, ive\n",
    "from scipy.optimize import differential_evolution\n",
    "from scipy.interpolate import interp1d\n",
    "\n",
    "from scipy.stats import pearsonr\n",
    "from sklearn.metrics import r2_score\n",
    "\n",
    "import seaborn as sns\n",
    "import matplotlib.pyplot as plt"
   ]
  },
  {
   "cell_type": "code",
   "execution_count": 2,
   "id": "5d89b181",
   "metadata": {},
   "outputs": [],
   "source": [
    "def simulate_HSDM_4D(a, mu, eta, ndt, sigma=1, dt=0.001):\n",
    "    x = np.zeros(mu.shape)\n",
    "    \n",
    "    rt = 0\n",
    "    \n",
    "    mu_t = np.random.normal(mu, eta)\n",
    "    while np.linalg.norm(x, 2) < a(rt):\n",
    "        x += mu_t*dt + sigma*np.sqrt(dt)*np.random.normal(0, 1, mu.shape)\n",
    "        rt += dt\n",
    "    \n",
    "    theta1 = np.arctan2(np.sqrt(x[3]**2 + x[2]**2 + x[1]**2), x[0])\n",
    "    theta2 = np.arctan2(np.sqrt(x[3]**2 + x[2]**2), x[1])\n",
    "    theta3 = np.arctan2(x[3], x[2])\n",
    "    \n",
    "    \n",
    "    return rt+ndt, (theta1, theta2, theta3)"
   ]
  },
  {
   "cell_type": "code",
   "execution_count": 3,
   "id": "337f9f8b",
   "metadata": {},
   "outputs": [],
   "source": [
    "def k(a, da, t, q, sigma=2):\n",
    "    return 0.5 * (q - 0.5*sigma - da(t))\n",
    "\n",
    "def psi(a, da, t, z, tau, q, sigma=2):\n",
    "    kk = k(a, da, t, q, sigma)\n",
    "    \n",
    "    if 2*np.sqrt(a(t)*z)/(sigma*(t-tau))<=700:\n",
    "        term1 = 1./(sigma*(t - tau)) * np.exp(- (a(t) + z)/(sigma*(t-tau)))\n",
    "        term2 = (a(t)/z)**(0.5*(q-sigma)/sigma)\n",
    "        term3 = da(t) - (a(t)/(t-tau)) + kk\n",
    "        term4 = iv(q/sigma-1, 2*np.sqrt(a(t)*z)/(sigma*(t-tau)))\n",
    "        term5 = (np.sqrt(a(t)*z)/(t-tau)) * iv(q/sigma, 2*np.sqrt(a(t)*z)/(sigma*(t-tau)))\n",
    "    else:\n",
    "        term1 = 1./(sigma*(t - tau))\n",
    "        term2 = (a(t)/z)**(0.5*(q-sigma)/sigma)\n",
    "        term3 = da(t) - (a(t)/(t-tau)) + kk\n",
    "        term4 = ive(q/sigma-1, (a(t) + z)/(sigma*(t-tau)))\n",
    "        term5 = (np.sqrt(a(t)*z)/(t-tau)) * ive(q/sigma, (a(t) + z)/(sigma*(t-tau)))\n",
    "    \n",
    "    return term1 * term2 * (term3 * term4 + term5)\n",
    "\n",
    "def ie_bessel_fpt(a, da, q, z, sigma=2, dt=0.1, T_max=2):\n",
    "    g = [0]\n",
    "    T = [0]\n",
    "    g.append(-2*psi(a, da, dt, z, 0, q, sigma))\n",
    "    T.append(dt)\n",
    "    \n",
    "    for n in range(2, int(T_max/dt)+2):\n",
    "        s = -2 * psi(a, da, n*dt, z, 0, q, sigma)\n",
    "\n",
    "        for j in range(1, n):\n",
    "            s += 2 * dt * g[j] * psi(a, da, n*dt, a(j*dt), j*dt, q, sigma)\n",
    "\n",
    "        g.append(s)\n",
    "        T.append(n*dt)\n",
    "        \n",
    "    g = np.asarray(g)\n",
    "    T = np.asarray(T)\n",
    "    \n",
    "    gt = interp1d(T, g)\n",
    "    return gt"
   ]
  },
  {
   "cell_type": "code",
   "execution_count": 4,
   "id": "fd588e9b",
   "metadata": {},
   "outputs": [],
   "source": [
    "def HSDM_4D_likelihood(prms, RT, Theta):\n",
    "    a = lambda t: prms[0]**2\n",
    "    da = lambda t: 0\n",
    "    ndt = prms[1]\n",
    "    \n",
    "    eta = prms[2]\n",
    "    eta2 = eta**2\n",
    "    \n",
    "    mu = np.array([prms[3], prms[4], prms[5], prms[6]])\n",
    "    \n",
    "    if max(RT) <= 4.5:\n",
    "        fpt = ie_bessel_fpt(a, da, mu.shape[0], 0.000001, \n",
    "                            dt=0.02, T_max=max(RT))\n",
    "    else:\n",
    "        fpt = ie_bessel_fpt(a, da, mu.shape[0], 0.000001, \n",
    "                            dt=0.02, T_max=4.5)\n",
    "        \n",
    "        fpt_l = ie_bessel_fpt(a, da, mu.shape[0], 0.000001, \n",
    "                              dt=0.1, T_max=max(RT))\n",
    "    \n",
    "    log_lik = 0\n",
    "    for i in range(len(RT)):\n",
    "        rt, theta = RT[i], Theta[i]\n",
    "        if rt - ndt > 0.001:\n",
    "            x3 =  prms[0]*np.cos(theta[0])\n",
    "            x2 =  prms[0]*np.sin(theta[0])*np.cos(theta[1])\n",
    "            x1 =  prms[0]*np.sin(theta[0])*np.sin(theta[1])*np.cos(theta[2])\n",
    "            x0 =  prms[0]*np.sin(theta[0])*np.sin(theta[1])*np.sin(theta[2])\n",
    "            fixed = 1/(np.sqrt(eta2 * (rt - ndt) + 1))\n",
    "            exponent0 = -0.5*mu[0]**2/eta2 + 0.5*(x0 * eta2 + mu[0])**2 / (eta2 * (eta2 * (rt - ndt) + 1))\n",
    "            exponent1 = -0.5*mu[1]**2/eta2 + 0.5*(x1 * eta2 + mu[1])**2 / (eta2 * (eta2 * (rt - ndt) + 1))\n",
    "            exponent2 = -0.5*mu[2]**2/eta2 + 0.5*(x2 * eta2 + mu[2])**2 / (eta2 * (eta2 * (rt - ndt) + 1))\n",
    "            exponent3 = -0.5*mu[3]**2/eta2 + 0.5*(x3 * eta2 + mu[3])**2 / (eta2 * (eta2 * (rt - ndt) + 1))\n",
    "            term1 = fixed * np.exp(exponent0)\n",
    "            term2 = fixed * np.exp(exponent1)\n",
    "            term3 = fixed * np.exp(exponent2)\n",
    "            term4 = fixed * np.exp(exponent3)\n",
    "            \n",
    "            if rt - ndt <= 4.5:\n",
    "                density = term1 * term2 * term3 * term4 * fpt(rt - ndt)\n",
    "            else:\n",
    "                density = term1 * term2 * term3 * term4 * fpt_l(rt - ndt)\n",
    "            \n",
    "            if 0.1**14 < density:\n",
    "                log_lik += -np.log(density)\n",
    "            else:\n",
    "                log_lik += -np.log(0.1**14)\n",
    "        else:\n",
    "            log_lik += -np.log(0.1**14)\n",
    "        \n",
    "    return log_lik"
   ]
  },
  {
   "cell_type": "code",
   "execution_count": 5,
   "id": "ebf10509",
   "metadata": {},
   "outputs": [],
   "source": [
    "min_threshold = 1\n",
    "max_threshold = 3\n",
    "\n",
    "min_ndt = 0.1\n",
    "max_ndt = 1\n",
    "\n",
    "min_eta = 0.1\n",
    "max_eta = 1\n",
    "\n",
    "min_mu = -2.5\n",
    "max_mu = 2.5\n",
    "\n",
    "file_name = '_Recovery_data/IE_4d_recovery_dvar.csv'"
   ]
  },
  {
   "cell_type": "code",
   "execution_count": 6,
   "id": "b1dec979",
   "metadata": {
    "scrolled": false
   },
   "outputs": [
    {
     "name": "stderr",
     "output_type": "stream",
     "text": [
      "  2%|▋                               | 1/50 [01:20<1:05:26, 80.12s/it]"
     ]
    },
    {
     "name": "stdout",
     "output_type": "stream",
     "text": [
      "0.8767882691946569 1.0\n"
     ]
    },
    {
     "name": "stderr",
     "output_type": "stream",
     "text": [
      "\r",
      "  4%|█▏                             | 2/50 [09:22<4:13:13, 316.53s/it]"
     ]
    },
    {
     "name": "stdout",
     "output_type": "stream",
     "text": [
      "0.3894857874182703 0.42151543473429076\n"
     ]
    },
    {
     "name": "stderr",
     "output_type": "stream",
     "text": [
      "\r",
      "  6%|█▊                             | 3/50 [10:27<2:38:07, 201.86s/it]"
     ]
    },
    {
     "name": "stdout",
     "output_type": "stream",
     "text": [
      "0.38246501373795744 0.3754221912453365\n"
     ]
    },
    {
     "name": "stderr",
     "output_type": "stream",
     "text": [
      "\r",
      "  8%|██▍                            | 4/50 [12:02<2:02:19, 159.56s/it]"
     ]
    },
    {
     "name": "stdout",
     "output_type": "stream",
     "text": [
      "0.3747188893506799 0.3203287958374855\n"
     ]
    },
    {
     "name": "stderr",
     "output_type": "stream",
     "text": [
      "\r",
      " 10%|███                            | 5/50 [20:35<3:35:26, 287.27s/it]"
     ]
    },
    {
     "name": "stdout",
     "output_type": "stream",
     "text": [
      "0.681570231712616 0.7002307254577741\n"
     ]
    },
    {
     "name": "stderr",
     "output_type": "stream",
     "text": [
      "\r",
      " 12%|███▋                           | 6/50 [21:59<2:39:46, 217.88s/it]"
     ]
    },
    {
     "name": "stdout",
     "output_type": "stream",
     "text": [
      "0.34071750655801397 0.1\n"
     ]
    },
    {
     "name": "stderr",
     "output_type": "stream",
     "text": [
      "\r",
      " 14%|████▎                          | 7/50 [25:31<2:34:58, 216.24s/it]"
     ]
    },
    {
     "name": "stdout",
     "output_type": "stream",
     "text": [
      "0.5627800385293538 0.784889370415139\n"
     ]
    },
    {
     "name": "stderr",
     "output_type": "stream",
     "text": [
      "\r",
      " 16%|████▉                          | 8/50 [28:09<2:18:21, 197.65s/it]"
     ]
    },
    {
     "name": "stdout",
     "output_type": "stream",
     "text": [
      "0.8901843466064353 0.908647782781985\n"
     ]
    },
    {
     "name": "stderr",
     "output_type": "stream",
     "text": [
      "\r",
      " 18%|█████▌                         | 9/50 [33:20<2:39:07, 232.87s/it]"
     ]
    },
    {
     "name": "stdout",
     "output_type": "stream",
     "text": [
      "0.7561513830102243 0.8415114626513712\n"
     ]
    },
    {
     "name": "stderr",
     "output_type": "stream",
     "text": [
      "\r",
      " 20%|██████                        | 10/50 [37:56<2:44:12, 246.32s/it]"
     ]
    },
    {
     "name": "stdout",
     "output_type": "stream",
     "text": [
      "0.6573785090160121 0.3014780732258877\n"
     ]
    },
    {
     "name": "stderr",
     "output_type": "stream",
     "text": [
      "\r",
      " 22%|██████▌                       | 11/50 [40:56<2:26:54, 226.01s/it]"
     ]
    },
    {
     "name": "stdout",
     "output_type": "stream",
     "text": [
      "0.4962952715240411 0.16971397214221434\n"
     ]
    },
    {
     "name": "stderr",
     "output_type": "stream",
     "text": [
      "\r",
      " 24%|███████▏                      | 12/50 [45:16<2:29:37, 236.24s/it]"
     ]
    },
    {
     "name": "stdout",
     "output_type": "stream",
     "text": [
      "0.9876677978239199 0.9893767702577952\n"
     ]
    },
    {
     "name": "stderr",
     "output_type": "stream",
     "text": [
      "\r",
      " 26%|███████▊                      | 13/50 [48:00<2:12:13, 214.42s/it]"
     ]
    },
    {
     "name": "stdout",
     "output_type": "stream",
     "text": [
      "0.5918680827350249 0.7835932188860455\n"
     ]
    },
    {
     "name": "stderr",
     "output_type": "stream",
     "text": [
      "\r",
      " 28%|████████▍                     | 14/50 [54:17<2:38:09, 263.58s/it]"
     ]
    },
    {
     "name": "stdout",
     "output_type": "stream",
     "text": [
      "0.5678691436292976 0.7109746446324723\n"
     ]
    },
    {
     "name": "stderr",
     "output_type": "stream",
     "text": [
      "\r",
      " 30%|█████████                     | 15/50 [57:17<2:18:59, 238.28s/it]"
     ]
    },
    {
     "name": "stdout",
     "output_type": "stream",
     "text": [
      "0.7445779912121714 0.9174844349301325\n"
     ]
    },
    {
     "name": "stderr",
     "output_type": "stream",
     "text": [
      "\r",
      " 32%|█████████▌                    | 16/50 [59:12<1:54:07, 201.39s/it]"
     ]
    },
    {
     "name": "stdout",
     "output_type": "stream",
     "text": [
      "0.6556574921755556 0.5599674489402291\n"
     ]
    },
    {
     "name": "stderr",
     "output_type": "stream",
     "text": [
      "\r",
      " 34%|█████████▌                  | 17/50 [1:00:23<1:29:09, 162.11s/it]"
     ]
    },
    {
     "name": "stdout",
     "output_type": "stream",
     "text": [
      "0.7165914090792083 1.0\n"
     ]
    },
    {
     "name": "stderr",
     "output_type": "stream",
     "text": [
      "\r",
      " 36%|██████████                  | 18/50 [1:01:25<1:10:19, 131.87s/it]"
     ]
    },
    {
     "name": "stdout",
     "output_type": "stream",
     "text": [
      "0.28911477424076065 0.44109988012809975\n"
     ]
    },
    {
     "name": "stderr",
     "output_type": "stream",
     "text": [
      "\r",
      " 38%|██████████▋                 | 19/50 [1:03:18<1:05:14, 126.29s/it]"
     ]
    },
    {
     "name": "stdout",
     "output_type": "stream",
     "text": [
      "0.22887895763799748 0.1\n"
     ]
    },
    {
     "name": "stderr",
     "output_type": "stream",
     "text": [
      "\r",
      " 40%|███████████▏                | 20/50 [1:05:39<1:05:23, 130.79s/it]"
     ]
    },
    {
     "name": "stdout",
     "output_type": "stream",
     "text": [
      "0.1055837383474254 0.1\n"
     ]
    },
    {
     "name": "stderr",
     "output_type": "stream",
     "text": [
      "\r",
      " 42%|███████████▊                | 21/50 [1:07:56<1:04:03, 132.52s/it]"
     ]
    },
    {
     "name": "stdout",
     "output_type": "stream",
     "text": [
      "0.6020993820331643 0.2532024186228405\n"
     ]
    },
    {
     "name": "stderr",
     "output_type": "stream",
     "text": [
      "\r",
      " 44%|█████████████▏                | 22/50 [1:09:49<59:04, 126.59s/it]"
     ]
    },
    {
     "name": "stdout",
     "output_type": "stream",
     "text": [
      "0.7805365736578652 1.0\n"
     ]
    },
    {
     "name": "stderr",
     "output_type": "stream",
     "text": [
      "\r",
      " 46%|████████████▉               | 23/50 [1:12:27<1:01:19, 136.28s/it]"
     ]
    },
    {
     "name": "stdout",
     "output_type": "stream",
     "text": [
      "0.23845557904106537 0.49244066045067025\n"
     ]
    },
    {
     "name": "stderr",
     "output_type": "stream",
     "text": [
      "\r",
      " 48%|█████████████▍              | 24/50 [1:14:55<1:00:27, 139.51s/it]"
     ]
    },
    {
     "name": "stdout",
     "output_type": "stream",
     "text": [
      "0.5925718650745722 0.601998933558765\n"
     ]
    },
    {
     "name": "stderr",
     "output_type": "stream",
     "text": [
      "\r",
      " 50%|██████████████              | 25/50 [1:17:31<1:00:14, 144.58s/it]"
     ]
    },
    {
     "name": "stdout",
     "output_type": "stream",
     "text": [
      "0.32356229158946986 0.7042065272344928\n"
     ]
    },
    {
     "name": "stderr",
     "output_type": "stream",
     "text": [
      "\r",
      " 52%|██████████████▌             | 26/50 [1:20:30<1:01:57, 154.90s/it]"
     ]
    },
    {
     "name": "stdout",
     "output_type": "stream",
     "text": [
      "0.13561749048700775 0.1\n"
     ]
    },
    {
     "name": "stderr",
     "output_type": "stream",
     "text": [
      "\r",
      " 54%|███████████████             | 27/50 [1:23:29<1:02:11, 162.25s/it]"
     ]
    },
    {
     "name": "stdout",
     "output_type": "stream",
     "text": [
      "0.20415391279541203 0.7030434375180111\n"
     ]
    },
    {
     "name": "stderr",
     "output_type": "stream",
     "text": [
      "\r",
      " 56%|████████████████▊             | 28/50 [1:24:55<51:03, 139.26s/it]"
     ]
    },
    {
     "name": "stdout",
     "output_type": "stream",
     "text": [
      "0.7180945237306747 0.7975180464796847\n"
     ]
    },
    {
     "name": "stderr",
     "output_type": "stream",
     "text": [
      "\r",
      " 58%|█████████████████▍            | 29/50 [1:26:20<43:04, 123.05s/it]"
     ]
    },
    {
     "name": "stdout",
     "output_type": "stream",
     "text": [
      "0.858914652681155 0.1\n"
     ]
    },
    {
     "name": "stderr",
     "output_type": "stream",
     "text": [
      "\r",
      " 60%|████████████████▊           | 30/50 [1:34:57<1:20:22, 241.10s/it]"
     ]
    },
    {
     "name": "stdout",
     "output_type": "stream",
     "text": [
      "0.9916323051178945 0.9634603575628179\n"
     ]
    },
    {
     "name": "stderr",
     "output_type": "stream",
     "text": [
      "\r",
      " 62%|█████████████████▎          | 31/50 [1:38:55<1:16:02, 240.15s/it]"
     ]
    },
    {
     "name": "stdout",
     "output_type": "stream",
     "text": [
      "0.4754091025940805 0.628336207627848\n"
     ]
    },
    {
     "name": "stderr",
     "output_type": "stream",
     "text": [
      "\r",
      " 64%|███████████████████▏          | 32/50 [1:39:46<55:05, 183.63s/it]"
     ]
    },
    {
     "name": "stdout",
     "output_type": "stream",
     "text": [
      "0.5692294465280942 0.1\n"
     ]
    },
    {
     "name": "stderr",
     "output_type": "stream",
     "text": [
      "\r",
      " 66%|███████████████████▊          | 33/50 [1:41:17<44:07, 155.71s/it]"
     ]
    },
    {
     "name": "stdout",
     "output_type": "stream",
     "text": [
      "0.9623699295340004 0.9912602080636013\n"
     ]
    },
    {
     "name": "stderr",
     "output_type": "stream",
     "text": [
      "\r",
      " 68%|████████████████████▍         | 34/50 [1:42:24<34:27, 129.24s/it]"
     ]
    },
    {
     "name": "stdout",
     "output_type": "stream",
     "text": [
      "0.8412324224578319 0.7450175083059268\n"
     ]
    },
    {
     "name": "stderr",
     "output_type": "stream",
     "text": [
      "\r",
      " 70%|█████████████████████         | 35/50 [1:45:32<36:40, 146.68s/it]"
     ]
    },
    {
     "name": "stdout",
     "output_type": "stream",
     "text": [
      "0.33984639793582466 0.2742984539598381\n"
     ]
    },
    {
     "name": "stderr",
     "output_type": "stream",
     "text": [
      "\r",
      " 72%|█████████████████████▌        | 36/50 [1:49:42<41:29, 177.82s/it]"
     ]
    },
    {
     "name": "stdout",
     "output_type": "stream",
     "text": [
      "0.6516256073150575 0.1\n"
     ]
    },
    {
     "name": "stderr",
     "output_type": "stream",
     "text": [
      "\r",
      " 74%|██████████████████████▏       | 37/50 [1:52:30<37:51, 174.75s/it]"
     ]
    },
    {
     "name": "stdout",
     "output_type": "stream",
     "text": [
      "0.373084829306693 0.35954963374535176\n"
     ]
    },
    {
     "name": "stderr",
     "output_type": "stream",
     "text": [
      "\r",
      " 76%|██████████████████████▊       | 38/50 [1:54:49<32:48, 164.01s/it]"
     ]
    },
    {
     "name": "stdout",
     "output_type": "stream",
     "text": [
      "0.9182796767413506 0.9973025244962223\n"
     ]
    },
    {
     "name": "stderr",
     "output_type": "stream",
     "text": [
      "\r",
      " 78%|███████████████████████▍      | 39/50 [1:55:55<24:41, 134.68s/it]"
     ]
    },
    {
     "name": "stdout",
     "output_type": "stream",
     "text": [
      "0.7218155514910929 0.1\n"
     ]
    },
    {
     "name": "stderr",
     "output_type": "stream",
     "text": [
      "\r",
      " 80%|████████████████████████      | 40/50 [1:58:25<23:12, 139.30s/it]"
     ]
    },
    {
     "name": "stdout",
     "output_type": "stream",
     "text": [
      "0.35332202986064376 0.8318245072790181\n"
     ]
    },
    {
     "name": "stderr",
     "output_type": "stream",
     "text": [
      " 80%|████████████████████████      | 40/50 [2:02:27<30:36, 183.69s/it]\n"
     ]
    },
    {
     "ename": "KeyboardInterrupt",
     "evalue": "",
     "output_type": "error",
     "traceback": [
      "\u001b[0;31m---------------------------------------------------------------------------\u001b[0m",
      "\u001b[0;31mKeyboardInterrupt\u001b[0m                         Traceback (most recent call last)",
      "Cell \u001b[0;32mIn[6], line 19\u001b[0m\n\u001b[1;32m     16\u001b[0m     RT\u001b[38;5;241m.\u001b[39mappend(rt)\n\u001b[1;32m     17\u001b[0m     Theta\u001b[38;5;241m.\u001b[39mappend(theta)\n\u001b[0;32m---> 19\u001b[0m min_ans \u001b[38;5;241m=\u001b[39m \u001b[43mdifferential_evolution\u001b[49m\u001b[43m(\u001b[49m\u001b[43mHSDM_4D_likelihood\u001b[49m\u001b[43m,\u001b[49m\n\u001b[1;32m     20\u001b[0m \u001b[43m                                 \u001b[49m\u001b[43margs\u001b[49m\u001b[38;5;241;43m=\u001b[39;49m\u001b[43m(\u001b[49m\u001b[43mRT\u001b[49m\u001b[43m,\u001b[49m\u001b[43m \u001b[49m\u001b[43mTheta\u001b[49m\u001b[43m)\u001b[49m\u001b[43m,\u001b[49m\n\u001b[1;32m     21\u001b[0m \u001b[43m                                 \u001b[49m\u001b[43mbounds\u001b[49m\u001b[38;5;241;43m=\u001b[39;49m\u001b[43m[\u001b[49m\u001b[43m(\u001b[49m\u001b[43mmin_threshold\u001b[49m\u001b[43m,\u001b[49m\u001b[43m \u001b[49m\u001b[43mmax_threshold\u001b[49m\u001b[43m)\u001b[49m\u001b[43m,\u001b[49m\u001b[43m \u001b[49m\n\u001b[1;32m     22\u001b[0m \u001b[43m                                         \u001b[49m\u001b[43m(\u001b[49m\u001b[43mmin_ndt\u001b[49m\u001b[43m,\u001b[49m\u001b[43m \u001b[49m\u001b[43mmax_ndt\u001b[49m\u001b[43m)\u001b[49m\u001b[43m,\u001b[49m\u001b[43m \u001b[49m\u001b[43m(\u001b[49m\u001b[43mmin_eta\u001b[49m\u001b[43m,\u001b[49m\u001b[43m \u001b[49m\u001b[43mmax_eta\u001b[49m\u001b[43m)\u001b[49m\u001b[43m,\u001b[49m\n\u001b[1;32m     23\u001b[0m \u001b[43m                                         \u001b[49m\u001b[43m(\u001b[49m\u001b[43mmin_mu\u001b[49m\u001b[43m,\u001b[49m\u001b[43m \u001b[49m\u001b[43mmax_mu\u001b[49m\u001b[43m)\u001b[49m\u001b[43m,\u001b[49m\u001b[43m \u001b[49m\u001b[43m(\u001b[49m\u001b[43mmin_mu\u001b[49m\u001b[43m,\u001b[49m\u001b[43m \u001b[49m\u001b[43mmax_mu\u001b[49m\u001b[43m)\u001b[49m\u001b[43m,\u001b[49m\u001b[43m \u001b[49m\n\u001b[1;32m     24\u001b[0m \u001b[43m                                         \u001b[49m\u001b[43m(\u001b[49m\u001b[43mmin_mu\u001b[49m\u001b[43m,\u001b[49m\u001b[43m \u001b[49m\u001b[43mmax_mu\u001b[49m\u001b[43m)\u001b[49m\u001b[43m,\u001b[49m\u001b[43m \u001b[49m\u001b[43m(\u001b[49m\u001b[43mmin_mu\u001b[49m\u001b[43m,\u001b[49m\u001b[43m \u001b[49m\u001b[43mmax_mu\u001b[49m\u001b[43m)\u001b[49m\u001b[43m]\u001b[49m\u001b[43m)\u001b[49m\n\u001b[1;32m     26\u001b[0m \u001b[38;5;28;01mif\u001b[39;00m min_ans\u001b[38;5;241m.\u001b[39msuccess:\n\u001b[1;32m     27\u001b[0m     recovery_df \u001b[38;5;241m=\u001b[39m pd\u001b[38;5;241m.\u001b[39mDataFrame({\u001b[38;5;124m'\u001b[39m\u001b[38;5;124mthreshold_true\u001b[39m\u001b[38;5;124m'\u001b[39m: [threshold],\n\u001b[1;32m     28\u001b[0m                                 \u001b[38;5;124m'\u001b[39m\u001b[38;5;124mthreshold_estimate\u001b[39m\u001b[38;5;124m'\u001b[39m: [min_ans\u001b[38;5;241m.\u001b[39mx[\u001b[38;5;241m0\u001b[39m]],\n\u001b[1;32m     29\u001b[0m                                 \u001b[38;5;124m'\u001b[39m\u001b[38;5;124mndt_true\u001b[39m\u001b[38;5;124m'\u001b[39m: [ndt],\n\u001b[0;32m   (...)\u001b[0m\n\u001b[1;32m     39\u001b[0m                                 \u001b[38;5;124m'\u001b[39m\u001b[38;5;124mmu4_true\u001b[39m\u001b[38;5;124m'\u001b[39m: [mu[\u001b[38;5;241m0\u001b[39m]],\n\u001b[1;32m     40\u001b[0m                                 \u001b[38;5;124m'\u001b[39m\u001b[38;5;124mmu4_estimate\u001b[39m\u001b[38;5;124m'\u001b[39m: [min_ans\u001b[38;5;241m.\u001b[39mx[\u001b[38;5;241m6\u001b[39m]]})\n",
      "File \u001b[0;32m~/mambaforge/lib/python3.10/site-packages/scipy/optimize/_differentialevolution.py:392\u001b[0m, in \u001b[0;36mdifferential_evolution\u001b[0;34m(func, bounds, args, strategy, maxiter, popsize, tol, mutation, recombination, seed, callback, disp, polish, init, atol, updating, workers, constraints, x0, integrality, vectorized)\u001b[0m\n\u001b[1;32m    375\u001b[0m \u001b[38;5;66;03m# using a context manager means that any created Pool objects are\u001b[39;00m\n\u001b[1;32m    376\u001b[0m \u001b[38;5;66;03m# cleared up.\u001b[39;00m\n\u001b[1;32m    377\u001b[0m \u001b[38;5;28;01mwith\u001b[39;00m DifferentialEvolutionSolver(func, bounds, args\u001b[38;5;241m=\u001b[39margs,\n\u001b[1;32m    378\u001b[0m                                  strategy\u001b[38;5;241m=\u001b[39mstrategy,\n\u001b[1;32m    379\u001b[0m                                  maxiter\u001b[38;5;241m=\u001b[39mmaxiter,\n\u001b[0;32m   (...)\u001b[0m\n\u001b[1;32m    390\u001b[0m                                  integrality\u001b[38;5;241m=\u001b[39mintegrality,\n\u001b[1;32m    391\u001b[0m                                  vectorized\u001b[38;5;241m=\u001b[39mvectorized) \u001b[38;5;28;01mas\u001b[39;00m solver:\n\u001b[0;32m--> 392\u001b[0m     ret \u001b[38;5;241m=\u001b[39m \u001b[43msolver\u001b[49m\u001b[38;5;241;43m.\u001b[39;49m\u001b[43msolve\u001b[49m\u001b[43m(\u001b[49m\u001b[43m)\u001b[49m\n\u001b[1;32m    394\u001b[0m \u001b[38;5;28;01mreturn\u001b[39;00m ret\n",
      "File \u001b[0;32m~/mambaforge/lib/python3.10/site-packages/scipy/optimize/_differentialevolution.py:993\u001b[0m, in \u001b[0;36mDifferentialEvolutionSolver.solve\u001b[0;34m(self)\u001b[0m\n\u001b[1;32m    990\u001b[0m \u001b[38;5;28;01mfor\u001b[39;00m nit \u001b[38;5;129;01min\u001b[39;00m \u001b[38;5;28mrange\u001b[39m(\u001b[38;5;241m1\u001b[39m, \u001b[38;5;28mself\u001b[39m\u001b[38;5;241m.\u001b[39mmaxiter \u001b[38;5;241m+\u001b[39m \u001b[38;5;241m1\u001b[39m):\n\u001b[1;32m    991\u001b[0m     \u001b[38;5;66;03m# evolve the population by a generation\u001b[39;00m\n\u001b[1;32m    992\u001b[0m     \u001b[38;5;28;01mtry\u001b[39;00m:\n\u001b[0;32m--> 993\u001b[0m         \u001b[38;5;28;43mnext\u001b[39;49m\u001b[43m(\u001b[49m\u001b[38;5;28;43mself\u001b[39;49m\u001b[43m)\u001b[49m\n\u001b[1;32m    994\u001b[0m     \u001b[38;5;28;01mexcept\u001b[39;00m \u001b[38;5;167;01mStopIteration\u001b[39;00m:\n\u001b[1;32m    995\u001b[0m         warning_flag \u001b[38;5;241m=\u001b[39m \u001b[38;5;28;01mTrue\u001b[39;00m\n",
      "File \u001b[0;32m~/mambaforge/lib/python3.10/site-packages/scipy/optimize/_differentialevolution.py:1379\u001b[0m, in \u001b[0;36mDifferentialEvolutionSolver.__next__\u001b[0;34m(self)\u001b[0m\n\u001b[1;32m   1377\u001b[0m     feasible \u001b[38;5;241m=\u001b[39m \u001b[38;5;28;01mTrue\u001b[39;00m\n\u001b[1;32m   1378\u001b[0m     cv \u001b[38;5;241m=\u001b[39m np\u001b[38;5;241m.\u001b[39matleast_2d([\u001b[38;5;241m0.\u001b[39m])\n\u001b[0;32m-> 1379\u001b[0m     energy \u001b[38;5;241m=\u001b[39m \u001b[38;5;28;43mself\u001b[39;49m\u001b[38;5;241;43m.\u001b[39;49m\u001b[43mfunc\u001b[49m\u001b[43m(\u001b[49m\u001b[43mparameters\u001b[49m\u001b[43m)\u001b[49m\n\u001b[1;32m   1380\u001b[0m     \u001b[38;5;28mself\u001b[39m\u001b[38;5;241m.\u001b[39m_nfev \u001b[38;5;241m+\u001b[39m\u001b[38;5;241m=\u001b[39m \u001b[38;5;241m1\u001b[39m\n\u001b[1;32m   1382\u001b[0m \u001b[38;5;66;03m# compare trial and population member\u001b[39;00m\n",
      "File \u001b[0;32m~/mambaforge/lib/python3.10/site-packages/scipy/_lib/_util.py:407\u001b[0m, in \u001b[0;36m_FunctionWrapper.__call__\u001b[0;34m(self, x)\u001b[0m\n\u001b[1;32m    406\u001b[0m \u001b[38;5;28;01mdef\u001b[39;00m \u001b[38;5;21m__call__\u001b[39m(\u001b[38;5;28mself\u001b[39m, x):\n\u001b[0;32m--> 407\u001b[0m     \u001b[38;5;28;01mreturn\u001b[39;00m \u001b[38;5;28;43mself\u001b[39;49m\u001b[38;5;241;43m.\u001b[39;49m\u001b[43mf\u001b[49m\u001b[43m(\u001b[49m\u001b[43mx\u001b[49m\u001b[43m,\u001b[49m\u001b[43m \u001b[49m\u001b[38;5;241;43m*\u001b[39;49m\u001b[38;5;28;43mself\u001b[39;49m\u001b[38;5;241;43m.\u001b[39;49m\u001b[43margs\u001b[49m\u001b[43m)\u001b[49m\n",
      "Cell \u001b[0;32mIn[4], line 12\u001b[0m, in \u001b[0;36mHSDM_4D_likelihood\u001b[0;34m(prms, RT, Theta)\u001b[0m\n\u001b[1;32m      9\u001b[0m mu \u001b[38;5;241m=\u001b[39m np\u001b[38;5;241m.\u001b[39marray([prms[\u001b[38;5;241m3\u001b[39m], prms[\u001b[38;5;241m4\u001b[39m], prms[\u001b[38;5;241m5\u001b[39m], prms[\u001b[38;5;241m6\u001b[39m]])\n\u001b[1;32m     11\u001b[0m \u001b[38;5;28;01mif\u001b[39;00m \u001b[38;5;28mmax\u001b[39m(RT) \u001b[38;5;241m<\u001b[39m\u001b[38;5;241m=\u001b[39m \u001b[38;5;241m4.5\u001b[39m:\n\u001b[0;32m---> 12\u001b[0m     fpt \u001b[38;5;241m=\u001b[39m \u001b[43mie_bessel_fpt\u001b[49m\u001b[43m(\u001b[49m\u001b[43ma\u001b[49m\u001b[43m,\u001b[49m\u001b[43m \u001b[49m\u001b[43mda\u001b[49m\u001b[43m,\u001b[49m\u001b[43m \u001b[49m\u001b[43mmu\u001b[49m\u001b[38;5;241;43m.\u001b[39;49m\u001b[43mshape\u001b[49m\u001b[43m[\u001b[49m\u001b[38;5;241;43m0\u001b[39;49m\u001b[43m]\u001b[49m\u001b[43m,\u001b[49m\u001b[43m \u001b[49m\u001b[38;5;241;43m0.000001\u001b[39;49m\u001b[43m,\u001b[49m\u001b[43m \u001b[49m\n\u001b[1;32m     13\u001b[0m \u001b[43m                        \u001b[49m\u001b[43mdt\u001b[49m\u001b[38;5;241;43m=\u001b[39;49m\u001b[38;5;241;43m0.02\u001b[39;49m\u001b[43m,\u001b[49m\u001b[43m \u001b[49m\u001b[43mT_max\u001b[49m\u001b[38;5;241;43m=\u001b[39;49m\u001b[38;5;28;43mmax\u001b[39;49m\u001b[43m(\u001b[49m\u001b[43mRT\u001b[49m\u001b[43m)\u001b[49m\u001b[43m)\u001b[49m\n\u001b[1;32m     14\u001b[0m \u001b[38;5;28;01melse\u001b[39;00m:\n\u001b[1;32m     15\u001b[0m     fpt \u001b[38;5;241m=\u001b[39m ie_bessel_fpt(a, da, mu\u001b[38;5;241m.\u001b[39mshape[\u001b[38;5;241m0\u001b[39m], \u001b[38;5;241m0.000001\u001b[39m, \n\u001b[1;32m     16\u001b[0m                         dt\u001b[38;5;241m=\u001b[39m\u001b[38;5;241m0.02\u001b[39m, T_max\u001b[38;5;241m=\u001b[39m\u001b[38;5;241m4.5\u001b[39m)\n",
      "Cell \u001b[0;32mIn[3], line 32\u001b[0m, in \u001b[0;36mie_bessel_fpt\u001b[0;34m(a, da, q, z, sigma, dt, T_max)\u001b[0m\n\u001b[1;32m     29\u001b[0m s \u001b[38;5;241m=\u001b[39m \u001b[38;5;241m-\u001b[39m\u001b[38;5;241m2\u001b[39m \u001b[38;5;241m*\u001b[39m psi(a, da, n\u001b[38;5;241m*\u001b[39mdt, z, \u001b[38;5;241m0\u001b[39m, q, sigma)\n\u001b[1;32m     31\u001b[0m \u001b[38;5;28;01mfor\u001b[39;00m j \u001b[38;5;129;01min\u001b[39;00m \u001b[38;5;28mrange\u001b[39m(\u001b[38;5;241m1\u001b[39m, n):\n\u001b[0;32m---> 32\u001b[0m     s \u001b[38;5;241m+\u001b[39m\u001b[38;5;241m=\u001b[39m \u001b[38;5;241m2\u001b[39m \u001b[38;5;241m*\u001b[39m dt \u001b[38;5;241m*\u001b[39m g[j] \u001b[38;5;241m*\u001b[39m \u001b[43mpsi\u001b[49m\u001b[43m(\u001b[49m\u001b[43ma\u001b[49m\u001b[43m,\u001b[49m\u001b[43m \u001b[49m\u001b[43mda\u001b[49m\u001b[43m,\u001b[49m\u001b[43m \u001b[49m\u001b[43mn\u001b[49m\u001b[38;5;241;43m*\u001b[39;49m\u001b[43mdt\u001b[49m\u001b[43m,\u001b[49m\u001b[43m \u001b[49m\u001b[43ma\u001b[49m\u001b[43m(\u001b[49m\u001b[43mj\u001b[49m\u001b[38;5;241;43m*\u001b[39;49m\u001b[43mdt\u001b[49m\u001b[43m)\u001b[49m\u001b[43m,\u001b[49m\u001b[43m \u001b[49m\u001b[43mj\u001b[49m\u001b[38;5;241;43m*\u001b[39;49m\u001b[43mdt\u001b[49m\u001b[43m,\u001b[49m\u001b[43m \u001b[49m\u001b[43mq\u001b[49m\u001b[43m,\u001b[49m\u001b[43m \u001b[49m\u001b[43msigma\u001b[49m\u001b[43m)\u001b[49m\n\u001b[1;32m     34\u001b[0m g\u001b[38;5;241m.\u001b[39mappend(s)\n\u001b[1;32m     35\u001b[0m T\u001b[38;5;241m.\u001b[39mappend(n\u001b[38;5;241m*\u001b[39mdt)\n",
      "Cell \u001b[0;32mIn[3], line 12\u001b[0m, in \u001b[0;36mpsi\u001b[0;34m(a, da, t, z, tau, q, sigma)\u001b[0m\n\u001b[1;32m     10\u001b[0m     term3 \u001b[38;5;241m=\u001b[39m da(t) \u001b[38;5;241m-\u001b[39m (a(t)\u001b[38;5;241m/\u001b[39m(t\u001b[38;5;241m-\u001b[39mtau)) \u001b[38;5;241m+\u001b[39m kk\n\u001b[1;32m     11\u001b[0m     term4 \u001b[38;5;241m=\u001b[39m iv(q\u001b[38;5;241m/\u001b[39msigma\u001b[38;5;241m-\u001b[39m\u001b[38;5;241m1\u001b[39m, \u001b[38;5;241m2\u001b[39m\u001b[38;5;241m*\u001b[39mnp\u001b[38;5;241m.\u001b[39msqrt(a(t)\u001b[38;5;241m*\u001b[39mz)\u001b[38;5;241m/\u001b[39m(sigma\u001b[38;5;241m*\u001b[39m(t\u001b[38;5;241m-\u001b[39mtau)))\n\u001b[0;32m---> 12\u001b[0m     term5 \u001b[38;5;241m=\u001b[39m (\u001b[43mnp\u001b[49m\u001b[38;5;241;43m.\u001b[39;49m\u001b[43msqrt\u001b[49m\u001b[43m(\u001b[49m\u001b[43ma\u001b[49m\u001b[43m(\u001b[49m\u001b[43mt\u001b[49m\u001b[43m)\u001b[49m\u001b[38;5;241;43m*\u001b[39;49m\u001b[43mz\u001b[49m\u001b[43m)\u001b[49m\u001b[38;5;241m/\u001b[39m(t\u001b[38;5;241m-\u001b[39mtau)) \u001b[38;5;241m*\u001b[39m iv(q\u001b[38;5;241m/\u001b[39msigma, \u001b[38;5;241m2\u001b[39m\u001b[38;5;241m*\u001b[39mnp\u001b[38;5;241m.\u001b[39msqrt(a(t)\u001b[38;5;241m*\u001b[39mz)\u001b[38;5;241m/\u001b[39m(sigma\u001b[38;5;241m*\u001b[39m(t\u001b[38;5;241m-\u001b[39mtau)))\n\u001b[1;32m     13\u001b[0m \u001b[38;5;28;01melse\u001b[39;00m:\n\u001b[1;32m     14\u001b[0m     term1 \u001b[38;5;241m=\u001b[39m \u001b[38;5;241m1.\u001b[39m\u001b[38;5;241m/\u001b[39m(sigma\u001b[38;5;241m*\u001b[39m(t \u001b[38;5;241m-\u001b[39m tau))\n",
      "\u001b[0;31mKeyboardInterrupt\u001b[0m: "
     ]
    }
   ],
   "source": [
    "for n in tqdm(range(1)):\n",
    "    threshold = np.random.uniform(min_threshold, max_threshold)\n",
    "    a = lambda t: threshold\n",
    "    ndt = np.random.uniform(min_ndt, max_ndt)\n",
    "    eta = np.random.uniform(min_eta, max_eta)\n",
    "    mu = np.array([np.random.uniform(min_mu, max_mu), \n",
    "                   np.random.uniform(min_mu, max_mu),\n",
    "                   np.random.uniform(min_mu, max_mu),\n",
    "                   np.random.uniform(min_mu, max_mu)])\n",
    "    \n",
    "    RT = []\n",
    "    Theta = []\n",
    "    \n",
    "    for i in range(500):\n",
    "        rt, theta = simulate_HSDM_4D(a, mu, eta, ndt)\n",
    "        RT.append(rt)\n",
    "        Theta.append(theta)\n",
    "    \n",
    "    min_ans = differential_evolution(HSDM_4D_likelihood,\n",
    "                                     args=(RT, Theta),\n",
    "                                     bounds=[(min_threshold, max_threshold), \n",
    "                                             (min_ndt, max_ndt), (min_eta, max_eta),\n",
    "                                             (min_mu, max_mu), (min_mu, max_mu), \n",
    "                                             (min_mu, max_mu), (min_mu, max_mu)])\n",
    "    \n",
    "    if min_ans.success:\n",
    "        recovery_df = pd.DataFrame({'threshold_true': [threshold],\n",
    "                                    'threshold_estimate': [min_ans.x[0]],\n",
    "                                    'ndt_true': [ndt],\n",
    "                                    'ndt_estimate': [min_ans.x[1]],\n",
    "                                    'eta_true': [eta],\n",
    "                                    'eta_estimate': [min_ans.x[2]],\n",
    "                                    'mu1_true': [mu[3]],\n",
    "                                    'mu1_estimate': [min_ans.x[3]],\n",
    "                                    'mu2_true': [mu[2]],\n",
    "                                    'mu2_estimate': [min_ans.x[4]],\n",
    "                                    'mu3_true': [mu[1]],\n",
    "                                    'mu3_estimate': [min_ans.x[5]],\n",
    "                                    'mu4_true': [mu[0]],\n",
    "                                    'mu4_estimate': [min_ans.x[6]]})\n",
    "        \n",
    "        print(eta, min_ans.x[2])\n",
    "        \n",
    "#         old_recovery_data = pd.read_csv(file_name, index_col=0)\n",
    "#         recovery_df = pd.concat([old_recovery_data, recovery_df]).reset_index(drop=True)\n",
    "        recovery_df.to_csv(file_name)"
   ]
  },
  {
   "cell_type": "code",
   "execution_count": null,
   "id": "0471d57c",
   "metadata": {},
   "outputs": [],
   "source": []
  }
 ],
 "metadata": {
  "kernelspec": {
   "display_name": "Python 3 (ipykernel)",
   "language": "python",
   "name": "python3"
  },
  "language_info": {
   "codemirror_mode": {
    "name": "ipython",
    "version": 3
   },
   "file_extension": ".py",
   "mimetype": "text/x-python",
   "name": "python",
   "nbconvert_exporter": "python",
   "pygments_lexer": "ipython3",
   "version": "3.10.6"
  }
 },
 "nbformat": 4,
 "nbformat_minor": 5
}
