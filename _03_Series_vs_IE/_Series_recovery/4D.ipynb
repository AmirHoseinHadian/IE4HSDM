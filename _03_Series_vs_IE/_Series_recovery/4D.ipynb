{
 "cells": [
  {
   "cell_type": "code",
   "execution_count": 1,
   "id": "e52e3847",
   "metadata": {},
   "outputs": [],
   "source": [
    "import numpy as np\n",
    "import pandas as pd\n",
    "from tqdm import tqdm\n",
    "\n",
    "from mpmath import besseljzero\n",
    "from scipy.special import gamma\n",
    "from scipy.special import jv, iv\n",
    "from scipy.special import jn_zeros\n",
    "from scipy.optimize import differential_evolution\n",
    "from scipy.interpolate import interp1d\n",
    "\n",
    "from scipy.stats import pearsonr\n",
    "from sklearn.metrics import r2_score\n",
    "\n",
    "import seaborn as sns\n",
    "import matplotlib.pyplot as plt"
   ]
  },
  {
   "cell_type": "code",
   "execution_count": 2,
   "id": "5d89b181",
   "metadata": {},
   "outputs": [],
   "source": [
    "def simulate_HSDM_4D(a, mu, ndt, sigma=1, dt=0.001):\n",
    "    x = np.zeros(mu.shape)\n",
    "    \n",
    "    rt = 0\n",
    "    \n",
    "    while np.linalg.norm(x, 2) < a(rt):\n",
    "        x += mu*dt + sigma*np.sqrt(dt)*np.random.normal(0, 1, mu.shape)\n",
    "        rt += dt\n",
    "    \n",
    "    theta1 = np.arctan2(np.sqrt(x[3]**2 + x[2]**2 + x[1]**2), x[0])\n",
    "    theta2 = np.arctan2(np.sqrt(x[3]**2 + x[2]**2), x[1])\n",
    "    theta3 = np.arctan2(x[3], x[2])\n",
    "    \n",
    "    \n",
    "    return rt+ndt, (theta1, theta2, theta3)"
   ]
  },
  {
   "cell_type": "code",
   "execution_count": 3,
   "id": "337f9f8b",
   "metadata": {},
   "outputs": [],
   "source": [
    "def series_bessel_fpt(t, a=1, sigma=1, nu=0, n=50):\n",
    "    zeros = np.asarray([float(besseljzero(nu, i+1)) for i in range(n)])\n",
    "    fpt = np.zeros(t.shape)\n",
    "    \n",
    "    for i in range(t.shape[0]):\n",
    "        series = np.sum((zeros**(nu+1)/jv(nu+1, zeros)) * np.exp(-(zeros**2 * sigma**2)/(2*a**2)*t[i]))\n",
    "        fpt[i] = sigma**2/(2**nu * a**2 * gamma(nu + 1)) * series\n",
    "        \n",
    "    return interp1d(t, fpt)"
   ]
  },
  {
   "cell_type": "code",
   "execution_count": 4,
   "id": "fd588e9b",
   "metadata": {},
   "outputs": [],
   "source": [
    "def HSDM_4D_likelihood(prms, RT, Theta, N_series):\n",
    "    a = prms[0]\n",
    "    ndt = prms[1]\n",
    "    mu = np.array([prms[2], prms[3], prms[4], prms[5]])\n",
    "    \n",
    "    tt = np.arange(0, max(RT)+0.02, 0.02)\n",
    "    fpt = series_bessel_fpt(tt, a, sigma=1, nu=(mu.shape[0]-2)/2, n=N_series)\n",
    "    \n",
    "    log_lik = 0\n",
    "    for i in range(len(RT)):\n",
    "        rt, theta = RT[i], Theta[i]\n",
    "        if rt - ndt > 0:\n",
    "            mu_dot_x0 = mu[0]*np.cos(theta[0])\n",
    "            mu_dot_x1 = mu[1]*np.sin(theta[0])*np.cos(theta[1]) \n",
    "            mu_dot_x2 = mu[2]*np.sin(theta[0])*np.sin(theta[1])*np.cos(theta[2])\n",
    "            mu_dot_x3 = mu[3]*np.sin(theta[0])*np.sin(theta[1])*np.sin(theta[2]) \n",
    "            term1 = prms[0] * (mu_dot_x0 + mu_dot_x1 + mu_dot_x2 + mu_dot_x3)\n",
    "            term2 = 0.5 * np.linalg.norm(mu, 2)**2 * (rt-ndt)\n",
    "            \n",
    "            density = np.exp(term1 - term2) * fpt(rt - ndt)\n",
    "            \n",
    "            if 0.1**14 < density:\n",
    "                log_lik += -np.log(density)\n",
    "            else:\n",
    "                log_lik += -np.log(0.1**14)\n",
    "        else:\n",
    "            log_lik += -np.log(0.1**14)\n",
    "        \n",
    "    return log_lik"
   ]
  },
  {
   "cell_type": "code",
   "execution_count": 5,
   "id": "ebf10509",
   "metadata": {},
   "outputs": [],
   "source": [
    "recovery_df = {'threshold_true': [],\n",
    "               'threshold_estimate': [],\n",
    "               'ndt_true': [],\n",
    "               'ndt_estimate': [],\n",
    "               'mu1_true': [],\n",
    "               'mu1_estimate': [],\n",
    "               'mu2_true': [],\n",
    "               'mu2_estimate': [],\n",
    "               'mu3_true': [],\n",
    "               'mu3_estimate': [],\n",
    "               'mu4_true': [],\n",
    "               'mu4_estimate': []}\n",
    "\n",
    "min_threshold = 0.5\n",
    "max_threshold = 6\n",
    "\n",
    "min_ndt = 0.1\n",
    "max_ndt = 1\n",
    "\n",
    "min_mu = -6\n",
    "max_mu = 6\n",
    "\n",
    "N_series = 50"
   ]
  },
  {
   "cell_type": "code",
   "execution_count": null,
   "id": "b1dec979",
   "metadata": {
    "scrolled": true
   },
   "outputs": [
    {
     "name": "stderr",
     "output_type": "stream",
     "text": [
      " 80%|████████████████████████████████████         | 4/5 [06:01<01:30, 90.42s/it]"
     ]
    }
   ],
   "source": [
    "for n in tqdm(range(5)):\n",
    "    threshold = np.random.uniform(min_threshold, max_threshold)\n",
    "    a = lambda t: threshold\n",
    "    ndt = np.random.uniform(min_ndt, max_ndt)\n",
    "    mu = np.array([np.random.uniform(min_mu, max_mu), \n",
    "                   np.random.uniform(min_mu, max_mu),\n",
    "                   np.random.uniform(min_mu, max_mu),\n",
    "                   np.random.uniform(min_mu, max_mu)])\n",
    "    \n",
    "    \n",
    "    recovery_df['threshold_true'].append(threshold)\n",
    "    recovery_df['ndt_true'].append(ndt)\n",
    "    recovery_df['mu1_true'].append(mu[0])\n",
    "    recovery_df['mu2_true'].append(mu[1])\n",
    "    recovery_df['mu3_true'].append(mu[2])\n",
    "    recovery_df['mu4_true'].append(mu[3])\n",
    "    \n",
    "    RT = []\n",
    "    Theta = []\n",
    "    \n",
    "    for i in range(250):\n",
    "        rt, theta = simulate_HSDM_4D(a, mu, ndt)\n",
    "        RT.append(rt)\n",
    "        Theta.append(theta)\n",
    "    \n",
    "    min_ans = differential_evolution(HSDM_4D_likelihood,\n",
    "                                     args=(RT, Theta, N_series),\n",
    "                                     bounds=[(min_threshold, max_threshold), (min_ndt, max_ndt),\n",
    "                                             (min_mu, max_mu), (min_mu, max_mu), \n",
    "                                             (min_mu, max_mu), (min_mu, max_mu)])\n",
    "    \n",
    "    recovery_df['threshold_estimate'].append(min_ans.x[0])\n",
    "    recovery_df['ndt_estimate'].append(min_ans.x[1])\n",
    "    recovery_df['mu1_estimate'].append(min_ans.x[2])\n",
    "    recovery_df['mu2_estimate'].append(min_ans.x[3])\n",
    "    recovery_df['mu3_estimate'].append(min_ans.x[4])\n",
    "    recovery_df['mu4_estimate'].append(min_ans.x[5])\n",
    "    \n",
    "recovery_df = pd.DataFrame(recovery_df)"
   ]
  },
  {
   "cell_type": "code",
   "execution_count": null,
   "id": "c1d58357",
   "metadata": {},
   "outputs": [],
   "source": [
    "recovery_df"
   ]
  },
  {
   "cell_type": "code",
   "execution_count": null,
   "id": "8b5f6969",
   "metadata": {},
   "outputs": [],
   "source": [
    "file_name = '_Recovery_data/Series_4d_recovery_{}.csv'.format(N_series)\n",
    "old_recovery_data = pd.read_csv(file_name, index_col=0)\n",
    "recovery_df = pd.concat([old_recovery_data, \n",
    "                         recovery_df]).reset_index(drop=True)\n",
    "recovery_df.to_csv(file_name)"
   ]
  },
  {
   "cell_type": "code",
   "execution_count": null,
   "id": "f3cf55e8",
   "metadata": {},
   "outputs": [],
   "source": [
    "recovery_df.shape[0]"
   ]
  },
  {
   "cell_type": "code",
   "execution_count": null,
   "id": "20cb7a2a",
   "metadata": {},
   "outputs": [],
   "source": [
    "recovery_df.corr()"
   ]
  },
  {
   "cell_type": "code",
   "execution_count": null,
   "id": "42f27a88",
   "metadata": {},
   "outputs": [],
   "source": []
  }
 ],
 "metadata": {
  "kernelspec": {
   "display_name": "Python 3 (ipykernel)",
   "language": "python",
   "name": "python3"
  },
  "language_info": {
   "codemirror_mode": {
    "name": "ipython",
    "version": 3
   },
   "file_extension": ".py",
   "mimetype": "text/x-python",
   "name": "python",
   "nbconvert_exporter": "python",
   "pygments_lexer": "ipython3",
   "version": "3.10.6"
  }
 },
 "nbformat": 4,
 "nbformat_minor": 5
}
