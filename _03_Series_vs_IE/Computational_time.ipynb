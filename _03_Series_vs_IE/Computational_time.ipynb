{
 "cells": [
  {
   "cell_type": "code",
   "execution_count": 1,
   "id": "e52e3847",
   "metadata": {},
   "outputs": [],
   "source": [
    "import numpy as np\n",
    "import pandas as pd\n",
    "from tqdm import tqdm\n",
    "from time import process_time\n",
    "from mpmath import besseljzero\n",
    "from scipy.special import gamma\n",
    "from scipy.special import jv, iv\n",
    "from scipy.interpolate import interp1d\n",
    "\n",
    "import matplotlib.pyplot as plt"
   ]
  },
  {
   "cell_type": "code",
   "execution_count": 2,
   "id": "25dacd20",
   "metadata": {},
   "outputs": [],
   "source": [
    "def k(a, da, t, q, sigma=2):\n",
    "    return 0.5 * (q - 0.5*sigma - da(t))\n",
    "\n",
    "def psi(a, da, t, z, tau, q, sigma=2):\n",
    "    kk = k(a, da, t, q, sigma)\n",
    "    \n",
    "    if 2*np.sqrt(a(t)*z)/(sigma*(t-tau))<=700:\n",
    "        term1 = 1./(sigma*(t - tau)) * np.exp(- (a(t) + z)/(sigma*(t-tau)))\n",
    "        term2 = (a(t)/z)**(0.5*(q-sigma)/sigma)\n",
    "        term3 = da(t) - (a(t)/(t-tau)) + kk\n",
    "        term4 = iv(q/sigma-1, 2*np.sqrt(a(t)*z)/(sigma*(t-tau)))\n",
    "        term5 = (np.sqrt(a(t)*z)/(t-tau)) * iv(q/sigma, 2*np.sqrt(a(t)*z)/(sigma*(t-tau)))\n",
    "    else:\n",
    "        term1 = 1./(sigma*(t - tau))\n",
    "        term2 = (a(t)/z)**(0.5*(q-sigma)/sigma)\n",
    "        term3 = da(t) - (a(t)/(t-tau)) + kk\n",
    "        term4 = ive(q/sigma-1, (a(t) + z)/(sigma*(t-tau)))\n",
    "        term5 = (np.sqrt(a(t)*z)/(t-tau)) * ive(q/sigma, (a(t) + z)/(sigma*(t-tau)))\n",
    "    \n",
    "    return term1 * term2 * (term3 * term4 + term5)\n",
    "\n",
    "def ie_bessel_fpt(a, da, q, z, sigma=2, dt=0.1, T_max=2):\n",
    "    g = [0]\n",
    "    T = [0]\n",
    "    g.append(-2*psi(a, da, dt, z, 0, q, sigma))\n",
    "    T.append(dt)\n",
    "    \n",
    "    for n in range(2, int(T_max/dt)+2):\n",
    "        s = -2 * psi(a, da, n*dt, z, 0, q, sigma)\n",
    "\n",
    "        for j in range(1, n):\n",
    "            s += 2 * dt * g[j] * psi(a, da, n*dt, a(j*dt), j*dt, q, sigma)\n",
    "\n",
    "        g.append(s)\n",
    "        T.append(n*dt)\n",
    "        \n",
    "    g = np.asarray(g)\n",
    "    T = np.asarray(T)\n",
    "    \n",
    "    gt = interp1d(T, g)\n",
    "    return gt"
   ]
  },
  {
   "cell_type": "code",
   "execution_count": 3,
   "id": "337f9f8b",
   "metadata": {},
   "outputs": [],
   "source": [
    "def series_bessel_fpt(t, a=1, sigma=1, nu=0, n=100):\n",
    "    zeros = np.asarray([float(besseljzero(nu, i+1)) for i in range(n)])\n",
    "    fpt = np.zeros(t.shape)\n",
    "    \n",
    "    for i in range(t.shape[0]):\n",
    "        series = np.sum((zeros**(nu+1)/jv(nu+1, zeros)) * np.exp(-(zeros**2 * sigma**2)/(2*a**2)*t[i]))\n",
    "        fpt[i] = sigma**2/(2**nu * a**2 * gamma(nu + 1)) * series\n",
    "        \n",
    "    return interp1d(t, fpt)"
   ]
  },
  {
   "cell_type": "code",
   "execution_count": 4,
   "id": "76b75e5e",
   "metadata": {},
   "outputs": [],
   "source": [
    "def cal_time_series(dim, rep=20):\n",
    "    series_comp_time = {'25':[],\n",
    "                        '50':[],\n",
    "                        '75':[],\n",
    "                        '100':[]}\n",
    "    \n",
    "    for N in [25, 50, 75, 100]:\n",
    "        for _ in range(rep):\n",
    "            time_start = process_time()\n",
    "            series_bessel_fpt(np.arange(0.001, 5, 0.1), a=2, sigma=1, nu=(dim-2)/2, n=N)\n",
    "            time_elapsed = (process_time() - time_start)\n",
    "            series_comp_time[str(N)].append(time_elapsed)\n",
    "\n",
    "    return pd.DataFrame(series_comp_time)\n",
    "    "
   ]
  },
  {
   "cell_type": "code",
   "execution_count": 5,
   "id": "5e0d763d",
   "metadata": {},
   "outputs": [],
   "source": [
    "def cal_time_ie(dim, rep=20):\n",
    "    ie_comp_time = {'0.2':[],\n",
    "                    '0.15':[],\n",
    "                    '0.1':[],\n",
    "                    '0.05':[]}\n",
    "    \n",
    "    for dt in [0.2, 0.15, 0.1, 0.05]:\n",
    "        for _ in range(rep):\n",
    "            time_start = process_time()\n",
    "            ie_bessel_fpt(lambda t: 4, lambda t:0, dim, 0.0001, sigma=2, dt=dt, T_max=5)\n",
    "            time_elapsed = (process_time() - time_start)\n",
    "            ie_comp_time[str(dt)].append(time_elapsed)\n",
    "\n",
    "    return pd.DataFrame(ie_comp_time)"
   ]
  },
  {
   "cell_type": "markdown",
   "id": "98c7b7b1",
   "metadata": {},
   "source": [
    "# Computational time"
   ]
  },
  {
   "cell_type": "code",
   "execution_count": 6,
   "id": "60297741",
   "metadata": {},
   "outputs": [],
   "source": [
    "series_comp_time_2D = cal_time_series(2, rep=50)\n",
    "series_comp_time_3D = cal_time_series(3, rep=50)\n",
    "series_comp_time_4D = cal_time_series(4, rep=50)"
   ]
  },
  {
   "cell_type": "code",
   "execution_count": 7,
   "id": "c1d58357",
   "metadata": {},
   "outputs": [],
   "source": [
    "ie_comp_time_2D = cal_time_ie(2, rep=50)\n",
    "ie_comp_time_3D = cal_time_ie(3, rep=50)\n",
    "ie_comp_time_4D = cal_time_ie(4, rep=50)"
   ]
  },
  {
   "cell_type": "markdown",
   "id": "5db2a9e8",
   "metadata": {},
   "source": [
    "# plot"
   ]
  },
  {
   "cell_type": "code",
   "execution_count": 18,
   "id": "a469a2c8",
   "metadata": {},
   "outputs": [
    {
     "data": {
      "image/png": "[encoded data removed]",
      "text/plain": [
       "<Figure size 800x300 with 2 Axes>"
      ]
     },
     "metadata": {},
     "output_type": "display_data"
    }
   ],
   "source": [
    "plt.figure(figsize=(8, 3))\n",
    "plt.subplot(121)\n",
    "plt.ylim(0, 0.2)\n",
    "plt.plot(ie_comp_time_2D.mean().index,\n",
    "         ie_comp_time_2D.mean().values)\n",
    "plt.plot(ie_comp_time_3D.mean().index,\n",
    "         ie_comp_time_3D.mean().values)\n",
    "plt.plot(ie_comp_time_4D.mean().index,\n",
    "         ie_comp_time_4D.mean().values)\n",
    "plt.title('Integral equation')\n",
    "plt.xlabel(r'$\\Delta t$')\n",
    "\n",
    "plt.subplot(122)\n",
    "plt.ylim(0, 0.2)\n",
    "plt.plot(series_comp_time_2D.mean().index,\n",
    "         series_comp_time_2D.mean().values)\n",
    "plt.plot(series_comp_time_3D.mean().index,\n",
    "         series_comp_time_3D.mean().values)\n",
    "plt.plot(series_comp_time_4D.mean().index,\n",
    "         series_comp_time_4D.mean().values);\n",
    "plt.title('Bessel series')\n",
    "plt.xlabel(r'$N$');"
   ]
  },
  {
   "cell_type": "code",
   "execution_count": null,
   "id": "c440ab18",
   "metadata": {},
   "outputs": [],
   "source": []
  }
 ],
 "metadata": {
  "kernelspec": {
   "display_name": "Python 3 (ipykernel)",
   "language": "python",
   "name": "python3"
  },
  "language_info": {
   "codemirror_mode": {
    "name": "ipython",
    "version": 3
   },
   "file_extension": ".py",
   "mimetype": "text/x-python",
   "name": "python",
   "nbconvert_exporter": "python",
   "pygments_lexer": "ipython3",
   "version": "3.10.6"
  }
 },
 "nbformat": 4,
 "nbformat_minor": 5
}
