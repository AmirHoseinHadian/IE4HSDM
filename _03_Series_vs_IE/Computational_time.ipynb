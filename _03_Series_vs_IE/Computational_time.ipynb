{
 "cells": [
  {
   "cell_type": "code",
   "execution_count": 1,
   "id": "e52e3847",
   "metadata": {},
   "outputs": [],
   "source": [
    "import sys\n",
    "sys.path.append('../')\n",
    "\n",
    "import numpy as np\n",
    "import pandas as pd\n",
    "\n",
    "from time import process_time\n",
    "from HSDM_fpt import ie_bessel_fpt\n",
    "from HSDM_fpt import series_bessel_fpt\n",
    "\n",
    "import matplotlib.pyplot as plt"
   ]
  },
  {
   "cell_type": "code",
   "execution_count": 2,
   "id": "a81fbf2e",
   "metadata": {},
   "outputs": [],
   "source": [
    "def cal_time_series(dim, rep=20):\n",
    "    series_comp_time = {'25':[],\n",
    "                        '50':[],\n",
    "                        '75':[],\n",
    "                        '100':[]}\n",
    "    \n",
    "    for N in [25, 50, 75, 100]:\n",
    "        for _ in range(rep):\n",
    "            time_start = process_time()\n",
    "            series_bessel_fpt(np.arange(0.001, 5, 0.1), a=2, sigma=1, nu=(dim-2)/2, n=N)\n",
    "            time_elapsed = (process_time() - time_start)\n",
    "            series_comp_time[str(N)].append(time_elapsed)\n",
    "\n",
    "    return pd.DataFrame(series_comp_time)\n",
    "    "
   ]
  },
  {
   "cell_type": "code",
   "execution_count": 3,
   "id": "0d2a993e",
   "metadata": {},
   "outputs": [],
   "source": [
    "def cal_time_ie(dim, rep=20):\n",
    "    ie_comp_time = {'0.2':[],\n",
    "                    '0.15':[],\n",
    "                    '0.1':[],\n",
    "                    '0.05':[]}\n",
    "    \n",
    "    for dt in [0.2, 0.15, 0.1, 0.05]:\n",
    "        for _ in range(rep):\n",
    "            time_start = process_time()\n",
    "            ie_bessel_fpt(lambda t: 4, lambda t:0, dim, 0.0001, sigma=2, dt=dt, T_max=5)\n",
    "            time_elapsed = (process_time() - time_start)\n",
    "            ie_comp_time[str(dt)].append(time_elapsed)\n",
    "\n",
    "    return pd.DataFrame(ie_comp_time)"
   ]
  },
  {
   "cell_type": "markdown",
   "id": "6607e8ea",
   "metadata": {},
   "source": [
    "# Computational time"
   ]
  },
  {
   "cell_type": "code",
   "execution_count": 4,
   "id": "60297741",
   "metadata": {},
   "outputs": [],
   "source": [
    "series_comp_time_2D = cal_time_series(2, rep=100)\n",
    "\n",
    "series_comp_time_3D = cal_time_series(3, rep=100)\n",
    "\n",
    "series_comp_time_4D = cal_time_series(4, rep=100)"
   ]
  },
  {
   "cell_type": "code",
   "execution_count": 5,
   "id": "c85d979c",
   "metadata": {},
   "outputs": [
    {
     "data": {
      "text/html": [
       "<div>\n",
       "<style scoped>\n",
       "    .dataframe tbody tr th:only-of-type {\n",
       "        vertical-align: middle;\n",
       "    }\n",
       "\n",
       "    .dataframe tbody tr th {\n",
       "        vertical-align: top;\n",
       "    }\n",
       "\n",
       "    .dataframe thead th {\n",
       "        text-align: right;\n",
       "    }\n",
       "</style>\n",
       "<table border=\"1\" class=\"dataframe\">\n",
       "  <thead>\n",
       "    <tr style=\"text-align: right;\">\n",
       "      <th></th>\n",
       "      <th>0</th>\n",
       "      <th>1</th>\n",
       "      <th>2</th>\n",
       "    </tr>\n",
       "  </thead>\n",
       "  <tbody>\n",
       "    <tr>\n",
       "      <th>25</th>\n",
       "      <td>9.79579</td>\n",
       "      <td>34.95610</td>\n",
       "      <td>9.84451</td>\n",
       "    </tr>\n",
       "    <tr>\n",
       "      <th>50</th>\n",
       "      <td>25.03262</td>\n",
       "      <td>73.91020</td>\n",
       "      <td>26.12100</td>\n",
       "    </tr>\n",
       "    <tr>\n",
       "      <th>75</th>\n",
       "      <td>48.90780</td>\n",
       "      <td>112.66295</td>\n",
       "      <td>49.47095</td>\n",
       "    </tr>\n",
       "    <tr>\n",
       "      <th>100</th>\n",
       "      <td>82.08097</td>\n",
       "      <td>151.79867</td>\n",
       "      <td>83.80560</td>\n",
       "    </tr>\n",
       "  </tbody>\n",
       "</table>\n",
       "</div>"
      ],
      "text/plain": [
       "            0          1         2\n",
       "25    9.79579   34.95610   9.84451\n",
       "50   25.03262   73.91020  26.12100\n",
       "75   48.90780  112.66295  49.47095\n",
       "100  82.08097  151.79867  83.80560"
      ]
     },
     "execution_count": 5,
     "metadata": {},
     "output_type": "execute_result"
    }
   ],
   "source": [
    "pd.concat([series_comp_time_2D.mean(), \n",
    "           series_comp_time_3D.mean(), \n",
    "           series_comp_time_4D.mean()], axis=1)*1000"
   ]
  },
  {
   "cell_type": "code",
   "execution_count": 6,
   "id": "c252cb85",
   "metadata": {},
   "outputs": [
    {
     "data": {
      "text/html": [
       "<div>\n",
       "<style scoped>\n",
       "    .dataframe tbody tr th:only-of-type {\n",
       "        vertical-align: middle;\n",
       "    }\n",
       "\n",
       "    .dataframe tbody tr th {\n",
       "        vertical-align: top;\n",
       "    }\n",
       "\n",
       "    .dataframe thead th {\n",
       "        text-align: right;\n",
       "    }\n",
       "</style>\n",
       "<table border=\"1\" class=\"dataframe\">\n",
       "  <thead>\n",
       "    <tr style=\"text-align: right;\">\n",
       "      <th></th>\n",
       "      <th>0</th>\n",
       "      <th>1</th>\n",
       "      <th>2</th>\n",
       "    </tr>\n",
       "  </thead>\n",
       "  <tbody>\n",
       "    <tr>\n",
       "      <th>25</th>\n",
       "      <td>0.169991</td>\n",
       "      <td>0.492947</td>\n",
       "      <td>0.028650</td>\n",
       "    </tr>\n",
       "    <tr>\n",
       "      <th>50</th>\n",
       "      <td>0.077664</td>\n",
       "      <td>1.892624</td>\n",
       "      <td>0.807732</td>\n",
       "    </tr>\n",
       "    <tr>\n",
       "      <th>75</th>\n",
       "      <td>1.264574</td>\n",
       "      <td>2.376080</td>\n",
       "      <td>0.411736</td>\n",
       "    </tr>\n",
       "    <tr>\n",
       "      <th>100</th>\n",
       "      <td>1.668652</td>\n",
       "      <td>3.513689</td>\n",
       "      <td>1.648791</td>\n",
       "    </tr>\n",
       "  </tbody>\n",
       "</table>\n",
       "</div>"
      ],
      "text/plain": [
       "            0         1         2\n",
       "25   0.169991  0.492947  0.028650\n",
       "50   0.077664  1.892624  0.807732\n",
       "75   1.264574  2.376080  0.411736\n",
       "100  1.668652  3.513689  1.648791"
      ]
     },
     "execution_count": 6,
     "metadata": {},
     "output_type": "execute_result"
    }
   ],
   "source": [
    "pd.concat([series_comp_time_2D.std(), \n",
    "           series_comp_time_3D.std(), \n",
    "           series_comp_time_4D.std()], axis=1)*1000"
   ]
  },
  {
   "cell_type": "code",
   "execution_count": 7,
   "id": "c1d58357",
   "metadata": {},
   "outputs": [],
   "source": [
    "ie_comp_time_2D = cal_time_ie(2, rep=100)\n",
    "\n",
    "ie_comp_time_3D = cal_time_ie(3, rep=100)\n",
    "\n",
    "ie_comp_time_4D = cal_time_ie(4, rep=100)"
   ]
  },
  {
   "cell_type": "code",
   "execution_count": 8,
   "id": "49723580",
   "metadata": {},
   "outputs": [
    {
     "data": {
      "text/html": [
       "<div>\n",
       "<style scoped>\n",
       "    .dataframe tbody tr th:only-of-type {\n",
       "        vertical-align: middle;\n",
       "    }\n",
       "\n",
       "    .dataframe tbody tr th {\n",
       "        vertical-align: top;\n",
       "    }\n",
       "\n",
       "    .dataframe thead th {\n",
       "        text-align: right;\n",
       "    }\n",
       "</style>\n",
       "<table border=\"1\" class=\"dataframe\">\n",
       "  <thead>\n",
       "    <tr style=\"text-align: right;\">\n",
       "      <th></th>\n",
       "      <th>0</th>\n",
       "      <th>1</th>\n",
       "      <th>2</th>\n",
       "    </tr>\n",
       "  </thead>\n",
       "  <tbody>\n",
       "    <tr>\n",
       "      <th>0.2</th>\n",
       "      <td>2.08126</td>\n",
       "      <td>1.92511</td>\n",
       "      <td>2.02819</td>\n",
       "    </tr>\n",
       "    <tr>\n",
       "      <th>0.15</th>\n",
       "      <td>3.48811</td>\n",
       "      <td>3.25912</td>\n",
       "      <td>3.44218</td>\n",
       "    </tr>\n",
       "    <tr>\n",
       "      <th>0.1</th>\n",
       "      <td>7.63384</td>\n",
       "      <td>7.27677</td>\n",
       "      <td>7.59381</td>\n",
       "    </tr>\n",
       "    <tr>\n",
       "      <th>0.05</th>\n",
       "      <td>30.33396</td>\n",
       "      <td>28.53453</td>\n",
       "      <td>29.44541</td>\n",
       "    </tr>\n",
       "  </tbody>\n",
       "</table>\n",
       "</div>"
      ],
      "text/plain": [
       "             0         1         2\n",
       "0.2    2.08126   1.92511   2.02819\n",
       "0.15   3.48811   3.25912   3.44218\n",
       "0.1    7.63384   7.27677   7.59381\n",
       "0.05  30.33396  28.53453  29.44541"
      ]
     },
     "execution_count": 8,
     "metadata": {},
     "output_type": "execute_result"
    }
   ],
   "source": [
    "pd.concat([ie_comp_time_2D.mean(), \n",
    "           ie_comp_time_3D.mean(), \n",
    "           ie_comp_time_4D.mean()], axis=1)*1000"
   ]
  },
  {
   "cell_type": "code",
   "execution_count": 9,
   "id": "4a38705e",
   "metadata": {},
   "outputs": [
    {
     "data": {
      "text/html": [
       "<div>\n",
       "<style scoped>\n",
       "    .dataframe tbody tr th:only-of-type {\n",
       "        vertical-align: middle;\n",
       "    }\n",
       "\n",
       "    .dataframe tbody tr th {\n",
       "        vertical-align: top;\n",
       "    }\n",
       "\n",
       "    .dataframe thead th {\n",
       "        text-align: right;\n",
       "    }\n",
       "</style>\n",
       "<table border=\"1\" class=\"dataframe\">\n",
       "  <thead>\n",
       "    <tr style=\"text-align: right;\">\n",
       "      <th></th>\n",
       "      <th>0</th>\n",
       "      <th>1</th>\n",
       "      <th>2</th>\n",
       "    </tr>\n",
       "  </thead>\n",
       "  <tbody>\n",
       "    <tr>\n",
       "      <th>0.2</th>\n",
       "      <td>0.069789</td>\n",
       "      <td>0.006651</td>\n",
       "      <td>0.012368</td>\n",
       "    </tr>\n",
       "    <tr>\n",
       "      <th>0.15</th>\n",
       "      <td>0.022252</td>\n",
       "      <td>0.012116</td>\n",
       "      <td>0.020907</td>\n",
       "    </tr>\n",
       "    <tr>\n",
       "      <th>0.1</th>\n",
       "      <td>0.090516</td>\n",
       "      <td>0.111565</td>\n",
       "      <td>0.047185</td>\n",
       "    </tr>\n",
       "    <tr>\n",
       "      <th>0.05</th>\n",
       "      <td>0.767982</td>\n",
       "      <td>0.574538</td>\n",
       "      <td>0.181195</td>\n",
       "    </tr>\n",
       "  </tbody>\n",
       "</table>\n",
       "</div>"
      ],
      "text/plain": [
       "             0         1         2\n",
       "0.2   0.069789  0.006651  0.012368\n",
       "0.15  0.022252  0.012116  0.020907\n",
       "0.1   0.090516  0.111565  0.047185\n",
       "0.05  0.767982  0.574538  0.181195"
      ]
     },
     "execution_count": 9,
     "metadata": {},
     "output_type": "execute_result"
    }
   ],
   "source": [
    "pd.concat([ie_comp_time_2D.std(), \n",
    "           ie_comp_time_3D.std(), \n",
    "           ie_comp_time_4D.std()], axis=1)*1000"
   ]
  },
  {
   "cell_type": "markdown",
   "id": "3f1b5abb",
   "metadata": {},
   "source": [
    "# plot"
   ]
  },
  {
   "cell_type": "code",
   "execution_count": 10,
   "id": "883e653b",
   "metadata": {},
   "outputs": [
    {
     "data": {
      "image/png": "[encoded data removed]",
      "text/plain": [
       "<Figure size 900x300 with 2 Axes>"
      ]
     },
     "metadata": {},
     "output_type": "display_data"
    }
   ],
   "source": [
    "plt.figure(figsize=(9, 3))\n",
    "plt.subplot(121)\n",
    "plt.ylim(0, 170)\n",
    "plt.plot(ie_comp_time_2D.mean().index,\n",
    "         ie_comp_time_2D.mean().values*1000, '--^', c='#ffd166', label='2D')\n",
    "plt.plot(ie_comp_time_3D.mean().index,\n",
    "         ie_comp_time_3D.mean().values*1000, '--^', c='#ef476f', label='3D')\n",
    "plt.plot(ie_comp_time_4D.mean().index,\n",
    "         ie_comp_time_4D.mean().values*1000, '--^', c='#26547c', label='4D')\n",
    "plt.title('Integral equation')\n",
    "plt.xlabel(r'$\\Delta t$')\n",
    "plt.ylabel('Computational time (ms)');\n",
    "plt.legend();\n",
    "\n",
    "plt.subplot(122)\n",
    "plt.ylim(0, 170)\n",
    "plt.plot(series_comp_time_2D.mean().index,\n",
    "         series_comp_time_2D.mean().values*1000, '--^', c='#ffd166', label='2D')\n",
    "plt.plot(series_comp_time_3D.mean().index,\n",
    "         series_comp_time_3D.mean().values*1000, '--^', c='#ef476f', label='3D')\n",
    "plt.plot(series_comp_time_4D.mean().index,\n",
    "         series_comp_time_4D.mean().values*1000, '--^', c='#26547c', label='4D');\n",
    "plt.title('Bessel series')\n",
    "plt.xlabel(r'$N$');\n",
    "plt.ylabel('Computational time (ms)');\n",
    "\n",
    "plt.legend();\n",
    "plt.savefig('../_01_Figures/comp_time.pdf', \n",
    "            transparent=True, \n",
    "            dpi=600, \n",
    "            bbox_inches='tight');"
   ]
  },
  {
   "cell_type": "code",
   "execution_count": null,
   "id": "4bbaca1c",
   "metadata": {},
   "outputs": [],
   "source": []
  }
 ],
 "metadata": {
  "kernelspec": {
   "display_name": "Python 3 (ipykernel)",
   "language": "python",
   "name": "python3"
  },
  "language_info": {
   "codemirror_mode": {
    "name": "ipython",
    "version": 3
   },
   "file_extension": ".py",
   "mimetype": "text/x-python",
   "name": "python",
   "nbconvert_exporter": "python",
   "pygments_lexer": "ipython3",
   "version": "3.10.6"
  }
 },
 "nbformat": 4,
 "nbformat_minor": 5
}
