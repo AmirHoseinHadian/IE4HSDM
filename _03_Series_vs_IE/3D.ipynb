{
 "cells": [
  {
   "cell_type": "code",
   "execution_count": 1,
   "id": "e52e3847",
   "metadata": {},
   "outputs": [],
   "source": [
    "import numpy as np\n",
    "import pandas as pd\n",
    "from tqdm import tqdm\n",
    "\n",
    "from mpmath import besseljzero\n",
    "from scipy.special import gamma\n",
    "from scipy.special import jv, iv\n",
    "from scipy.special import jn_zeros\n",
    "from scipy.optimize import differential_evolution\n",
    "from scipy.interpolate import interp1d\n",
    "\n",
    "from scipy.stats import pearsonr\n",
    "from sklearn.metrics import r2_score\n",
    "\n",
    "import seaborn as sns\n",
    "import matplotlib.pyplot as plt"
   ]
  },
  {
   "cell_type": "code",
   "execution_count": 2,
   "id": "5d89b181",
   "metadata": {},
   "outputs": [],
   "source": [
    "def simulate_HSDM_3D(a, mu, ndt, sigma=1, dt=0.001):\n",
    "    x = np.zeros(mu.shape)\n",
    "    \n",
    "    rt = 0\n",
    "    \n",
    "    while np.linalg.norm(x, 2) < a(rt):\n",
    "        x += mu*dt + sigma*np.sqrt(dt)*np.random.normal(0, 1, mu.shape)\n",
    "        rt += dt\n",
    "    \n",
    "    theta1 = np.arctan2(np.sqrt(x[2]**2 + x[1]**2), x[0])\n",
    "    theta2 = np.arctan2(x[2], x[1])   \n",
    "    \n",
    "    return rt+ndt, (theta1, theta2)"
   ]
  },
  {
   "cell_type": "code",
   "execution_count": 3,
   "id": "337f9f8b",
   "metadata": {},
   "outputs": [],
   "source": [
    "def series_bessel_fpt(t, a=1, sigma=1, nu=0, n=100):\n",
    "    zeros = np.asarray([float(besseljzero(nu, i+1)) for i in range(n)])\n",
    "    fpt = np.zeros(t.shape)\n",
    "    \n",
    "    for i in range(t.shape[0]):\n",
    "        series = np.sum((zeros**(nu+1)/jv(nu+1, zeros)) * np.exp(-(zeros**2 * sigma**2)/(2*a**2)*t[i]))\n",
    "        fpt[i] = sigma**2/(2**nu * a**2 * gamma(nu + 1)) * series\n",
    "        \n",
    "    return interp1d(t, fpt)"
   ]
  },
  {
   "cell_type": "code",
   "execution_count": 4,
   "id": "fd588e9b",
   "metadata": {},
   "outputs": [],
   "source": [
    "def HSDM_3D_likelihood(prms, RT, Theta, N_series):\n",
    "    a = prms[0]\n",
    "    ndt = prms[1]\n",
    "    mu = np.array([prms[2], prms[3], prms[4]])\n",
    "    \n",
    "    tt = np.arange(0.001, max(RT)+0.02, 0.02)\n",
    "    fpt = series_bessel_fpt(tt, a, sigma=1, nu=(mu.shape[0]-2)/2, n=N_series)\n",
    "    \n",
    "    log_lik = 0\n",
    "    for i in range(len(RT)):\n",
    "        rt, theta = RT[i], Theta[i]\n",
    "        if rt - ndt > 0.001:\n",
    "            mu_dot_x0 = mu[0]*np.cos(theta[0])\n",
    "            mu_dot_x1 = mu[1]*np.sin(theta[0])*np.cos(theta[1]) \n",
    "            mu_dot_x2 = mu[2]*np.sin(theta[0])*np.sin(theta[1])\n",
    "            term1 = prms[0] * (mu_dot_x0 + mu_dot_x1 + mu_dot_x2)\n",
    "            term2 = 0.5 * np.linalg.norm(mu, 2)**2 * (rt-ndt)\n",
    "            \n",
    "            density = np.exp(term1 - term2) * fpt(rt - ndt)\n",
    "            \n",
    "            if 0.1**14 < density:\n",
    "                log_lik += -np.log(density)\n",
    "            else:\n",
    "                log_lik += -np.log(0.1**14)\n",
    "        else:\n",
    "            log_lik += -np.log(0.1**14)\n",
    "        \n",
    "    return log_lik"
   ]
  },
  {
   "cell_type": "code",
   "execution_count": 5,
   "id": "7857d54f",
   "metadata": {},
   "outputs": [],
   "source": [
    "recovery_df = {'threshold_true': [],\n",
    "               'threshold_estimate': [],\n",
    "               'ndt_true': [],\n",
    "               'ndt_estimate': [],\n",
    "               'mu1_true': [],\n",
    "               'mu1_estimate': [],\n",
    "               'mu2_true': [],\n",
    "               'mu2_estimate': [],\n",
    "               'mu3_true': [],\n",
    "               'mu3_estimate': []}\n",
    "\n",
    "min_threshold = 0.5\n",
    "max_threshold = 6\n",
    "\n",
    "min_ndt = 0.1\n",
    "max_ndt = 1\n",
    "\n",
    "min_mu = -6\n",
    "max_mu = 6\n",
    "\n",
    "N_series = 100"
   ]
  },
  {
   "cell_type": "code",
   "execution_count": 6,
   "id": "b1dec979",
   "metadata": {
    "scrolled": true
   },
   "outputs": [
    {
     "name": "stderr",
     "output_type": "stream",
     "text": [
      " 85%|██████████████████████████████████      | 17/20 [1:41:50<17:58, 359.42s/it]\n"
     ]
    },
    {
     "ename": "KeyboardInterrupt",
     "evalue": "",
     "output_type": "error",
     "traceback": [
      "\u001b[0;31m---------------------------------------------------------------------------\u001b[0m",
      "\u001b[0;31mKeyboardInterrupt\u001b[0m                         Traceback (most recent call last)",
      "Cell \u001b[0;32mIn[6], line 24\u001b[0m\n\u001b[1;32m     21\u001b[0m     RT\u001b[38;5;241m.\u001b[39mappend(rt)\n\u001b[1;32m     22\u001b[0m     Theta\u001b[38;5;241m.\u001b[39mappend(theta)\n\u001b[0;32m---> 24\u001b[0m min_ans \u001b[38;5;241m=\u001b[39m \u001b[43mdifferential_evolution\u001b[49m\u001b[43m(\u001b[49m\u001b[43mHSDM_3D_likelihood\u001b[49m\u001b[43m,\u001b[49m\n\u001b[1;32m     25\u001b[0m \u001b[43m                                 \u001b[49m\u001b[43margs\u001b[49m\u001b[38;5;241;43m=\u001b[39;49m\u001b[43m(\u001b[49m\u001b[43mRT\u001b[49m\u001b[43m,\u001b[49m\u001b[43m \u001b[49m\u001b[43mTheta\u001b[49m\u001b[43m,\u001b[49m\u001b[43m \u001b[49m\u001b[43mN_series\u001b[49m\u001b[43m)\u001b[49m\u001b[43m,\u001b[49m\u001b[43m \u001b[49m\n\u001b[1;32m     26\u001b[0m \u001b[43m                                 \u001b[49m\u001b[43mbounds\u001b[49m\u001b[38;5;241;43m=\u001b[39;49m\u001b[43m[\u001b[49m\u001b[43m(\u001b[49m\u001b[43mmin_threshold\u001b[49m\u001b[43m,\u001b[49m\u001b[43m \u001b[49m\u001b[43mmax_threshold\u001b[49m\u001b[43m)\u001b[49m\u001b[43m,\u001b[49m\u001b[43m \u001b[49m\u001b[43m(\u001b[49m\u001b[43mmin_ndt\u001b[49m\u001b[43m,\u001b[49m\u001b[43m \u001b[49m\u001b[43mmax_ndt\u001b[49m\u001b[43m)\u001b[49m\u001b[43m,\u001b[49m\n\u001b[1;32m     27\u001b[0m \u001b[43m                                         \u001b[49m\u001b[43m(\u001b[49m\u001b[43mmin_mu\u001b[49m\u001b[43m,\u001b[49m\u001b[43m \u001b[49m\u001b[43mmax_mu\u001b[49m\u001b[43m)\u001b[49m\u001b[43m,\u001b[49m\u001b[43m \u001b[49m\u001b[43m(\u001b[49m\u001b[43mmin_mu\u001b[49m\u001b[43m,\u001b[49m\u001b[43m \u001b[49m\u001b[43mmax_mu\u001b[49m\u001b[43m)\u001b[49m\u001b[43m,\u001b[49m\u001b[43m \u001b[49m\u001b[43m(\u001b[49m\u001b[43mmin_mu\u001b[49m\u001b[43m,\u001b[49m\u001b[43m \u001b[49m\u001b[43mmax_mu\u001b[49m\u001b[43m)\u001b[49m\u001b[43m]\u001b[49m\u001b[43m)\u001b[49m\n\u001b[1;32m     29\u001b[0m recovery_df[\u001b[38;5;124m'\u001b[39m\u001b[38;5;124mthreshold_estimate\u001b[39m\u001b[38;5;124m'\u001b[39m]\u001b[38;5;241m.\u001b[39mappend(min_ans\u001b[38;5;241m.\u001b[39mx[\u001b[38;5;241m0\u001b[39m])\n\u001b[1;32m     30\u001b[0m recovery_df[\u001b[38;5;124m'\u001b[39m\u001b[38;5;124mndt_estimate\u001b[39m\u001b[38;5;124m'\u001b[39m]\u001b[38;5;241m.\u001b[39mappend(min_ans\u001b[38;5;241m.\u001b[39mx[\u001b[38;5;241m1\u001b[39m])\n",
      "File \u001b[0;32m~/mambaforge/lib/python3.10/site-packages/scipy/optimize/_differentialevolution.py:392\u001b[0m, in \u001b[0;36mdifferential_evolution\u001b[0;34m(func, bounds, args, strategy, maxiter, popsize, tol, mutation, recombination, seed, callback, disp, polish, init, atol, updating, workers, constraints, x0, integrality, vectorized)\u001b[0m\n\u001b[1;32m    375\u001b[0m \u001b[38;5;66;03m# using a context manager means that any created Pool objects are\u001b[39;00m\n\u001b[1;32m    376\u001b[0m \u001b[38;5;66;03m# cleared up.\u001b[39;00m\n\u001b[1;32m    377\u001b[0m \u001b[38;5;28;01mwith\u001b[39;00m DifferentialEvolutionSolver(func, bounds, args\u001b[38;5;241m=\u001b[39margs,\n\u001b[1;32m    378\u001b[0m                                  strategy\u001b[38;5;241m=\u001b[39mstrategy,\n\u001b[1;32m    379\u001b[0m                                  maxiter\u001b[38;5;241m=\u001b[39mmaxiter,\n\u001b[0;32m   (...)\u001b[0m\n\u001b[1;32m    390\u001b[0m                                  integrality\u001b[38;5;241m=\u001b[39mintegrality,\n\u001b[1;32m    391\u001b[0m                                  vectorized\u001b[38;5;241m=\u001b[39mvectorized) \u001b[38;5;28;01mas\u001b[39;00m solver:\n\u001b[0;32m--> 392\u001b[0m     ret \u001b[38;5;241m=\u001b[39m \u001b[43msolver\u001b[49m\u001b[38;5;241;43m.\u001b[39;49m\u001b[43msolve\u001b[49m\u001b[43m(\u001b[49m\u001b[43m)\u001b[49m\n\u001b[1;32m    394\u001b[0m \u001b[38;5;28;01mreturn\u001b[39;00m ret\n",
      "File \u001b[0;32m~/mambaforge/lib/python3.10/site-packages/scipy/optimize/_differentialevolution.py:993\u001b[0m, in \u001b[0;36mDifferentialEvolutionSolver.solve\u001b[0;34m(self)\u001b[0m\n\u001b[1;32m    990\u001b[0m \u001b[38;5;28;01mfor\u001b[39;00m nit \u001b[38;5;129;01min\u001b[39;00m \u001b[38;5;28mrange\u001b[39m(\u001b[38;5;241m1\u001b[39m, \u001b[38;5;28mself\u001b[39m\u001b[38;5;241m.\u001b[39mmaxiter \u001b[38;5;241m+\u001b[39m \u001b[38;5;241m1\u001b[39m):\n\u001b[1;32m    991\u001b[0m     \u001b[38;5;66;03m# evolve the population by a generation\u001b[39;00m\n\u001b[1;32m    992\u001b[0m     \u001b[38;5;28;01mtry\u001b[39;00m:\n\u001b[0;32m--> 993\u001b[0m         \u001b[38;5;28;43mnext\u001b[39;49m\u001b[43m(\u001b[49m\u001b[38;5;28;43mself\u001b[39;49m\u001b[43m)\u001b[49m\n\u001b[1;32m    994\u001b[0m     \u001b[38;5;28;01mexcept\u001b[39;00m \u001b[38;5;167;01mStopIteration\u001b[39;00m:\n\u001b[1;32m    995\u001b[0m         warning_flag \u001b[38;5;241m=\u001b[39m \u001b[38;5;28;01mTrue\u001b[39;00m\n",
      "File \u001b[0;32m~/mambaforge/lib/python3.10/site-packages/scipy/optimize/_differentialevolution.py:1379\u001b[0m, in \u001b[0;36mDifferentialEvolutionSolver.__next__\u001b[0;34m(self)\u001b[0m\n\u001b[1;32m   1377\u001b[0m     feasible \u001b[38;5;241m=\u001b[39m \u001b[38;5;28;01mTrue\u001b[39;00m\n\u001b[1;32m   1378\u001b[0m     cv \u001b[38;5;241m=\u001b[39m np\u001b[38;5;241m.\u001b[39matleast_2d([\u001b[38;5;241m0.\u001b[39m])\n\u001b[0;32m-> 1379\u001b[0m     energy \u001b[38;5;241m=\u001b[39m \u001b[38;5;28;43mself\u001b[39;49m\u001b[38;5;241;43m.\u001b[39;49m\u001b[43mfunc\u001b[49m\u001b[43m(\u001b[49m\u001b[43mparameters\u001b[49m\u001b[43m)\u001b[49m\n\u001b[1;32m   1380\u001b[0m     \u001b[38;5;28mself\u001b[39m\u001b[38;5;241m.\u001b[39m_nfev \u001b[38;5;241m+\u001b[39m\u001b[38;5;241m=\u001b[39m \u001b[38;5;241m1\u001b[39m\n\u001b[1;32m   1382\u001b[0m \u001b[38;5;66;03m# compare trial and population member\u001b[39;00m\n",
      "File \u001b[0;32m~/mambaforge/lib/python3.10/site-packages/scipy/_lib/_util.py:407\u001b[0m, in \u001b[0;36m_FunctionWrapper.__call__\u001b[0;34m(self, x)\u001b[0m\n\u001b[1;32m    406\u001b[0m \u001b[38;5;28;01mdef\u001b[39;00m \u001b[38;5;21m__call__\u001b[39m(\u001b[38;5;28mself\u001b[39m, x):\n\u001b[0;32m--> 407\u001b[0m     \u001b[38;5;28;01mreturn\u001b[39;00m \u001b[38;5;28;43mself\u001b[39;49m\u001b[38;5;241;43m.\u001b[39;49m\u001b[43mf\u001b[49m\u001b[43m(\u001b[49m\u001b[43mx\u001b[49m\u001b[43m,\u001b[49m\u001b[43m \u001b[49m\u001b[38;5;241;43m*\u001b[39;49m\u001b[38;5;28;43mself\u001b[39;49m\u001b[38;5;241;43m.\u001b[39;49m\u001b[43margs\u001b[49m\u001b[43m)\u001b[49m\n",
      "Cell \u001b[0;32mIn[4], line 7\u001b[0m, in \u001b[0;36mHSDM_3D_likelihood\u001b[0;34m(prms, RT, Theta, N_series)\u001b[0m\n\u001b[1;32m      4\u001b[0m mu \u001b[38;5;241m=\u001b[39m np\u001b[38;5;241m.\u001b[39marray([prms[\u001b[38;5;241m2\u001b[39m], prms[\u001b[38;5;241m3\u001b[39m], prms[\u001b[38;5;241m4\u001b[39m]])\n\u001b[1;32m      6\u001b[0m tt \u001b[38;5;241m=\u001b[39m np\u001b[38;5;241m.\u001b[39marange(\u001b[38;5;241m0.001\u001b[39m, \u001b[38;5;28mmax\u001b[39m(RT)\u001b[38;5;241m+\u001b[39m\u001b[38;5;241m0.02\u001b[39m, \u001b[38;5;241m0.02\u001b[39m)\n\u001b[0;32m----> 7\u001b[0m fpt \u001b[38;5;241m=\u001b[39m \u001b[43mseries_bessel_fpt\u001b[49m\u001b[43m(\u001b[49m\u001b[43mtt\u001b[49m\u001b[43m,\u001b[49m\u001b[43m \u001b[49m\u001b[43ma\u001b[49m\u001b[43m,\u001b[49m\u001b[43m \u001b[49m\u001b[43msigma\u001b[49m\u001b[38;5;241;43m=\u001b[39;49m\u001b[38;5;241;43m1\u001b[39;49m\u001b[43m,\u001b[49m\u001b[43m \u001b[49m\u001b[43mnu\u001b[49m\u001b[38;5;241;43m=\u001b[39;49m\u001b[43m(\u001b[49m\u001b[43mmu\u001b[49m\u001b[38;5;241;43m.\u001b[39;49m\u001b[43mshape\u001b[49m\u001b[43m[\u001b[49m\u001b[38;5;241;43m0\u001b[39;49m\u001b[43m]\u001b[49m\u001b[38;5;241;43m-\u001b[39;49m\u001b[38;5;241;43m2\u001b[39;49m\u001b[43m)\u001b[49m\u001b[38;5;241;43m/\u001b[39;49m\u001b[38;5;241;43m2\u001b[39;49m\u001b[43m,\u001b[49m\u001b[43m \u001b[49m\u001b[43mn\u001b[49m\u001b[38;5;241;43m=\u001b[39;49m\u001b[43mN_series\u001b[49m\u001b[43m)\u001b[49m\n\u001b[1;32m      9\u001b[0m log_lik \u001b[38;5;241m=\u001b[39m \u001b[38;5;241m0\u001b[39m\n\u001b[1;32m     10\u001b[0m \u001b[38;5;28;01mfor\u001b[39;00m i \u001b[38;5;129;01min\u001b[39;00m \u001b[38;5;28mrange\u001b[39m(\u001b[38;5;28mlen\u001b[39m(RT)):\n",
      "Cell \u001b[0;32mIn[3], line 2\u001b[0m, in \u001b[0;36mseries_bessel_fpt\u001b[0;34m(t, a, sigma, nu, n)\u001b[0m\n\u001b[1;32m      1\u001b[0m \u001b[38;5;28;01mdef\u001b[39;00m \u001b[38;5;21mseries_bessel_fpt\u001b[39m(t, a\u001b[38;5;241m=\u001b[39m\u001b[38;5;241m1\u001b[39m, sigma\u001b[38;5;241m=\u001b[39m\u001b[38;5;241m1\u001b[39m, nu\u001b[38;5;241m=\u001b[39m\u001b[38;5;241m0\u001b[39m, n\u001b[38;5;241m=\u001b[39m\u001b[38;5;241m100\u001b[39m):\n\u001b[0;32m----> 2\u001b[0m     zeros \u001b[38;5;241m=\u001b[39m np\u001b[38;5;241m.\u001b[39masarray([\u001b[38;5;28mfloat\u001b[39m(besseljzero(nu, i\u001b[38;5;241m+\u001b[39m\u001b[38;5;241m1\u001b[39m)) \u001b[38;5;28;01mfor\u001b[39;00m i \u001b[38;5;129;01min\u001b[39;00m \u001b[38;5;28mrange\u001b[39m(n)])\n\u001b[1;32m      3\u001b[0m     fpt \u001b[38;5;241m=\u001b[39m np\u001b[38;5;241m.\u001b[39mzeros(t\u001b[38;5;241m.\u001b[39mshape)\n\u001b[1;32m      5\u001b[0m     \u001b[38;5;28;01mfor\u001b[39;00m i \u001b[38;5;129;01min\u001b[39;00m \u001b[38;5;28mrange\u001b[39m(t\u001b[38;5;241m.\u001b[39mshape[\u001b[38;5;241m0\u001b[39m]):\n",
      "Cell \u001b[0;32mIn[3], line 2\u001b[0m, in \u001b[0;36m<listcomp>\u001b[0;34m(.0)\u001b[0m\n\u001b[1;32m      1\u001b[0m \u001b[38;5;28;01mdef\u001b[39;00m \u001b[38;5;21mseries_bessel_fpt\u001b[39m(t, a\u001b[38;5;241m=\u001b[39m\u001b[38;5;241m1\u001b[39m, sigma\u001b[38;5;241m=\u001b[39m\u001b[38;5;241m1\u001b[39m, nu\u001b[38;5;241m=\u001b[39m\u001b[38;5;241m0\u001b[39m, n\u001b[38;5;241m=\u001b[39m\u001b[38;5;241m100\u001b[39m):\n\u001b[0;32m----> 2\u001b[0m     zeros \u001b[38;5;241m=\u001b[39m np\u001b[38;5;241m.\u001b[39masarray([\u001b[38;5;28mfloat\u001b[39m(\u001b[43mbesseljzero\u001b[49m\u001b[43m(\u001b[49m\u001b[43mnu\u001b[49m\u001b[43m,\u001b[49m\u001b[43m \u001b[49m\u001b[43mi\u001b[49m\u001b[38;5;241;43m+\u001b[39;49m\u001b[38;5;241;43m1\u001b[39;49m\u001b[43m)\u001b[49m) \u001b[38;5;28;01mfor\u001b[39;00m i \u001b[38;5;129;01min\u001b[39;00m \u001b[38;5;28mrange\u001b[39m(n)])\n\u001b[1;32m      3\u001b[0m     fpt \u001b[38;5;241m=\u001b[39m np\u001b[38;5;241m.\u001b[39mzeros(t\u001b[38;5;241m.\u001b[39mshape)\n\u001b[1;32m      5\u001b[0m     \u001b[38;5;28;01mfor\u001b[39;00m i \u001b[38;5;129;01min\u001b[39;00m \u001b[38;5;28mrange\u001b[39m(t\u001b[38;5;241m.\u001b[39mshape[\u001b[38;5;241m0\u001b[39m]):\n",
      "File \u001b[0;32m~/mambaforge/lib/python3.10/site-packages/mpmath/functions/bessel.py:1017\u001b[0m, in \u001b[0;36mbesseljzero\u001b[0;34m(ctx, v, m, derivative)\u001b[0m\n\u001b[1;32m    905\u001b[0m \u001b[38;5;129m@defun\u001b[39m\n\u001b[1;32m    906\u001b[0m \u001b[38;5;28;01mdef\u001b[39;00m \u001b[38;5;21mbesseljzero\u001b[39m(ctx, v, m, derivative\u001b[38;5;241m=\u001b[39m\u001b[38;5;241m0\u001b[39m):\n\u001b[1;32m    907\u001b[0m     \u001b[38;5;124mr\u001b[39m\u001b[38;5;124;03m\"\"\"\u001b[39;00m\n\u001b[1;32m    908\u001b[0m \u001b[38;5;124;03m    For a real order `\\nu \\ge 0` and a positive integer `m`, returns\u001b[39;00m\n\u001b[1;32m    909\u001b[0m \u001b[38;5;124;03m    `j_{\\nu,m}`, the `m`-th positive zero of the Bessel function of the\u001b[39;00m\n\u001b[0;32m   (...)\u001b[0m\n\u001b[1;32m   1015\u001b[0m \n\u001b[1;32m   1016\u001b[0m \u001b[38;5;124;03m    \"\"\"\u001b[39;00m\n\u001b[0;32m-> 1017\u001b[0m     \u001b[38;5;28;01mreturn\u001b[39;00m \u001b[38;5;241m+\u001b[39m\u001b[43mbessel_zero\u001b[49m\u001b[43m(\u001b[49m\u001b[43mctx\u001b[49m\u001b[43m,\u001b[49m\u001b[43m \u001b[49m\u001b[38;5;241;43m1\u001b[39;49m\u001b[43m,\u001b[49m\u001b[43m \u001b[49m\u001b[43mderivative\u001b[49m\u001b[43m,\u001b[49m\u001b[43m \u001b[49m\u001b[43mv\u001b[49m\u001b[43m,\u001b[49m\u001b[43m \u001b[49m\u001b[43mm\u001b[49m\u001b[43m)\u001b[49m\n",
      "File \u001b[0;32m~/mambaforge/lib/python3.10/site-packages/mpmath/functions/bessel.py:885\u001b[0m, in \u001b[0;36mbessel_zero\u001b[0;34m(ctx, kind, prime, v, m, isoltol, _interval_cache)\u001b[0m\n\u001b[1;32m    883\u001b[0m r, err \u001b[38;5;241m=\u001b[39m mcmahon(ctx, kind, prime, v, m)\n\u001b[1;32m    884\u001b[0m \u001b[38;5;28;01mif\u001b[39;00m err \u001b[38;5;241m<\u001b[39m isoltol:\n\u001b[0;32m--> 885\u001b[0m     \u001b[38;5;28;01mreturn\u001b[39;00m \u001b[43mfind_in_interval\u001b[49m\u001b[43m(\u001b[49m\u001b[43mctx\u001b[49m\u001b[43m,\u001b[49m\u001b[43m \u001b[49m\u001b[43mf\u001b[49m\u001b[43m,\u001b[49m\u001b[43m \u001b[49m\u001b[43m(\u001b[49m\u001b[43mr\u001b[49m\u001b[38;5;241;43m-\u001b[39;49m\u001b[43misoltol\u001b[49m\u001b[43m,\u001b[49m\u001b[43m \u001b[49m\u001b[43mr\u001b[49m\u001b[38;5;241;43m+\u001b[39;49m\u001b[43misoltol\u001b[49m\u001b[43m)\u001b[49m\u001b[43m)\u001b[49m\n\u001b[1;32m    886\u001b[0m \u001b[38;5;66;03m# An x such that 0 < x < r_{v,1}\u001b[39;00m\n\u001b[1;32m    887\u001b[0m \u001b[38;5;28;01mif\u001b[39;00m kind \u001b[38;5;241m==\u001b[39m \u001b[38;5;241m1\u001b[39m \u001b[38;5;129;01mand\u001b[39;00m \u001b[38;5;129;01mnot\u001b[39;00m prime: low \u001b[38;5;241m=\u001b[39m \u001b[38;5;241m2.4\u001b[39m\n",
      "File \u001b[0;32m~/mambaforge/lib/python3.10/site-packages/mpmath/functions/bessel.py:850\u001b[0m, in \u001b[0;36mfind_in_interval\u001b[0;34m(ctx, f, ab)\u001b[0m\n\u001b[1;32m    849\u001b[0m \u001b[38;5;28;01mdef\u001b[39;00m \u001b[38;5;21mfind_in_interval\u001b[39m(ctx, f, ab):\n\u001b[0;32m--> 850\u001b[0m     \u001b[38;5;28;01mreturn\u001b[39;00m \u001b[43mctx\u001b[49m\u001b[38;5;241;43m.\u001b[39;49m\u001b[43mfindroot\u001b[49m\u001b[43m(\u001b[49m\u001b[43mf\u001b[49m\u001b[43m,\u001b[49m\u001b[43m \u001b[49m\u001b[43mab\u001b[49m\u001b[43m,\u001b[49m\u001b[43m \u001b[49m\u001b[43msolver\u001b[49m\u001b[38;5;241;43m=\u001b[39;49m\u001b[38;5;124;43m'\u001b[39;49m\u001b[38;5;124;43millinois\u001b[39;49m\u001b[38;5;124;43m'\u001b[39;49m\u001b[43m,\u001b[49m\u001b[43m \u001b[49m\u001b[43mverify\u001b[49m\u001b[38;5;241;43m=\u001b[39;49m\u001b[38;5;28;43;01mFalse\u001b[39;49;00m\u001b[43m)\u001b[49m\n",
      "File \u001b[0;32m~/mambaforge/lib/python3.10/site-packages/mpmath/calculus/optimization.py:969\u001b[0m, in \u001b[0;36mfindroot\u001b[0;34m(ctx, f, x0, solver, tol, verbose, verify, **kwargs)\u001b[0m\n\u001b[1;32m    967\u001b[0m     maxsteps \u001b[38;5;241m=\u001b[39m iterations\u001b[38;5;241m.\u001b[39mmaxsteps\n\u001b[1;32m    968\u001b[0m i \u001b[38;5;241m=\u001b[39m \u001b[38;5;241m0\u001b[39m\n\u001b[0;32m--> 969\u001b[0m \u001b[38;5;28;01mfor\u001b[39;00m x, error \u001b[38;5;129;01min\u001b[39;00m iterations:\n\u001b[1;32m    970\u001b[0m     \u001b[38;5;28;01mif\u001b[39;00m verbose:\n\u001b[1;32m    971\u001b[0m         \u001b[38;5;28mprint\u001b[39m(\u001b[38;5;124m'\u001b[39m\u001b[38;5;124mx:    \u001b[39m\u001b[38;5;124m'\u001b[39m, x)\n",
      "File \u001b[0;32m~/mambaforge/lib/python3.10/site-packages/mpmath/calculus/optimization.py:416\u001b[0m, in \u001b[0;36mIllinois.__iter__\u001b[0;34m(self)\u001b[0m\n\u001b[1;32m    414\u001b[0m s \u001b[38;5;241m=\u001b[39m (fb \u001b[38;5;241m-\u001b[39m fa) \u001b[38;5;241m/\u001b[39m l\n\u001b[1;32m    415\u001b[0m z \u001b[38;5;241m=\u001b[39m a \u001b[38;5;241m-\u001b[39m fa\u001b[38;5;241m/\u001b[39ms\n\u001b[0;32m--> 416\u001b[0m fz \u001b[38;5;241m=\u001b[39m \u001b[43mf\u001b[49m\u001b[43m(\u001b[49m\u001b[43mz\u001b[49m\u001b[43m)\u001b[49m\n\u001b[1;32m    417\u001b[0m \u001b[38;5;28;01mif\u001b[39;00m \u001b[38;5;28mabs\u001b[39m(fz) \u001b[38;5;241m<\u001b[39m \u001b[38;5;28mself\u001b[39m\u001b[38;5;241m.\u001b[39mtol:\n\u001b[1;32m    418\u001b[0m     \u001b[38;5;66;03m# TODO: better condition (when f is very flat)\u001b[39;00m\n\u001b[1;32m    419\u001b[0m     \u001b[38;5;28;01mif\u001b[39;00m \u001b[38;5;28mself\u001b[39m\u001b[38;5;241m.\u001b[39mverbose:\n",
      "File \u001b[0;32m~/mambaforge/lib/python3.10/site-packages/mpmath/functions/bessel.py:868\u001b[0m, in \u001b[0;36mbessel_zero.<locals>.<lambda>\u001b[0;34m(x)\u001b[0m\n\u001b[1;32m    866\u001b[0m \u001b[38;5;28;01mif\u001b[39;00m kind \u001b[38;5;241m==\u001b[39m \u001b[38;5;241m1\u001b[39m:\n\u001b[1;32m    867\u001b[0m     \u001b[38;5;28;01mif\u001b[39;00m prime: f \u001b[38;5;241m=\u001b[39m \u001b[38;5;28;01mlambda\u001b[39;00m x: ctx\u001b[38;5;241m.\u001b[39mbesselj(v,x,derivative\u001b[38;5;241m=\u001b[39m\u001b[38;5;241m1\u001b[39m)\n\u001b[0;32m--> 868\u001b[0m     \u001b[38;5;28;01melse\u001b[39;00m:     f \u001b[38;5;241m=\u001b[39m \u001b[38;5;28;01mlambda\u001b[39;00m x: \u001b[43mctx\u001b[49m\u001b[38;5;241;43m.\u001b[39;49m\u001b[43mbesselj\u001b[49m\u001b[43m(\u001b[49m\u001b[43mv\u001b[49m\u001b[43m,\u001b[49m\u001b[43mx\u001b[49m\u001b[43m)\u001b[49m\n\u001b[1;32m    869\u001b[0m \u001b[38;5;28;01mif\u001b[39;00m kind \u001b[38;5;241m==\u001b[39m \u001b[38;5;241m2\u001b[39m:\n\u001b[1;32m    870\u001b[0m     \u001b[38;5;28;01mif\u001b[39;00m prime: f \u001b[38;5;241m=\u001b[39m \u001b[38;5;28;01mlambda\u001b[39;00m x: ctx\u001b[38;5;241m.\u001b[39mbessely(v,x,derivative\u001b[38;5;241m=\u001b[39m\u001b[38;5;241m1\u001b[39m)\n",
      "File \u001b[0;32m~/mambaforge/lib/python3.10/site-packages/mpmath/functions/bessel.py:74\u001b[0m, in \u001b[0;36mbesselj\u001b[0;34m(ctx, n, z, derivative, **kwargs)\u001b[0m\n\u001b[1;32m     72\u001b[0m         r \u001b[38;5;241m=\u001b[39m ctx\u001b[38;5;241m.\u001b[39mfneg(ctx\u001b[38;5;241m.\u001b[39mfmul(w, w, prec\u001b[38;5;241m=\u001b[39m\u001b[38;5;28mmax\u001b[39m(\u001b[38;5;241m0\u001b[39m,ctx\u001b[38;5;241m.\u001b[39mprec\u001b[38;5;241m+\u001b[39mM)), exact\u001b[38;5;241m=\u001b[39m\u001b[38;5;28;01mTrue\u001b[39;00m)\n\u001b[1;32m     73\u001b[0m         \u001b[38;5;28;01mreturn\u001b[39;00m [([w], [n], [], [n\u001b[38;5;241m+\u001b[39m\u001b[38;5;241m1\u001b[39m], [], [n\u001b[38;5;241m+\u001b[39m\u001b[38;5;241m1\u001b[39m], r)]\n\u001b[0;32m---> 74\u001b[0m     v \u001b[38;5;241m=\u001b[39m \u001b[43mctx\u001b[49m\u001b[38;5;241;43m.\u001b[39;49m\u001b[43mhypercomb\u001b[49m\u001b[43m(\u001b[49m\u001b[43mh\u001b[49m\u001b[43m,\u001b[49m\u001b[43m \u001b[49m\u001b[43m[\u001b[49m\u001b[43mn\u001b[49m\u001b[43m]\u001b[49m\u001b[43m,\u001b[49m\u001b[43m \u001b[49m\u001b[38;5;241;43m*\u001b[39;49m\u001b[38;5;241;43m*\u001b[39;49m\u001b[43mkwargs\u001b[49m\u001b[43m)\u001b[49m\n\u001b[1;32m     75\u001b[0m \u001b[38;5;28;01mfinally\u001b[39;00m:\n\u001b[1;32m     76\u001b[0m     ctx\u001b[38;5;241m.\u001b[39mprec \u001b[38;5;241m=\u001b[39m orig\n",
      "File \u001b[0;32m~/mambaforge/lib/python3.10/site-packages/mpmath/functions/hypergeometric.py:125\u001b[0m, in \u001b[0;36mhypercomb\u001b[0;34m(ctx, function, params, discard_known_zeros, **kwargs)\u001b[0m\n\u001b[1;32m    120\u001b[0m     \u001b[38;5;28mprint\u001b[39m(\u001b[38;5;124m\"\u001b[39m\u001b[38;5;124m    z\u001b[39m\u001b[38;5;124m\"\u001b[39m, ctx\u001b[38;5;241m.\u001b[39mnstr(z))\n\u001b[1;32m    121\u001b[0m \u001b[38;5;66;03m#v = ctx.hyper(a_s, b_s, z, **kwargs)\u001b[39;00m\n\u001b[1;32m    122\u001b[0m \u001b[38;5;66;03m#for a in alpha_s: v *= ctx.gamma(a)\u001b[39;00m\n\u001b[1;32m    123\u001b[0m \u001b[38;5;66;03m#for b in beta_s: v *= ctx.rgamma(b)\u001b[39;00m\n\u001b[1;32m    124\u001b[0m \u001b[38;5;66;03m#for w, c in zip(w_s, c_s): v *= ctx.power(w, c)\u001b[39;00m\n\u001b[0;32m--> 125\u001b[0m v \u001b[38;5;241m=\u001b[39m ctx\u001b[38;5;241m.\u001b[39mfprod([\u001b[43mctx\u001b[49m\u001b[38;5;241;43m.\u001b[39;49m\u001b[43mhyper\u001b[49m\u001b[43m(\u001b[49m\u001b[43ma_s\u001b[49m\u001b[43m,\u001b[49m\u001b[43m \u001b[49m\u001b[43mb_s\u001b[49m\u001b[43m,\u001b[49m\u001b[43m \u001b[49m\u001b[43mz\u001b[49m\u001b[43m,\u001b[49m\u001b[43m \u001b[49m\u001b[38;5;241;43m*\u001b[39;49m\u001b[38;5;241;43m*\u001b[39;49m\u001b[43mkwargs\u001b[49m\u001b[43m)\u001b[49m] \u001b[38;5;241m+\u001b[39m \\\n\u001b[1;32m    126\u001b[0m     [ctx\u001b[38;5;241m.\u001b[39mgamma(a) \u001b[38;5;28;01mfor\u001b[39;00m a \u001b[38;5;129;01min\u001b[39;00m alpha_s] \u001b[38;5;241m+\u001b[39m \\\n\u001b[1;32m    127\u001b[0m     [ctx\u001b[38;5;241m.\u001b[39mrgamma(b) \u001b[38;5;28;01mfor\u001b[39;00m b \u001b[38;5;129;01min\u001b[39;00m beta_s] \u001b[38;5;241m+\u001b[39m \\\n\u001b[1;32m    128\u001b[0m     [ctx\u001b[38;5;241m.\u001b[39mpower(w,c) \u001b[38;5;28;01mfor\u001b[39;00m (w,c) \u001b[38;5;129;01min\u001b[39;00m \u001b[38;5;28mzip\u001b[39m(w_s,c_s)])\n\u001b[1;32m    129\u001b[0m \u001b[38;5;28;01mif\u001b[39;00m verbose:\n\u001b[1;32m    130\u001b[0m     \u001b[38;5;28mprint\u001b[39m(\u001b[38;5;124m\"\u001b[39m\u001b[38;5;124m    Value:\u001b[39m\u001b[38;5;124m\"\u001b[39m, v)\n",
      "File \u001b[0;32m~/mambaforge/lib/python3.10/site-packages/mpmath/functions/hypergeometric.py:219\u001b[0m, in \u001b[0;36mhyper\u001b[0;34m(ctx, a_s, b_s, z, **kwargs)\u001b[0m\n\u001b[1;32m    217\u001b[0m \u001b[38;5;66;03m# Handle special cases\u001b[39;00m\n\u001b[1;32m    218\u001b[0m \u001b[38;5;28;01mif\u001b[39;00m p \u001b[38;5;241m==\u001b[39m \u001b[38;5;241m0\u001b[39m:\n\u001b[0;32m--> 219\u001b[0m     \u001b[38;5;28;01mif\u001b[39;00m   q \u001b[38;5;241m==\u001b[39m \u001b[38;5;241m1\u001b[39m: \u001b[38;5;28;01mreturn\u001b[39;00m \u001b[43mctx\u001b[49m\u001b[38;5;241;43m.\u001b[39;49m\u001b[43m_hyp0f1\u001b[49m\u001b[43m(\u001b[49m\u001b[43mb_s\u001b[49m\u001b[43m,\u001b[49m\u001b[43m \u001b[49m\u001b[43mz\u001b[49m\u001b[43m,\u001b[49m\u001b[43m \u001b[49m\u001b[38;5;241;43m*\u001b[39;49m\u001b[38;5;241;43m*\u001b[39;49m\u001b[43mkwargs\u001b[49m\u001b[43m)\u001b[49m\n\u001b[1;32m    220\u001b[0m     \u001b[38;5;28;01melif\u001b[39;00m q \u001b[38;5;241m==\u001b[39m \u001b[38;5;241m0\u001b[39m: \u001b[38;5;28;01mreturn\u001b[39;00m ctx\u001b[38;5;241m.\u001b[39mexp(z)\n\u001b[1;32m    221\u001b[0m \u001b[38;5;28;01melif\u001b[39;00m p \u001b[38;5;241m==\u001b[39m \u001b[38;5;241m1\u001b[39m:\n",
      "File \u001b[0;32m~/mambaforge/lib/python3.10/site-packages/mpmath/functions/hypergeometric.py:298\u001b[0m, in \u001b[0;36m_hyp0f1\u001b[0;34m(ctx, b_s, z, **kwargs)\u001b[0m\n\u001b[1;32m    296\u001b[0m         T2 \u001b[38;5;241m=\u001b[39m ([jw,E], [c,\u001b[38;5;241m1\u001b[39m], [], [], [b\u001b[38;5;241m-\u001b[39mctx\u001b[38;5;241m.\u001b[39mmpq_1_2, ctx\u001b[38;5;241m.\u001b[39mmpq_3_2\u001b[38;5;241m-\u001b[39mb], [], u)\n\u001b[1;32m    297\u001b[0m         \u001b[38;5;28;01mreturn\u001b[39;00m T1, T2\n\u001b[0;32m--> 298\u001b[0m     v \u001b[38;5;241m=\u001b[39m \u001b[43mctx\u001b[49m\u001b[38;5;241;43m.\u001b[39;49m\u001b[43mhypercomb\u001b[49m\u001b[43m(\u001b[49m\u001b[43mh\u001b[49m\u001b[43m,\u001b[49m\u001b[43m \u001b[49m\u001b[43m[\u001b[49m\u001b[43m]\u001b[49m\u001b[43m,\u001b[49m\u001b[43m \u001b[49m\u001b[43mforce_series\u001b[49m\u001b[38;5;241;43m=\u001b[39;49m\u001b[38;5;28;43;01mTrue\u001b[39;49;00m\u001b[43m)\u001b[49m\n\u001b[1;32m    299\u001b[0m     v \u001b[38;5;241m=\u001b[39m ctx\u001b[38;5;241m.\u001b[39mgamma(b)\u001b[38;5;241m/\u001b[39m(\u001b[38;5;241m2\u001b[39m\u001b[38;5;241m*\u001b[39mctx\u001b[38;5;241m.\u001b[39msqrt(ctx\u001b[38;5;241m.\u001b[39mpi))\u001b[38;5;241m*\u001b[39mv\n\u001b[1;32m    300\u001b[0m \u001b[38;5;28;01mfinally\u001b[39;00m:\n",
      "File \u001b[0;32m~/mambaforge/lib/python3.10/site-packages/mpmath/functions/hypergeometric.py:125\u001b[0m, in \u001b[0;36mhypercomb\u001b[0;34m(ctx, function, params, discard_known_zeros, **kwargs)\u001b[0m\n\u001b[1;32m    120\u001b[0m     \u001b[38;5;28mprint\u001b[39m(\u001b[38;5;124m\"\u001b[39m\u001b[38;5;124m    z\u001b[39m\u001b[38;5;124m\"\u001b[39m, ctx\u001b[38;5;241m.\u001b[39mnstr(z))\n\u001b[1;32m    121\u001b[0m \u001b[38;5;66;03m#v = ctx.hyper(a_s, b_s, z, **kwargs)\u001b[39;00m\n\u001b[1;32m    122\u001b[0m \u001b[38;5;66;03m#for a in alpha_s: v *= ctx.gamma(a)\u001b[39;00m\n\u001b[1;32m    123\u001b[0m \u001b[38;5;66;03m#for b in beta_s: v *= ctx.rgamma(b)\u001b[39;00m\n\u001b[1;32m    124\u001b[0m \u001b[38;5;66;03m#for w, c in zip(w_s, c_s): v *= ctx.power(w, c)\u001b[39;00m\n\u001b[0;32m--> 125\u001b[0m v \u001b[38;5;241m=\u001b[39m \u001b[43mctx\u001b[49m\u001b[38;5;241;43m.\u001b[39;49m\u001b[43mfprod\u001b[49m\u001b[43m(\u001b[49m\u001b[43m[\u001b[49m\u001b[43mctx\u001b[49m\u001b[38;5;241;43m.\u001b[39;49m\u001b[43mhyper\u001b[49m\u001b[43m(\u001b[49m\u001b[43ma_s\u001b[49m\u001b[43m,\u001b[49m\u001b[43m \u001b[49m\u001b[43mb_s\u001b[49m\u001b[43m,\u001b[49m\u001b[43m \u001b[49m\u001b[43mz\u001b[49m\u001b[43m,\u001b[49m\u001b[43m \u001b[49m\u001b[38;5;241;43m*\u001b[39;49m\u001b[38;5;241;43m*\u001b[39;49m\u001b[43mkwargs\u001b[49m\u001b[43m)\u001b[49m\u001b[43m]\u001b[49m\u001b[43m \u001b[49m\u001b[38;5;241;43m+\u001b[39;49m\u001b[43m \u001b[49m\u001b[43m\\\u001b[49m\n\u001b[1;32m    126\u001b[0m \u001b[43m    \u001b[49m\u001b[43m[\u001b[49m\u001b[43mctx\u001b[49m\u001b[38;5;241;43m.\u001b[39;49m\u001b[43mgamma\u001b[49m\u001b[43m(\u001b[49m\u001b[43ma\u001b[49m\u001b[43m)\u001b[49m\u001b[43m \u001b[49m\u001b[38;5;28;43;01mfor\u001b[39;49;00m\u001b[43m \u001b[49m\u001b[43ma\u001b[49m\u001b[43m \u001b[49m\u001b[38;5;129;43;01min\u001b[39;49;00m\u001b[43m \u001b[49m\u001b[43malpha_s\u001b[49m\u001b[43m]\u001b[49m\u001b[43m \u001b[49m\u001b[38;5;241;43m+\u001b[39;49m\u001b[43m \u001b[49m\u001b[43m\\\u001b[49m\n\u001b[1;32m    127\u001b[0m \u001b[43m    \u001b[49m\u001b[43m[\u001b[49m\u001b[43mctx\u001b[49m\u001b[38;5;241;43m.\u001b[39;49m\u001b[43mrgamma\u001b[49m\u001b[43m(\u001b[49m\u001b[43mb\u001b[49m\u001b[43m)\u001b[49m\u001b[43m \u001b[49m\u001b[38;5;28;43;01mfor\u001b[39;49;00m\u001b[43m \u001b[49m\u001b[43mb\u001b[49m\u001b[43m \u001b[49m\u001b[38;5;129;43;01min\u001b[39;49;00m\u001b[43m \u001b[49m\u001b[43mbeta_s\u001b[49m\u001b[43m]\u001b[49m\u001b[43m \u001b[49m\u001b[38;5;241;43m+\u001b[39;49m\u001b[43m \u001b[49m\u001b[43m\\\u001b[49m\n\u001b[1;32m    128\u001b[0m \u001b[43m    \u001b[49m\u001b[43m[\u001b[49m\u001b[43mctx\u001b[49m\u001b[38;5;241;43m.\u001b[39;49m\u001b[43mpower\u001b[49m\u001b[43m(\u001b[49m\u001b[43mw\u001b[49m\u001b[43m,\u001b[49m\u001b[43mc\u001b[49m\u001b[43m)\u001b[49m\u001b[43m \u001b[49m\u001b[38;5;28;43;01mfor\u001b[39;49;00m\u001b[43m \u001b[49m\u001b[43m(\u001b[49m\u001b[43mw\u001b[49m\u001b[43m,\u001b[49m\u001b[43mc\u001b[49m\u001b[43m)\u001b[49m\u001b[43m \u001b[49m\u001b[38;5;129;43;01min\u001b[39;49;00m\u001b[43m \u001b[49m\u001b[38;5;28;43mzip\u001b[39;49m\u001b[43m(\u001b[49m\u001b[43mw_s\u001b[49m\u001b[43m,\u001b[49m\u001b[43mc_s\u001b[49m\u001b[43m)\u001b[49m\u001b[43m]\u001b[49m\u001b[43m)\u001b[49m\n\u001b[1;32m    129\u001b[0m \u001b[38;5;28;01mif\u001b[39;00m verbose:\n\u001b[1;32m    130\u001b[0m     \u001b[38;5;28mprint\u001b[39m(\u001b[38;5;124m\"\u001b[39m\u001b[38;5;124m    Value:\u001b[39m\u001b[38;5;124m\"\u001b[39m, v)\n",
      "File \u001b[0;32m~/mambaforge/lib/python3.10/site-packages/mpmath/ctx_mp.py:1227\u001b[0m, in \u001b[0;36mMPContext.fprod\u001b[0;34m(ctx, factors)\u001b[0m\n\u001b[1;32m   1225\u001b[0m     v \u001b[38;5;241m=\u001b[39m ctx\u001b[38;5;241m.\u001b[39mone\n\u001b[1;32m   1226\u001b[0m     \u001b[38;5;28;01mfor\u001b[39;00m p \u001b[38;5;129;01min\u001b[39;00m factors:\n\u001b[0;32m-> 1227\u001b[0m         v \u001b[38;5;241m*\u001b[39m\u001b[38;5;241m=\u001b[39m p\n\u001b[1;32m   1228\u001b[0m \u001b[38;5;28;01mfinally\u001b[39;00m:\n\u001b[1;32m   1229\u001b[0m     ctx\u001b[38;5;241m.\u001b[39mprec \u001b[38;5;241m=\u001b[39m orig\n",
      "File \u001b[0;32m~/mambaforge/lib/python3.10/site-packages/mpmath/ctx_mp_python.py:509\u001b[0m, in \u001b[0;36m_mpc.__mul__\u001b[0;34m(s, t)\u001b[0m\n\u001b[1;32m    507\u001b[0m     t \u001b[38;5;241m=\u001b[39m s\u001b[38;5;241m.\u001b[39mmpc_convert_lhs(t)\n\u001b[1;32m    508\u001b[0m v \u001b[38;5;241m=\u001b[39m new(\u001b[38;5;28mcls\u001b[39m)\n\u001b[0;32m--> 509\u001b[0m v\u001b[38;5;241m.\u001b[39m_mpc_ \u001b[38;5;241m=\u001b[39m \u001b[43mmpc_mul\u001b[49m\u001b[43m(\u001b[49m\u001b[43ms\u001b[49m\u001b[38;5;241;43m.\u001b[39;49m\u001b[43m_mpc_\u001b[49m\u001b[43m,\u001b[49m\u001b[43m \u001b[49m\u001b[43mt\u001b[49m\u001b[38;5;241;43m.\u001b[39;49m\u001b[43m_mpc_\u001b[49m\u001b[43m,\u001b[49m\u001b[43m \u001b[49m\u001b[43mprec\u001b[49m\u001b[43m,\u001b[49m\u001b[43m \u001b[49m\u001b[43mrounding\u001b[49m\u001b[43m)\u001b[49m\n\u001b[1;32m    510\u001b[0m \u001b[38;5;28;01mreturn\u001b[39;00m v\n",
      "File \u001b[0;32m~/mambaforge/lib/python3.10/site-packages/mpmath/libmp/libmpc.py:159\u001b[0m, in \u001b[0;36mmpc_mul\u001b[0;34m(z, w, prec, rnd)\u001b[0m\n\u001b[1;32m    157\u001b[0m r \u001b[38;5;241m=\u001b[39m mpf_mul(a, d)\n\u001b[1;32m    158\u001b[0m s \u001b[38;5;241m=\u001b[39m mpf_mul(b, c)\n\u001b[0;32m--> 159\u001b[0m re \u001b[38;5;241m=\u001b[39m \u001b[43mmpf_sub\u001b[49m\u001b[43m(\u001b[49m\u001b[43mp\u001b[49m\u001b[43m,\u001b[49m\u001b[43m \u001b[49m\u001b[43mq\u001b[49m\u001b[43m,\u001b[49m\u001b[43m \u001b[49m\u001b[43mprec\u001b[49m\u001b[43m,\u001b[49m\u001b[43m \u001b[49m\u001b[43mrnd\u001b[49m\u001b[43m)\u001b[49m\n\u001b[1;32m    160\u001b[0m im \u001b[38;5;241m=\u001b[39m mpf_add(r, s, prec, rnd)\n\u001b[1;32m    161\u001b[0m \u001b[38;5;28;01mreturn\u001b[39;00m re, im\n",
      "File \u001b[0;32m~/mambaforge/lib/python3.10/site-packages/mpmath/libmp/libmpf.py:800\u001b[0m, in \u001b[0;36mmpf_sub\u001b[0;34m(s, t, prec, rnd)\u001b[0m\n\u001b[1;32m    797\u001b[0m \u001b[38;5;28;01mdef\u001b[39;00m \u001b[38;5;21mmpf_sub\u001b[39m(s, t, prec\u001b[38;5;241m=\u001b[39m\u001b[38;5;241m0\u001b[39m, rnd\u001b[38;5;241m=\u001b[39mround_fast):\n\u001b[1;32m    798\u001b[0m     \u001b[38;5;124;03m\"\"\"Return the difference of two raw mpfs, s-t. This function is\u001b[39;00m\n\u001b[1;32m    799\u001b[0m \u001b[38;5;124;03m    simply a wrapper of mpf_add that changes the sign of t.\"\"\"\u001b[39;00m\n\u001b[0;32m--> 800\u001b[0m     \u001b[38;5;28;01mreturn\u001b[39;00m \u001b[43mmpf_add\u001b[49m\u001b[43m(\u001b[49m\u001b[43ms\u001b[49m\u001b[43m,\u001b[49m\u001b[43m \u001b[49m\u001b[43mt\u001b[49m\u001b[43m,\u001b[49m\u001b[43m \u001b[49m\u001b[43mprec\u001b[49m\u001b[43m,\u001b[49m\u001b[43m \u001b[49m\u001b[43mrnd\u001b[49m\u001b[43m,\u001b[49m\u001b[43m \u001b[49m\u001b[38;5;241;43m1\u001b[39;49m\u001b[43m)\u001b[49m\n",
      "File \u001b[0;32m~/mambaforge/lib/python3.10/site-packages/mpmath/libmp/libmpf.py:714\u001b[0m, in \u001b[0;36mmpf_add\u001b[0;34m(s, t, prec, rnd, _sub)\u001b[0m\n\u001b[1;32m    712\u001b[0m tsign \u001b[38;5;241m^\u001b[39m\u001b[38;5;241m=\u001b[39m _sub\n\u001b[1;32m    713\u001b[0m \u001b[38;5;66;03m# Standard case: two nonzero, regular numbers\u001b[39;00m\n\u001b[0;32m--> 714\u001b[0m \u001b[38;5;28;01mif\u001b[39;00m sman \u001b[38;5;129;01mand\u001b[39;00m tman:\n\u001b[1;32m    715\u001b[0m     offset \u001b[38;5;241m=\u001b[39m sexp \u001b[38;5;241m-\u001b[39m texp\n\u001b[1;32m    716\u001b[0m     \u001b[38;5;28;01mif\u001b[39;00m offset:\n",
      "\u001b[0;31mKeyboardInterrupt\u001b[0m: "
     ]
    }
   ],
   "source": [
    "for n in tqdm(range(20)):\n",
    "    threshold = np.random.uniform(min_threshold, max_threshold)\n",
    "    a = lambda t: threshold\n",
    "    ndt = np.random.uniform(min_ndt, max_ndt)\n",
    "    mu = np.array([np.random.uniform(min_mu, max_mu), \n",
    "                   np.random.uniform(min_mu, max_mu),\n",
    "                   np.random.uniform(min_mu, max_mu)])\n",
    "    \n",
    "    \n",
    "    recovery_df['threshold_true'].append(threshold)\n",
    "    recovery_df['ndt_true'].append(ndt)\n",
    "    recovery_df['mu1_true'].append(mu[0])\n",
    "    recovery_df['mu2_true'].append(mu[1])\n",
    "    recovery_df['mu3_true'].append(mu[2])\n",
    "    \n",
    "    RT = []\n",
    "    Theta = []\n",
    "\n",
    "    for i in range(250):\n",
    "        rt, theta = simulate_HSDM_3D(a, mu, ndt)\n",
    "        RT.append(rt)\n",
    "        Theta.append(theta)\n",
    "    \n",
    "    min_ans = differential_evolution(HSDM_3D_likelihood,\n",
    "                                     args=(RT, Theta, N_series), \n",
    "                                     bounds=[(min_threshold, max_threshold), (min_ndt, max_ndt),\n",
    "                                             (min_mu, max_mu), (min_mu, max_mu), (min_mu, max_mu)])\n",
    "    \n",
    "    recovery_df['threshold_estimate'].append(min_ans.x[0])\n",
    "    recovery_df['ndt_estimate'].append(min_ans.x[1])\n",
    "    recovery_df['mu1_estimate'].append(min_ans.x[2])\n",
    "    recovery_df['mu2_estimate'].append(min_ans.x[3])\n",
    "    recovery_df['mu3_estimate'].append(min_ans.x[4])\n",
    "    \n",
    "recovery_df = pd.DataFrame(recovery_df)"
   ]
  },
  {
   "cell_type": "code",
   "execution_count": null,
   "id": "c1d58357",
   "metadata": {},
   "outputs": [],
   "source": [
    "recovery_df"
   ]
  },
  {
   "cell_type": "code",
   "execution_count": null,
   "id": "9b3b7581",
   "metadata": {},
   "outputs": [],
   "source": [
    "recovery_df.corr()"
   ]
  },
  {
   "cell_type": "code",
   "execution_count": null,
   "id": "ab101b90",
   "metadata": {},
   "outputs": [],
   "source": [
    "file_name = 'Series_3d_recovery_{}.csv'.format(N_series)\n",
    "old_recovery_data = pd.read_csv(file_name, index_col=0)\n",
    "recovery_df = pd.concat([old_recovery_data, \n",
    "                         recovery_df]).reset_index(drop=True)\n",
    "recovery_df.to_csv(file_name)"
   ]
  },
  {
   "cell_type": "code",
   "execution_count": null,
   "id": "9e908c25",
   "metadata": {},
   "outputs": [],
   "source": []
  }
 ],
 "metadata": {
  "kernelspec": {
   "display_name": "Python 3 (ipykernel)",
   "language": "python",
   "name": "python3"
  },
  "language_info": {
   "codemirror_mode": {
    "name": "ipython",
    "version": 3
   },
   "file_extension": ".py",
   "mimetype": "text/x-python",
   "name": "python",
   "nbconvert_exporter": "python",
   "pygments_lexer": "ipython3",
   "version": "3.10.6"
  }
 },
 "nbformat": 4,
 "nbformat_minor": 5
}
