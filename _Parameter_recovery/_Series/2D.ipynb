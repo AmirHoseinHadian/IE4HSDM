{
 "cells": [
  {
   "cell_type": "code",
   "execution_count": 1,
   "id": "e52e3847",
   "metadata": {},
   "outputs": [],
   "source": [
    "import numpy as np\n",
    "import pandas as pd\n",
    "\n",
    "from mpmath import besseljzero\n",
    "from scipy.special import gamma\n",
    "from scipy.special import jv, iv\n",
    "from scipy.optimize import minimize\n",
    "from scipy.interpolate import interp1d\n",
    "\n",
    "from scipy.stats import pearsonr\n",
    "from sklearn.metrics import r2_score\n",
    "\n",
    "import seaborn as sns\n",
    "import matplotlib.pyplot as plt"
   ]
  },
  {
   "cell_type": "code",
   "execution_count": 2,
   "id": "5d89b181",
   "metadata": {},
   "outputs": [],
   "source": [
    "def simulate_HSDM_2D(a, mu, ndt, sigma=1, dt=0.001):\n",
    "    x = np.zeros(mu.shape)\n",
    "    \n",
    "    rt = 0\n",
    "    \n",
    "    while np.linalg.norm(x, 2) < a(rt):\n",
    "        x += mu*dt + sigma*np.sqrt(dt)*np.random.normal(0, 1, mu.shape)\n",
    "        rt += dt\n",
    "    \n",
    "    theta = np.arctan2(x[1], x[0])   \n",
    "    \n",
    "    return ndt+rt, theta"
   ]
  },
  {
   "cell_type": "code",
   "execution_count": 3,
   "id": "337f9f8b",
   "metadata": {},
   "outputs": [],
   "source": [
    "def series_bessel_fpt(t, a=1, sigma=1, nu=0, n=500):\n",
    "    zeros = np.asarray([float(besseljzero(0, i+1)) for i in range(n)])\n",
    "    fpt = np.zeros(t.shape)\n",
    "    \n",
    "    for i in range(t.shape[0]):\n",
    "        series = np.sum((zeros**(nu+1)/jv(nu+1, zeros)) * np.exp(-(zeros**2 * sigma**2)/(2*a**2)*t[i]))\n",
    "        fpt[i] = sigma**2/(2**nu * a**2 * gamma(nu + 1)) * series\n",
    "        \n",
    "    return interp1d(t, fpt)"
   ]
  },
  {
   "cell_type": "code",
   "execution_count": 4,
   "id": "fd588e9b",
   "metadata": {},
   "outputs": [],
   "source": [
    "def HSDM_2D_likelihood(prms, RT, Theta):\n",
    "    a =  prms[0]\n",
    "    ndt = prms[1]\n",
    "    mu = np.array([prms[2], prms[3]])\n",
    "    \n",
    "    tt = np.arange(0.001, max(RT)+0.01, 0.01)\n",
    "    fpt = series_bessel_fpt(tt, a, sigma=1, nu=(mu.shape[0]-2)/2, n=500)\n",
    "    \n",
    "    log_lik = 0\n",
    "    for i in range(len(RT)):\n",
    "        rt, theta = RT[i], Theta[i]\n",
    "        if rt - ndt > 0.001:\n",
    "            mu_dot_x0 = mu[0]*np.cos(theta)\n",
    "            mu_dot_x1 = mu[1]*np.sin(theta)\n",
    "            term1 = prms[0] * (mu_dot_x0 + mu_dot_x1)\n",
    "            term2 = 0.5 * np.linalg.norm(mu, 2)**2 * (rt - ndt)\n",
    "            \n",
    "            density = np.exp(term1 - term2) * fpt(rt - ndt)\n",
    "            \n",
    "            if 0.1**14 < density:\n",
    "                log_lik += -np.log(density)\n",
    "            else:\n",
    "                log_lik += -np.log(0.1**14)\n",
    "        else:\n",
    "            log_lik += -np.log(0.1**14)\n",
    "        \n",
    "    return log_lik"
   ]
  },
  {
   "cell_type": "code",
   "execution_count": 5,
   "id": "60297741",
   "metadata": {},
   "outputs": [],
   "source": [
    "recovery_df = {'threshold_true': [],\n",
    "               'threshold_estimate': [],\n",
    "               'ndt_true': [],\n",
    "               'ndt_estimate': [],\n",
    "               'mu1_true': [],\n",
    "               'mu1_estimate': [],\n",
    "               'mu2_true': [],\n",
    "               'mu2_estimate': []}\n",
    "\n",
    "min_threshold = 0.5\n",
    "max_threshold = 5\n",
    "\n",
    "min_ndt = 0.1\n",
    "max_ndt = 1\n",
    "\n",
    "min_mu = -3.5\n",
    "max_mu = 3.5"
   ]
  },
  {
   "cell_type": "code",
   "execution_count": null,
   "id": "b1dec979",
   "metadata": {
    "scrolled": true
   },
   "outputs": [
    {
     "name": "stdout",
     "output_type": "stream",
     "text": [
      "1: Simulation is done! / Estimation is done!\n",
      "2: Simulation is done! / Estimation is done!\n",
      "3: Simulation is done! / Estimation is done!\n",
      "4: Simulation is done! / Estimation is done!\n",
      "5: Simulation is done! / "
     ]
    }
   ],
   "source": [
    "N_sim = 5\n",
    "for n in range(N_sim):\n",
    "    threshold = np.random.uniform(min_threshold, max_threshold)\n",
    "    a = lambda t: threshold\n",
    "    ndt = np.random.uniform(min_ndt, max_ndt)\n",
    "    mu = np.array([np.random.uniform(min_mu, max_mu), \n",
    "                   np.random.uniform(min_mu, max_mu)])\n",
    "    \n",
    "    \n",
    "    recovery_df['threshold_true'].append(threshold)\n",
    "    recovery_df['ndt_true'].append(ndt)\n",
    "    recovery_df['mu1_true'].append(mu[0])\n",
    "    recovery_df['mu2_true'].append(mu[1])\n",
    "    \n",
    "    RT = []\n",
    "    Theta = []\n",
    "    \n",
    "    print(n+1, end=': ')\n",
    "    for i in range(250):\n",
    "        rt, theta = simulate_HSDM_2D(a, mu, ndt)\n",
    "        RT.append(rt)\n",
    "        Theta.append(theta)\n",
    "    \n",
    "    print('Simulation is done!', end=' / ')\n",
    "    \n",
    "    min_ans = minimize(HSDM_2D_likelihood,\n",
    "                       args=(RT, Theta), \n",
    "                       x0=np.array([np.random.uniform(min_threshold, max_threshold),\n",
    "                                    np.random.uniform(min_ndt, max_ndt), \n",
    "                                    np.random.uniform(min_mu, max_mu),\n",
    "                                    np.random.uniform(min_mu, max_mu)]),\n",
    "                       method='Nelder-Mead', \n",
    "                       bounds=[(min_threshold, max_threshold), (min_ndt, max_ndt),\n",
    "                               (min_mu, max_mu), (min_mu, max_mu)])\n",
    "    \n",
    "    recovery_df['threshold_estimate'].append(min_ans.x[0])\n",
    "    recovery_df['ndt_estimate'].append(min_ans.x[1])\n",
    "    recovery_df['mu1_estimate'].append(min_ans.x[2])\n",
    "    recovery_df['mu2_estimate'].append(min_ans.x[3])\n",
    "    \n",
    "    print('Estimation is done!')\n",
    "    \n",
    "recovery_df = pd.DataFrame(recovery_df)"
   ]
  },
  {
   "cell_type": "code",
   "execution_count": null,
   "id": "c1d58357",
   "metadata": {},
   "outputs": [],
   "source": [
    "recovery_df"
   ]
  },
  {
   "cell_type": "code",
   "execution_count": null,
   "id": "9cab841a",
   "metadata": {},
   "outputs": [],
   "source": [
    "recovery_df.corr()"
   ]
  },
  {
   "cell_type": "code",
   "execution_count": 11,
   "id": "ab101b90",
   "metadata": {},
   "outputs": [],
   "source": [
    "recovery_df.to_csv('Series_2d_recovery_{}.csv'.format(N_sim))"
   ]
  },
  {
   "cell_type": "code",
   "execution_count": null,
   "id": "163a7328",
   "metadata": {},
   "outputs": [],
   "source": []
  }
 ],
 "metadata": {
  "kernelspec": {
   "display_name": "Python 3 (ipykernel)",
   "language": "python",
   "name": "python3"
  },
  "language_info": {
   "codemirror_mode": {
    "name": "ipython",
    "version": 3
   },
   "file_extension": ".py",
   "mimetype": "text/x-python",
   "name": "python",
   "nbconvert_exporter": "python",
   "pygments_lexer": "ipython3",
   "version": "3.10.6"
  }
 },
 "nbformat": 4,
 "nbformat_minor": 5
}
