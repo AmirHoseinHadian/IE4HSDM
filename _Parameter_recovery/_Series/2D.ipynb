{
 "cells": [
  {
   "cell_type": "code",
   "execution_count": 1,
   "id": "e52e3847",
   "metadata": {},
   "outputs": [],
   "source": [
    "import numpy as np\n",
    "import pandas as pd\n",
    "from tqdm import tqdm\n",
    "\n",
    "from mpmath import besseljzero\n",
    "from scipy.special import gamma\n",
    "from scipy.special import jv, iv\n",
    "from scipy.optimize import minimize\n",
    "from scipy.interpolate import interp1d\n",
    "\n",
    "from scipy.stats import pearsonr\n",
    "from sklearn.metrics import r2_score\n",
    "\n",
    "import seaborn as sns\n",
    "import matplotlib.pyplot as plt"
   ]
  },
  {
   "cell_type": "code",
   "execution_count": 2,
   "id": "5d89b181",
   "metadata": {},
   "outputs": [],
   "source": [
    "def simulate_HSDM_2D(a, mu, ndt, sigma=1, dt=0.001):\n",
    "    x = np.zeros(mu.shape)\n",
    "    \n",
    "    rt = 0\n",
    "    \n",
    "    while np.linalg.norm(x, 2) < a(rt):\n",
    "        x += mu*dt + sigma*np.sqrt(dt)*np.random.normal(0, 1, mu.shape)\n",
    "        rt += dt\n",
    "    \n",
    "    theta = np.arctan2(x[1], x[0])   \n",
    "    \n",
    "    return ndt+rt, theta"
   ]
  },
  {
   "cell_type": "code",
   "execution_count": 3,
   "id": "337f9f8b",
   "metadata": {},
   "outputs": [],
   "source": [
    "def series_bessel_fpt(t, a=1, sigma=1, nu=0, n=100):\n",
    "    zeros = np.asarray([float(besseljzero(nu, i+1)) for i in range(n)])\n",
    "    fpt = np.zeros(t.shape)\n",
    "    \n",
    "    for i in range(t.shape[0]):\n",
    "        series = np.sum((zeros**(nu+1)/jv(nu+1, zeros)) * np.exp(-(zeros**2 * sigma**2)/(2*a**2)*t[i]))\n",
    "        fpt[i] = sigma**2/(2**nu * a**2 * gamma(nu + 1)) * series\n",
    "        \n",
    "    return interp1d(t, fpt)"
   ]
  },
  {
   "cell_type": "code",
   "execution_count": 4,
   "id": "fd588e9b",
   "metadata": {},
   "outputs": [],
   "source": [
    "def HSDM_2D_likelihood(prms, RT, Theta, N_series):\n",
    "    a =  prms[0]\n",
    "    ndt = prms[1]\n",
    "    mu = np.array([prms[2], prms[3]])\n",
    "    \n",
    "    tt = np.arange(0.001, max(RT)+0.02, 0.02)\n",
    "    fpt = series_bessel_fpt(tt, a, sigma=1, nu=(mu.shape[0]-2)/2, n=N_series)\n",
    "    \n",
    "    log_lik = 0\n",
    "    for i in range(len(RT)):\n",
    "        rt, theta = RT[i], Theta[i]\n",
    "        if rt - ndt > 0.001:\n",
    "            mu_dot_x0 = mu[0]*np.cos(theta)\n",
    "            mu_dot_x1 = mu[1]*np.sin(theta)\n",
    "            term1 = prms[0] * (mu_dot_x0 + mu_dot_x1)\n",
    "            term2 = 0.5 * np.linalg.norm(mu, 2)**2 * (rt - ndt)\n",
    "            \n",
    "            density = np.exp(term1 - term2) * fpt(rt - ndt)\n",
    "            \n",
    "            if 0.1**14 < density:\n",
    "                log_lik += -np.log(density)\n",
    "            else:\n",
    "                log_lik += -np.log(0.1**14)\n",
    "        else:\n",
    "            log_lik += -np.log(0.1**14)\n",
    "        \n",
    "    return log_lik"
   ]
  },
  {
   "cell_type": "code",
   "execution_count": 5,
   "id": "60297741",
   "metadata": {},
   "outputs": [],
   "source": [
    "recovery_df = {'threshold_true': [],\n",
    "               'threshold_estimate': [],\n",
    "               'ndt_true': [],\n",
    "               'ndt_estimate': [],\n",
    "               'mu1_true': [],\n",
    "               'mu1_estimate': [],\n",
    "               'mu2_true': [],\n",
    "               'mu2_estimate': []}\n",
    "\n",
    "min_threshold = 0.5\n",
    "max_threshold = 5\n",
    "\n",
    "min_ndt = 0.1\n",
    "max_ndt = 1\n",
    "\n",
    "min_mu = -3.5\n",
    "max_mu = 3.5\n",
    "\n",
    "N_series = 250"
   ]
  },
  {
   "cell_type": "code",
   "execution_count": 6,
   "id": "b1dec979",
   "metadata": {
    "scrolled": true
   },
   "outputs": [
    {
     "name": "stdout",
     "output_type": "stream",
     "text": [
      "1: Simulation is done! / Estimation is done!\n",
      "2: Simulation is done! / Estimation is done!\n",
      "3: Simulation is done! / Estimation is done!\n",
      "4: Simulation is done! / Estimation is done!\n",
      "5: Simulation is done! / "
     ]
    },
    {
     "ename": "KeyboardInterrupt",
     "evalue": "",
     "output_type": "error",
     "traceback": [
      "\u001b[0;31m---------------------------------------------------------------------------\u001b[0m",
      "\u001b[0;31mKeyboardInterrupt\u001b[0m                         Traceback (most recent call last)",
      "Cell \u001b[0;32mIn[6], line 25\u001b[0m\n\u001b[1;32m     21\u001b[0m     Theta\u001b[38;5;241m.\u001b[39mappend(theta)\n\u001b[1;32m     23\u001b[0m \u001b[38;5;28mprint\u001b[39m(\u001b[38;5;124m'\u001b[39m\u001b[38;5;124mSimulation is done!\u001b[39m\u001b[38;5;124m'\u001b[39m, end\u001b[38;5;241m=\u001b[39m\u001b[38;5;124m'\u001b[39m\u001b[38;5;124m / \u001b[39m\u001b[38;5;124m'\u001b[39m)\n\u001b[0;32m---> 25\u001b[0m min_ans \u001b[38;5;241m=\u001b[39m \u001b[43mminimize\u001b[49m\u001b[43m(\u001b[49m\u001b[43mHSDM_2D_likelihood\u001b[49m\u001b[43m,\u001b[49m\n\u001b[1;32m     26\u001b[0m \u001b[43m                   \u001b[49m\u001b[43margs\u001b[49m\u001b[38;5;241;43m=\u001b[39;49m\u001b[43m(\u001b[49m\u001b[43mRT\u001b[49m\u001b[43m,\u001b[49m\u001b[43m \u001b[49m\u001b[43mTheta\u001b[49m\u001b[43m,\u001b[49m\u001b[43m \u001b[49m\u001b[43mN_series\u001b[49m\u001b[43m)\u001b[49m\u001b[43m,\u001b[49m\u001b[43m \u001b[49m\n\u001b[1;32m     27\u001b[0m \u001b[43m                   \u001b[49m\u001b[43mx0\u001b[49m\u001b[38;5;241;43m=\u001b[39;49m\u001b[43mnp\u001b[49m\u001b[38;5;241;43m.\u001b[39;49m\u001b[43marray\u001b[49m\u001b[43m(\u001b[49m\u001b[43m[\u001b[49m\u001b[43mnp\u001b[49m\u001b[38;5;241;43m.\u001b[39;49m\u001b[43mrandom\u001b[49m\u001b[38;5;241;43m.\u001b[39;49m\u001b[43muniform\u001b[49m\u001b[43m(\u001b[49m\u001b[43mmin_threshold\u001b[49m\u001b[43m,\u001b[49m\u001b[43m \u001b[49m\u001b[43mmax_threshold\u001b[49m\u001b[43m)\u001b[49m\u001b[43m,\u001b[49m\n\u001b[1;32m     28\u001b[0m \u001b[43m                                \u001b[49m\u001b[43mnp\u001b[49m\u001b[38;5;241;43m.\u001b[39;49m\u001b[43mrandom\u001b[49m\u001b[38;5;241;43m.\u001b[39;49m\u001b[43muniform\u001b[49m\u001b[43m(\u001b[49m\u001b[43mmin_ndt\u001b[49m\u001b[43m,\u001b[49m\u001b[43m \u001b[49m\u001b[43mmax_ndt\u001b[49m\u001b[43m)\u001b[49m\u001b[43m,\u001b[49m\u001b[43m \u001b[49m\n\u001b[1;32m     29\u001b[0m \u001b[43m                                \u001b[49m\u001b[43mnp\u001b[49m\u001b[38;5;241;43m.\u001b[39;49m\u001b[43mrandom\u001b[49m\u001b[38;5;241;43m.\u001b[39;49m\u001b[43muniform\u001b[49m\u001b[43m(\u001b[49m\u001b[43mmin_mu\u001b[49m\u001b[43m,\u001b[49m\u001b[43m \u001b[49m\u001b[43mmax_mu\u001b[49m\u001b[43m)\u001b[49m\u001b[43m,\u001b[49m\n\u001b[1;32m     30\u001b[0m \u001b[43m                                \u001b[49m\u001b[43mnp\u001b[49m\u001b[38;5;241;43m.\u001b[39;49m\u001b[43mrandom\u001b[49m\u001b[38;5;241;43m.\u001b[39;49m\u001b[43muniform\u001b[49m\u001b[43m(\u001b[49m\u001b[43mmin_mu\u001b[49m\u001b[43m,\u001b[49m\u001b[43m \u001b[49m\u001b[43mmax_mu\u001b[49m\u001b[43m)\u001b[49m\u001b[43m]\u001b[49m\u001b[43m)\u001b[49m\u001b[43m,\u001b[49m\n\u001b[1;32m     31\u001b[0m \u001b[43m                   \u001b[49m\u001b[43mmethod\u001b[49m\u001b[38;5;241;43m=\u001b[39;49m\u001b[38;5;124;43m'\u001b[39;49m\u001b[38;5;124;43mNelder-Mead\u001b[39;49m\u001b[38;5;124;43m'\u001b[39;49m\u001b[43m,\u001b[49m\u001b[43m \u001b[49m\n\u001b[1;32m     32\u001b[0m \u001b[43m                   \u001b[49m\u001b[43mbounds\u001b[49m\u001b[38;5;241;43m=\u001b[39;49m\u001b[43m[\u001b[49m\u001b[43m(\u001b[49m\u001b[43mmin_threshold\u001b[49m\u001b[43m,\u001b[49m\u001b[43m \u001b[49m\u001b[43mmax_threshold\u001b[49m\u001b[43m)\u001b[49m\u001b[43m,\u001b[49m\u001b[43m \u001b[49m\u001b[43m(\u001b[49m\u001b[43mmin_ndt\u001b[49m\u001b[43m,\u001b[49m\u001b[43m \u001b[49m\u001b[43mmax_ndt\u001b[49m\u001b[43m)\u001b[49m\u001b[43m,\u001b[49m\n\u001b[1;32m     33\u001b[0m \u001b[43m                           \u001b[49m\u001b[43m(\u001b[49m\u001b[43mmin_mu\u001b[49m\u001b[43m,\u001b[49m\u001b[43m \u001b[49m\u001b[43mmax_mu\u001b[49m\u001b[43m)\u001b[49m\u001b[43m,\u001b[49m\u001b[43m \u001b[49m\u001b[43m(\u001b[49m\u001b[43mmin_mu\u001b[49m\u001b[43m,\u001b[49m\u001b[43m \u001b[49m\u001b[43mmax_mu\u001b[49m\u001b[43m)\u001b[49m\u001b[43m]\u001b[49m\u001b[43m)\u001b[49m\n\u001b[1;32m     35\u001b[0m recovery_df[\u001b[38;5;124m'\u001b[39m\u001b[38;5;124mthreshold_estimate\u001b[39m\u001b[38;5;124m'\u001b[39m]\u001b[38;5;241m.\u001b[39mappend(min_ans\u001b[38;5;241m.\u001b[39mx[\u001b[38;5;241m0\u001b[39m])\n\u001b[1;32m     36\u001b[0m recovery_df[\u001b[38;5;124m'\u001b[39m\u001b[38;5;124mndt_estimate\u001b[39m\u001b[38;5;124m'\u001b[39m]\u001b[38;5;241m.\u001b[39mappend(min_ans\u001b[38;5;241m.\u001b[39mx[\u001b[38;5;241m1\u001b[39m])\n",
      "File \u001b[0;32m~/mambaforge/lib/python3.10/site-packages/scipy/optimize/_minimize.py:687\u001b[0m, in \u001b[0;36mminimize\u001b[0;34m(fun, x0, args, method, jac, hess, hessp, bounds, constraints, tol, callback, options)\u001b[0m\n\u001b[1;32m    684\u001b[0m     bounds \u001b[38;5;241m=\u001b[39m standardize_bounds(bounds, x0, meth)\n\u001b[1;32m    686\u001b[0m \u001b[38;5;28;01mif\u001b[39;00m meth \u001b[38;5;241m==\u001b[39m \u001b[38;5;124m'\u001b[39m\u001b[38;5;124mnelder-mead\u001b[39m\u001b[38;5;124m'\u001b[39m:\n\u001b[0;32m--> 687\u001b[0m     res \u001b[38;5;241m=\u001b[39m \u001b[43m_minimize_neldermead\u001b[49m\u001b[43m(\u001b[49m\u001b[43mfun\u001b[49m\u001b[43m,\u001b[49m\u001b[43m \u001b[49m\u001b[43mx0\u001b[49m\u001b[43m,\u001b[49m\u001b[43m \u001b[49m\u001b[43margs\u001b[49m\u001b[43m,\u001b[49m\u001b[43m \u001b[49m\u001b[43mcallback\u001b[49m\u001b[43m,\u001b[49m\u001b[43m \u001b[49m\u001b[43mbounds\u001b[49m\u001b[38;5;241;43m=\u001b[39;49m\u001b[43mbounds\u001b[49m\u001b[43m,\u001b[49m\n\u001b[1;32m    688\u001b[0m \u001b[43m                               \u001b[49m\u001b[38;5;241;43m*\u001b[39;49m\u001b[38;5;241;43m*\u001b[39;49m\u001b[43moptions\u001b[49m\u001b[43m)\u001b[49m\n\u001b[1;32m    689\u001b[0m \u001b[38;5;28;01melif\u001b[39;00m meth \u001b[38;5;241m==\u001b[39m \u001b[38;5;124m'\u001b[39m\u001b[38;5;124mpowell\u001b[39m\u001b[38;5;124m'\u001b[39m:\n\u001b[1;32m    690\u001b[0m     res \u001b[38;5;241m=\u001b[39m _minimize_powell(fun, x0, args, callback, bounds, \u001b[38;5;241m*\u001b[39m\u001b[38;5;241m*\u001b[39moptions)\n",
      "File \u001b[0;32m~/mambaforge/lib/python3.10/site-packages/scipy/optimize/_optimize.py:822\u001b[0m, in \u001b[0;36m_minimize_neldermead\u001b[0;34m(func, x0, args, callback, maxiter, maxfev, disp, return_all, initial_simplex, xatol, fatol, adaptive, bounds, **unknown_options)\u001b[0m\n\u001b[1;32m    820\u001b[0m \u001b[38;5;28;01mif\u001b[39;00m bounds \u001b[38;5;129;01mis\u001b[39;00m \u001b[38;5;129;01mnot\u001b[39;00m \u001b[38;5;28;01mNone\u001b[39;00m:\n\u001b[1;32m    821\u001b[0m     xc \u001b[38;5;241m=\u001b[39m np\u001b[38;5;241m.\u001b[39mclip(xc, lower_bound, upper_bound)\n\u001b[0;32m--> 822\u001b[0m fxc \u001b[38;5;241m=\u001b[39m \u001b[43mfunc\u001b[49m\u001b[43m(\u001b[49m\u001b[43mxc\u001b[49m\u001b[43m)\u001b[49m\n\u001b[1;32m    824\u001b[0m \u001b[38;5;28;01mif\u001b[39;00m fxc \u001b[38;5;241m<\u001b[39m\u001b[38;5;241m=\u001b[39m fxr:\n\u001b[1;32m    825\u001b[0m     sim[\u001b[38;5;241m-\u001b[39m\u001b[38;5;241m1\u001b[39m] \u001b[38;5;241m=\u001b[39m xc\n",
      "File \u001b[0;32m~/mambaforge/lib/python3.10/site-packages/scipy/optimize/_optimize.py:496\u001b[0m, in \u001b[0;36m_wrap_scalar_function_maxfun_validation.<locals>.function_wrapper\u001b[0;34m(x, *wrapper_args)\u001b[0m\n\u001b[1;32m    494\u001b[0m ncalls[\u001b[38;5;241m0\u001b[39m] \u001b[38;5;241m+\u001b[39m\u001b[38;5;241m=\u001b[39m \u001b[38;5;241m1\u001b[39m\n\u001b[1;32m    495\u001b[0m \u001b[38;5;66;03m# A copy of x is sent to the user function (gh13740)\u001b[39;00m\n\u001b[0;32m--> 496\u001b[0m fx \u001b[38;5;241m=\u001b[39m \u001b[43mfunction\u001b[49m\u001b[43m(\u001b[49m\u001b[43mnp\u001b[49m\u001b[38;5;241;43m.\u001b[39;49m\u001b[43mcopy\u001b[49m\u001b[43m(\u001b[49m\u001b[43mx\u001b[49m\u001b[43m)\u001b[49m\u001b[43m,\u001b[49m\u001b[43m \u001b[49m\u001b[38;5;241;43m*\u001b[39;49m\u001b[43m(\u001b[49m\u001b[43mwrapper_args\u001b[49m\u001b[43m \u001b[49m\u001b[38;5;241;43m+\u001b[39;49m\u001b[43m \u001b[49m\u001b[43margs\u001b[49m\u001b[43m)\u001b[49m\u001b[43m)\u001b[49m\n\u001b[1;32m    497\u001b[0m \u001b[38;5;66;03m# Ideally, we'd like to a have a true scalar returned from f(x). For\u001b[39;00m\n\u001b[1;32m    498\u001b[0m \u001b[38;5;66;03m# backwards-compatibility, also allow np.array([1.3]),\u001b[39;00m\n\u001b[1;32m    499\u001b[0m \u001b[38;5;66;03m# np.array([[1.3]]) etc.\u001b[39;00m\n\u001b[1;32m    500\u001b[0m \u001b[38;5;28;01mif\u001b[39;00m \u001b[38;5;129;01mnot\u001b[39;00m np\u001b[38;5;241m.\u001b[39misscalar(fx):\n",
      "Cell \u001b[0;32mIn[4], line 7\u001b[0m, in \u001b[0;36mHSDM_2D_likelihood\u001b[0;34m(prms, RT, Theta, N_series)\u001b[0m\n\u001b[1;32m      4\u001b[0m mu \u001b[38;5;241m=\u001b[39m np\u001b[38;5;241m.\u001b[39marray([prms[\u001b[38;5;241m2\u001b[39m], prms[\u001b[38;5;241m3\u001b[39m]])\n\u001b[1;32m      6\u001b[0m tt \u001b[38;5;241m=\u001b[39m np\u001b[38;5;241m.\u001b[39marange(\u001b[38;5;241m0.001\u001b[39m, \u001b[38;5;28mmax\u001b[39m(RT)\u001b[38;5;241m+\u001b[39m\u001b[38;5;241m0.02\u001b[39m, \u001b[38;5;241m0.02\u001b[39m)\n\u001b[0;32m----> 7\u001b[0m fpt \u001b[38;5;241m=\u001b[39m \u001b[43mseries_bessel_fpt\u001b[49m\u001b[43m(\u001b[49m\u001b[43mtt\u001b[49m\u001b[43m,\u001b[49m\u001b[43m \u001b[49m\u001b[43ma\u001b[49m\u001b[43m,\u001b[49m\u001b[43m \u001b[49m\u001b[43msigma\u001b[49m\u001b[38;5;241;43m=\u001b[39;49m\u001b[38;5;241;43m1\u001b[39;49m\u001b[43m,\u001b[49m\u001b[43m \u001b[49m\u001b[43mnu\u001b[49m\u001b[38;5;241;43m=\u001b[39;49m\u001b[43m(\u001b[49m\u001b[43mmu\u001b[49m\u001b[38;5;241;43m.\u001b[39;49m\u001b[43mshape\u001b[49m\u001b[43m[\u001b[49m\u001b[38;5;241;43m0\u001b[39;49m\u001b[43m]\u001b[49m\u001b[38;5;241;43m-\u001b[39;49m\u001b[38;5;241;43m2\u001b[39;49m\u001b[43m)\u001b[49m\u001b[38;5;241;43m/\u001b[39;49m\u001b[38;5;241;43m2\u001b[39;49m\u001b[43m,\u001b[49m\u001b[43m \u001b[49m\u001b[43mn\u001b[49m\u001b[38;5;241;43m=\u001b[39;49m\u001b[43mN_series\u001b[49m\u001b[43m)\u001b[49m\n\u001b[1;32m      9\u001b[0m log_lik \u001b[38;5;241m=\u001b[39m \u001b[38;5;241m0\u001b[39m\n\u001b[1;32m     10\u001b[0m \u001b[38;5;28;01mfor\u001b[39;00m i \u001b[38;5;129;01min\u001b[39;00m \u001b[38;5;28mrange\u001b[39m(\u001b[38;5;28mlen\u001b[39m(RT)):\n",
      "Cell \u001b[0;32mIn[3], line 2\u001b[0m, in \u001b[0;36mseries_bessel_fpt\u001b[0;34m(t, a, sigma, nu, n)\u001b[0m\n\u001b[1;32m      1\u001b[0m \u001b[38;5;28;01mdef\u001b[39;00m \u001b[38;5;21mseries_bessel_fpt\u001b[39m(t, a\u001b[38;5;241m=\u001b[39m\u001b[38;5;241m1\u001b[39m, sigma\u001b[38;5;241m=\u001b[39m\u001b[38;5;241m1\u001b[39m, nu\u001b[38;5;241m=\u001b[39m\u001b[38;5;241m0\u001b[39m, n\u001b[38;5;241m=\u001b[39m\u001b[38;5;241m100\u001b[39m):\n\u001b[0;32m----> 2\u001b[0m     zeros \u001b[38;5;241m=\u001b[39m np\u001b[38;5;241m.\u001b[39masarray([\u001b[38;5;28mfloat\u001b[39m(besseljzero(\u001b[38;5;241m0\u001b[39m, i\u001b[38;5;241m+\u001b[39m\u001b[38;5;241m1\u001b[39m)) \u001b[38;5;28;01mfor\u001b[39;00m i \u001b[38;5;129;01min\u001b[39;00m \u001b[38;5;28mrange\u001b[39m(n)])\n\u001b[1;32m      3\u001b[0m     fpt \u001b[38;5;241m=\u001b[39m np\u001b[38;5;241m.\u001b[39mzeros(t\u001b[38;5;241m.\u001b[39mshape)\n\u001b[1;32m      5\u001b[0m     \u001b[38;5;28;01mfor\u001b[39;00m i \u001b[38;5;129;01min\u001b[39;00m \u001b[38;5;28mrange\u001b[39m(t\u001b[38;5;241m.\u001b[39mshape[\u001b[38;5;241m0\u001b[39m]):\n",
      "Cell \u001b[0;32mIn[3], line 2\u001b[0m, in \u001b[0;36m<listcomp>\u001b[0;34m(.0)\u001b[0m\n\u001b[1;32m      1\u001b[0m \u001b[38;5;28;01mdef\u001b[39;00m \u001b[38;5;21mseries_bessel_fpt\u001b[39m(t, a\u001b[38;5;241m=\u001b[39m\u001b[38;5;241m1\u001b[39m, sigma\u001b[38;5;241m=\u001b[39m\u001b[38;5;241m1\u001b[39m, nu\u001b[38;5;241m=\u001b[39m\u001b[38;5;241m0\u001b[39m, n\u001b[38;5;241m=\u001b[39m\u001b[38;5;241m100\u001b[39m):\n\u001b[0;32m----> 2\u001b[0m     zeros \u001b[38;5;241m=\u001b[39m np\u001b[38;5;241m.\u001b[39masarray([\u001b[38;5;28mfloat\u001b[39m(\u001b[43mbesseljzero\u001b[49m\u001b[43m(\u001b[49m\u001b[38;5;241;43m0\u001b[39;49m\u001b[43m,\u001b[49m\u001b[43m \u001b[49m\u001b[43mi\u001b[49m\u001b[38;5;241;43m+\u001b[39;49m\u001b[38;5;241;43m1\u001b[39;49m\u001b[43m)\u001b[49m) \u001b[38;5;28;01mfor\u001b[39;00m i \u001b[38;5;129;01min\u001b[39;00m \u001b[38;5;28mrange\u001b[39m(n)])\n\u001b[1;32m      3\u001b[0m     fpt \u001b[38;5;241m=\u001b[39m np\u001b[38;5;241m.\u001b[39mzeros(t\u001b[38;5;241m.\u001b[39mshape)\n\u001b[1;32m      5\u001b[0m     \u001b[38;5;28;01mfor\u001b[39;00m i \u001b[38;5;129;01min\u001b[39;00m \u001b[38;5;28mrange\u001b[39m(t\u001b[38;5;241m.\u001b[39mshape[\u001b[38;5;241m0\u001b[39m]):\n",
      "File \u001b[0;32m~/mambaforge/lib/python3.10/site-packages/mpmath/functions/bessel.py:1017\u001b[0m, in \u001b[0;36mbesseljzero\u001b[0;34m(ctx, v, m, derivative)\u001b[0m\n\u001b[1;32m    905\u001b[0m \u001b[38;5;129m@defun\u001b[39m\n\u001b[1;32m    906\u001b[0m \u001b[38;5;28;01mdef\u001b[39;00m \u001b[38;5;21mbesseljzero\u001b[39m(ctx, v, m, derivative\u001b[38;5;241m=\u001b[39m\u001b[38;5;241m0\u001b[39m):\n\u001b[1;32m    907\u001b[0m     \u001b[38;5;124mr\u001b[39m\u001b[38;5;124;03m\"\"\"\u001b[39;00m\n\u001b[1;32m    908\u001b[0m \u001b[38;5;124;03m    For a real order `\\nu \\ge 0` and a positive integer `m`, returns\u001b[39;00m\n\u001b[1;32m    909\u001b[0m \u001b[38;5;124;03m    `j_{\\nu,m}`, the `m`-th positive zero of the Bessel function of the\u001b[39;00m\n\u001b[0;32m   (...)\u001b[0m\n\u001b[1;32m   1015\u001b[0m \n\u001b[1;32m   1016\u001b[0m \u001b[38;5;124;03m    \"\"\"\u001b[39;00m\n\u001b[0;32m-> 1017\u001b[0m     \u001b[38;5;28;01mreturn\u001b[39;00m \u001b[38;5;241m+\u001b[39m\u001b[43mbessel_zero\u001b[49m\u001b[43m(\u001b[49m\u001b[43mctx\u001b[49m\u001b[43m,\u001b[49m\u001b[43m \u001b[49m\u001b[38;5;241;43m1\u001b[39;49m\u001b[43m,\u001b[49m\u001b[43m \u001b[49m\u001b[43mderivative\u001b[49m\u001b[43m,\u001b[49m\u001b[43m \u001b[49m\u001b[43mv\u001b[49m\u001b[43m,\u001b[49m\u001b[43m \u001b[49m\u001b[43mm\u001b[49m\u001b[43m)\u001b[49m\n",
      "File \u001b[0;32m~/mambaforge/lib/python3.10/site-packages/mpmath/functions/bessel.py:885\u001b[0m, in \u001b[0;36mbessel_zero\u001b[0;34m(ctx, kind, prime, v, m, isoltol, _interval_cache)\u001b[0m\n\u001b[1;32m    883\u001b[0m r, err \u001b[38;5;241m=\u001b[39m mcmahon(ctx, kind, prime, v, m)\n\u001b[1;32m    884\u001b[0m \u001b[38;5;28;01mif\u001b[39;00m err \u001b[38;5;241m<\u001b[39m isoltol:\n\u001b[0;32m--> 885\u001b[0m     \u001b[38;5;28;01mreturn\u001b[39;00m \u001b[43mfind_in_interval\u001b[49m\u001b[43m(\u001b[49m\u001b[43mctx\u001b[49m\u001b[43m,\u001b[49m\u001b[43m \u001b[49m\u001b[43mf\u001b[49m\u001b[43m,\u001b[49m\u001b[43m \u001b[49m\u001b[43m(\u001b[49m\u001b[43mr\u001b[49m\u001b[38;5;241;43m-\u001b[39;49m\u001b[43misoltol\u001b[49m\u001b[43m,\u001b[49m\u001b[43m \u001b[49m\u001b[43mr\u001b[49m\u001b[38;5;241;43m+\u001b[39;49m\u001b[43misoltol\u001b[49m\u001b[43m)\u001b[49m\u001b[43m)\u001b[49m\n\u001b[1;32m    886\u001b[0m \u001b[38;5;66;03m# An x such that 0 < x < r_{v,1}\u001b[39;00m\n\u001b[1;32m    887\u001b[0m \u001b[38;5;28;01mif\u001b[39;00m kind \u001b[38;5;241m==\u001b[39m \u001b[38;5;241m1\u001b[39m \u001b[38;5;129;01mand\u001b[39;00m \u001b[38;5;129;01mnot\u001b[39;00m prime: low \u001b[38;5;241m=\u001b[39m \u001b[38;5;241m2.4\u001b[39m\n",
      "File \u001b[0;32m~/mambaforge/lib/python3.10/site-packages/mpmath/functions/bessel.py:850\u001b[0m, in \u001b[0;36mfind_in_interval\u001b[0;34m(ctx, f, ab)\u001b[0m\n\u001b[1;32m    849\u001b[0m \u001b[38;5;28;01mdef\u001b[39;00m \u001b[38;5;21mfind_in_interval\u001b[39m(ctx, f, ab):\n\u001b[0;32m--> 850\u001b[0m     \u001b[38;5;28;01mreturn\u001b[39;00m \u001b[43mctx\u001b[49m\u001b[38;5;241;43m.\u001b[39;49m\u001b[43mfindroot\u001b[49m\u001b[43m(\u001b[49m\u001b[43mf\u001b[49m\u001b[43m,\u001b[49m\u001b[43m \u001b[49m\u001b[43mab\u001b[49m\u001b[43m,\u001b[49m\u001b[43m \u001b[49m\u001b[43msolver\u001b[49m\u001b[38;5;241;43m=\u001b[39;49m\u001b[38;5;124;43m'\u001b[39;49m\u001b[38;5;124;43millinois\u001b[39;49m\u001b[38;5;124;43m'\u001b[39;49m\u001b[43m,\u001b[49m\u001b[43m \u001b[49m\u001b[43mverify\u001b[49m\u001b[38;5;241;43m=\u001b[39;49m\u001b[38;5;28;43;01mFalse\u001b[39;49;00m\u001b[43m)\u001b[49m\n",
      "File \u001b[0;32m~/mambaforge/lib/python3.10/site-packages/mpmath/calculus/optimization.py:969\u001b[0m, in \u001b[0;36mfindroot\u001b[0;34m(ctx, f, x0, solver, tol, verbose, verify, **kwargs)\u001b[0m\n\u001b[1;32m    967\u001b[0m     maxsteps \u001b[38;5;241m=\u001b[39m iterations\u001b[38;5;241m.\u001b[39mmaxsteps\n\u001b[1;32m    968\u001b[0m i \u001b[38;5;241m=\u001b[39m \u001b[38;5;241m0\u001b[39m\n\u001b[0;32m--> 969\u001b[0m \u001b[38;5;28;01mfor\u001b[39;00m x, error \u001b[38;5;129;01min\u001b[39;00m iterations:\n\u001b[1;32m    970\u001b[0m     \u001b[38;5;28;01mif\u001b[39;00m verbose:\n\u001b[1;32m    971\u001b[0m         \u001b[38;5;28mprint\u001b[39m(\u001b[38;5;124m'\u001b[39m\u001b[38;5;124mx:    \u001b[39m\u001b[38;5;124m'\u001b[39m, x)\n",
      "File \u001b[0;32m~/mambaforge/lib/python3.10/site-packages/mpmath/calculus/optimization.py:416\u001b[0m, in \u001b[0;36mIllinois.__iter__\u001b[0;34m(self)\u001b[0m\n\u001b[1;32m    414\u001b[0m s \u001b[38;5;241m=\u001b[39m (fb \u001b[38;5;241m-\u001b[39m fa) \u001b[38;5;241m/\u001b[39m l\n\u001b[1;32m    415\u001b[0m z \u001b[38;5;241m=\u001b[39m a \u001b[38;5;241m-\u001b[39m fa\u001b[38;5;241m/\u001b[39ms\n\u001b[0;32m--> 416\u001b[0m fz \u001b[38;5;241m=\u001b[39m \u001b[43mf\u001b[49m\u001b[43m(\u001b[49m\u001b[43mz\u001b[49m\u001b[43m)\u001b[49m\n\u001b[1;32m    417\u001b[0m \u001b[38;5;28;01mif\u001b[39;00m \u001b[38;5;28mabs\u001b[39m(fz) \u001b[38;5;241m<\u001b[39m \u001b[38;5;28mself\u001b[39m\u001b[38;5;241m.\u001b[39mtol:\n\u001b[1;32m    418\u001b[0m     \u001b[38;5;66;03m# TODO: better condition (when f is very flat)\u001b[39;00m\n\u001b[1;32m    419\u001b[0m     \u001b[38;5;28;01mif\u001b[39;00m \u001b[38;5;28mself\u001b[39m\u001b[38;5;241m.\u001b[39mverbose:\n",
      "File \u001b[0;32m~/mambaforge/lib/python3.10/site-packages/mpmath/functions/bessel.py:868\u001b[0m, in \u001b[0;36mbessel_zero.<locals>.<lambda>\u001b[0;34m(x)\u001b[0m\n\u001b[1;32m    866\u001b[0m \u001b[38;5;28;01mif\u001b[39;00m kind \u001b[38;5;241m==\u001b[39m \u001b[38;5;241m1\u001b[39m:\n\u001b[1;32m    867\u001b[0m     \u001b[38;5;28;01mif\u001b[39;00m prime: f \u001b[38;5;241m=\u001b[39m \u001b[38;5;28;01mlambda\u001b[39;00m x: ctx\u001b[38;5;241m.\u001b[39mbesselj(v,x,derivative\u001b[38;5;241m=\u001b[39m\u001b[38;5;241m1\u001b[39m)\n\u001b[0;32m--> 868\u001b[0m     \u001b[38;5;28;01melse\u001b[39;00m:     f \u001b[38;5;241m=\u001b[39m \u001b[38;5;28;01mlambda\u001b[39;00m x: \u001b[43mctx\u001b[49m\u001b[38;5;241;43m.\u001b[39;49m\u001b[43mbesselj\u001b[49m\u001b[43m(\u001b[49m\u001b[43mv\u001b[49m\u001b[43m,\u001b[49m\u001b[43mx\u001b[49m\u001b[43m)\u001b[49m\n\u001b[1;32m    869\u001b[0m \u001b[38;5;28;01mif\u001b[39;00m kind \u001b[38;5;241m==\u001b[39m \u001b[38;5;241m2\u001b[39m:\n\u001b[1;32m    870\u001b[0m     \u001b[38;5;28;01mif\u001b[39;00m prime: f \u001b[38;5;241m=\u001b[39m \u001b[38;5;28;01mlambda\u001b[39;00m x: ctx\u001b[38;5;241m.\u001b[39mbessely(v,x,derivative\u001b[38;5;241m=\u001b[39m\u001b[38;5;241m1\u001b[39m)\n",
      "File \u001b[0;32m~/mambaforge/lib/python3.10/site-packages/mpmath/functions/bessel.py:77\u001b[0m, in \u001b[0;36mbesselj\u001b[0;34m(ctx, n, z, derivative, **kwargs)\u001b[0m\n\u001b[1;32m     75\u001b[0m         \u001b[38;5;28;01mfinally\u001b[39;00m:\n\u001b[1;32m     76\u001b[0m             ctx\u001b[38;5;241m.\u001b[39mprec \u001b[38;5;241m=\u001b[39m orig\n\u001b[0;32m---> 77\u001b[0m     v \u001b[38;5;241m=\u001b[39m \u001b[38;5;241;43m+\u001b[39;49m\u001b[43mv\u001b[49m\n\u001b[1;32m     78\u001b[0m \u001b[38;5;28;01mreturn\u001b[39;00m v\n",
      "File \u001b[0;32m~/mambaforge/lib/python3.10/site-packages/mpmath/ctx_mp_python.py:160\u001b[0m, in \u001b[0;36m_mpf.__pos__\u001b[0;34m(s)\u001b[0m\n\u001b[1;32m    158\u001b[0m \u001b[38;5;28mcls\u001b[39m, new, (prec, rounding) \u001b[38;5;241m=\u001b[39m s\u001b[38;5;241m.\u001b[39m_ctxdata\n\u001b[1;32m    159\u001b[0m v \u001b[38;5;241m=\u001b[39m new(\u001b[38;5;28mcls\u001b[39m)\n\u001b[0;32m--> 160\u001b[0m v\u001b[38;5;241m.\u001b[39m_mpf_ \u001b[38;5;241m=\u001b[39m \u001b[43mmpf_pos\u001b[49m\u001b[43m(\u001b[49m\u001b[43ms\u001b[49m\u001b[38;5;241;43m.\u001b[39;49m\u001b[43m_mpf_\u001b[49m\u001b[43m,\u001b[49m\u001b[43m \u001b[49m\u001b[43mprec\u001b[49m\u001b[43m,\u001b[49m\u001b[43m \u001b[49m\u001b[43mrounding\u001b[49m\u001b[43m)\u001b[49m\n\u001b[1;32m    161\u001b[0m \u001b[38;5;28;01mreturn\u001b[39;00m v\n",
      "File \u001b[0;32m~/mambaforge/lib/python3.10/site-packages/mpmath/libmp/libmpf.py:660\u001b[0m, in \u001b[0;36mmpf_pos\u001b[0;34m(s, prec, rnd)\u001b[0m\n\u001b[1;32m    658\u001b[0m     \u001b[38;5;28;01mif\u001b[39;00m (\u001b[38;5;129;01mnot\u001b[39;00m man) \u001b[38;5;129;01mand\u001b[39;00m exp:\n\u001b[1;32m    659\u001b[0m         \u001b[38;5;28;01mreturn\u001b[39;00m s\n\u001b[0;32m--> 660\u001b[0m     \u001b[38;5;28;01mreturn\u001b[39;00m \u001b[43mnormalize1\u001b[49m\u001b[43m(\u001b[49m\u001b[43msign\u001b[49m\u001b[43m,\u001b[49m\u001b[43m \u001b[49m\u001b[43mman\u001b[49m\u001b[43m,\u001b[49m\u001b[43m \u001b[49m\u001b[43mexp\u001b[49m\u001b[43m,\u001b[49m\u001b[43m \u001b[49m\u001b[43mbc\u001b[49m\u001b[43m,\u001b[49m\u001b[43m \u001b[49m\u001b[43mprec\u001b[49m\u001b[43m,\u001b[49m\u001b[43m \u001b[49m\u001b[43mrnd\u001b[49m\u001b[43m)\u001b[49m\n\u001b[1;32m    661\u001b[0m \u001b[38;5;28;01mreturn\u001b[39;00m s\n",
      "File \u001b[0;32m~/mambaforge/lib/python3.10/site-packages/mpmath/libmp/libmpf.py:230\u001b[0m, in \u001b[0;36m_normalize1\u001b[0;34m(sign, man, exp, bc, prec, rnd)\u001b[0m\n\u001b[1;32m    228\u001b[0m bc \u001b[38;5;241m=\u001b[39m prec\n\u001b[1;32m    229\u001b[0m \u001b[38;5;66;03m# Strip trailing bits\u001b[39;00m\n\u001b[0;32m--> 230\u001b[0m \u001b[38;5;28;01mif\u001b[39;00m \u001b[38;5;129;01mnot\u001b[39;00m man \u001b[38;5;241m&\u001b[39m \u001b[38;5;241m1\u001b[39m:\n\u001b[1;32m    231\u001b[0m     t \u001b[38;5;241m=\u001b[39m trailtable[\u001b[38;5;28mint\u001b[39m(man \u001b[38;5;241m&\u001b[39m \u001b[38;5;241m255\u001b[39m)]\n\u001b[1;32m    232\u001b[0m     \u001b[38;5;28;01mif\u001b[39;00m \u001b[38;5;129;01mnot\u001b[39;00m t:\n",
      "\u001b[0;31mKeyboardInterrupt\u001b[0m: "
     ]
    }
   ],
   "source": [
    "for n in tqdm(range(150)):\n",
    "    threshold = np.random.uniform(min_threshold, max_threshold)\n",
    "    a = lambda t: threshold\n",
    "    ndt = np.random.uniform(min_ndt, max_ndt)\n",
    "    mu = np.array([np.random.uniform(min_mu, max_mu), \n",
    "                   np.random.uniform(min_mu, max_mu)])\n",
    "    \n",
    "    \n",
    "    recovery_df['threshold_true'].append(threshold)\n",
    "    recovery_df['ndt_true'].append(ndt)\n",
    "    recovery_df['mu1_true'].append(mu[0])\n",
    "    recovery_df['mu2_true'].append(mu[1])\n",
    "    \n",
    "    RT = []\n",
    "    Theta = []\n",
    "    \n",
    "    for i in range(250):\n",
    "        rt, theta = simulate_HSDM_2D(a, mu, ndt)\n",
    "        RT.append(rt)\n",
    "        Theta.append(theta)\n",
    "    \n",
    "    min_ans = minimize(HSDM_2D_likelihood,\n",
    "                       args=(RT, Theta, N_series), \n",
    "                       x0=np.array([np.random.uniform(min_threshold, max_threshold),\n",
    "                                    np.random.uniform(min_ndt, max_ndt), \n",
    "                                    np.random.uniform(min_mu, max_mu),\n",
    "                                    np.random.uniform(min_mu, max_mu)]),\n",
    "                       method='Nelder-Mead', \n",
    "                       bounds=[(min_threshold, max_threshold), (min_ndt, max_ndt),\n",
    "                               (min_mu, max_mu), (min_mu, max_mu)])\n",
    "    \n",
    "    recovery_df['threshold_estimate'].append(min_ans.x[0])\n",
    "    recovery_df['ndt_estimate'].append(min_ans.x[1])\n",
    "    recovery_df['mu1_estimate'].append(min_ans.x[2])\n",
    "    recovery_df['mu2_estimate'].append(min_ans.x[3])\n",
    "    \n",
    "recovery_df = pd.DataFrame(recovery_df)"
   ]
  },
  {
   "cell_type": "code",
   "execution_count": null,
   "id": "c1d58357",
   "metadata": {},
   "outputs": [],
   "source": [
    "recovery_df"
   ]
  },
  {
   "cell_type": "code",
   "execution_count": null,
   "id": "c3c34110",
   "metadata": {},
   "outputs": [],
   "source": [
    "recovery_df.corr()"
   ]
  },
  {
   "cell_type": "code",
   "execution_count": null,
   "id": "ab101b90",
   "metadata": {},
   "outputs": [],
   "source": [
    "recovery_df.to_csv('Series_2d_recovery_{}.csv'.format(N_series))"
   ]
  },
  {
   "cell_type": "code",
   "execution_count": null,
   "id": "163a7328",
   "metadata": {},
   "outputs": [],
   "source": []
  }
 ],
 "metadata": {
  "kernelspec": {
   "display_name": "Python 3 (ipykernel)",
   "language": "python",
   "name": "python3"
  },
  "language_info": {
   "codemirror_mode": {
    "name": "ipython",
    "version": 3
   },
   "file_extension": ".py",
   "mimetype": "text/x-python",
   "name": "python",
   "nbconvert_exporter": "python",
   "pygments_lexer": "ipython3",
   "version": "3.10.6"
  }
 },
 "nbformat": 4,
 "nbformat_minor": 5
}
