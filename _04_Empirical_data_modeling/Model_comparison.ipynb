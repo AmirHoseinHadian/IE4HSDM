{
 "cells": [
  {
   "cell_type": "code",
   "execution_count": 1,
   "id": "6f1d1a2f",
   "metadata": {},
   "outputs": [],
   "source": [
    "import numpy as np\n",
    "import pandas as pd"
   ]
  },
  {
   "cell_type": "code",
   "execution_count": 2,
   "id": "f5608b25",
   "metadata": {},
   "outputs": [],
   "source": [
    "data = pd.read_csv('_data/Kvam_2019_orientation_judgments_data.csv')\n",
    "data = data[data['isCued'] == 0].reset_index(drop=True)\n",
    "\n",
    "CDM = pd.read_csv('Kvam_2019_best_estimation.csv', index_col=0)\n",
    "CCDM = pd.read_csv('Kvam_2019_collapsing_best_estimation.csv', index_col=0)"
   ]
  },
  {
   "cell_type": "code",
   "execution_count": 3,
   "id": "da3bf36a",
   "metadata": {},
   "outputs": [
    {
     "data": {
      "text/plain": [
       "isSpeed\n",
       "0    2.668243\n",
       "1    2.523736\n",
       "Name: b0, dtype: float64"
      ]
     },
     "execution_count": 3,
     "metadata": {},
     "output_type": "execute_result"
    }
   ],
   "source": [
    "CCDM.groupby(by='isSpeed')['b0'].mean()"
   ]
  },
  {
   "cell_type": "code",
   "execution_count": 4,
   "id": "89745cec",
   "metadata": {},
   "outputs": [
    {
     "data": {
      "text/plain": [
       "isSpeed\n",
       "0    0.628022\n",
       "1    1.555440\n",
       "Name: lambda, dtype: float64"
      ]
     },
     "execution_count": 4,
     "metadata": {},
     "output_type": "execute_result"
    }
   ],
   "source": [
    "CCDM.groupby(by='isSpeed')['lambda'].mean()"
   ]
  },
  {
   "cell_type": "code",
   "execution_count": 5,
   "id": "52cf9773",
   "metadata": {},
   "outputs": [
    {
     "data": {
      "text/plain": [
       "isSpeed\n",
       "0    2.324515\n",
       "1    1.648194\n",
       "Name: threshold, dtype: float64"
      ]
     },
     "execution_count": 5,
     "metadata": {},
     "output_type": "execute_result"
    }
   ],
   "source": [
    "CDM.groupby(by='isSpeed')['threshold'].mean()"
   ]
  },
  {
   "cell_type": "code",
   "execution_count": 6,
   "id": "bc1d255e",
   "metadata": {},
   "outputs": [
    {
     "name": "stdout",
     "output_type": "stream",
     "text": [
      "100 1 15 -582.4197598326381 -620.3287653480135\n",
      "100 1 30 -482.3816954119981 -478.4631205658825\n",
      "100 1 45 -311.31607972981135 -307.1365301585779\n",
      "101 0 15 -449.59851838524327 -445.37355672508414\n",
      "101 0 45 -69.63588165179347 -66.051311806507\n",
      "101 1 15 -534.1608904935786 -573.0543157557062\n",
      "110 0 45 -34.11081214326297 -29.95904515857994\n",
      "110 1 15 -382.2959256079752 -378.0860163568469\n",
      "110 1 45 -132.45248268502695 -128.37465435776548\n",
      "120 1 15 -475.67586535954615 -524.7746537530472\n",
      "120 1 45 -205.51627299002388 -205.94277591528748\n",
      "130 0 30 -301.6666655432443 -301.004065109772\n",
      "130 0 45 -221.8385117744258 -218.17361510241707\n",
      "130 1 15 -409.3622842624103 -414.7389786718889\n",
      "130 1 45 -287.9451920801948 -286.04844367521395\n",
      "140 0 15 -554.0782771622856 -661.1982744574603\n",
      "140 1 15 -556.5634636113732 -654.8373230186369\n",
      "140 1 30 -426.5485425755836 -438.57794955254093\n",
      "140 1 45 -247.1077039375076 -242.92137440767564\n",
      "150 0 15 -468.0650649489266 -518.6944039939532\n",
      "150 0 30 -321.3507463245368 -317.2605000206265\n",
      "150 1 15 -510.79152397301925 -597.5835117497797\n",
      "150 1 45 -267.7866809919678 -263.4725769205854\n",
      "170 0 15 -463.87374767638016 -484.2062432275373\n",
      "170 0 45 -132.3909669886326 -128.34907978125563\n",
      "170 1 15 -467.4268415544467 -522.1809948153516\n",
      "170 1 30 -301.779662063635 -300.03880913588375\n",
      "170 1 45 -259.5535697271387 -255.33554013981276\n",
      "190 0 45 -45.51854512845938 -41.58954163930876\n",
      "190 1 15 -561.0742048808352 -668.4226208435441\n",
      "190 1 30 -345.1049999347874 -342.86933883270893\n",
      "190 1 45 -282.780724872223 -278.9536774569021\n",
      "200 0 15 -430.45577999245967 -450.1307653572586\n",
      "200 0 45 -136.54175677865115 -138.07758226987605\n",
      "210 0 45 -156.60043134815595 -152.45360388850025\n",
      "210 1 15 -426.51835250785626 -439.6043919449691\n",
      "210 1 45 -227.23494825087514 -222.98274962122298\n"
     ]
    }
   ],
   "source": [
    "CDM_BIC = []\n",
    "CCDM_BIC = []\n",
    "\n",
    "for par in data.Participant.unique():\n",
    "    data_sbj = data[data['Participant'] == par].reset_index(drop=True)\n",
    "    CDM_sbj = CDM[CDM['sbj'] == par].reset_index(drop=True)\n",
    "    CCDM_sbj = CCDM[CCDM['sbj'] == par].reset_index(drop=True)\n",
    "    for sp in range(2):\n",
    "        for jit in [15, 30, 45]:\n",
    "            cond_data = data_sbj[(data_sbj['isSpeed']==sp) & (data_sbj['jitter']==jit)].reset_index(drop=True)\n",
    "            cond_CDM = CDM_sbj[(CDM_sbj['isSpeed']==sp) & (CDM_sbj['jitter']==jit)].reset_index(drop=True)\n",
    "            cond_CCDM = CCDM_sbj[(CCDM_sbj['isSpeed']==sp) & (CCDM_sbj['jitter']==jit)].reset_index(drop=True)\n",
    "            CDM_BIC.append(cond_CDM['G2'][0]+ 4*np.log(cond_data.shape[0]))\n",
    "            CCDM_BIC.append(cond_CCDM['G2'][0]+ 5*np.log(cond_data.shape[0]))\n",
    "#             if CDM_BIC[-1] > CCDM_BIC[-1]:\n",
    "#                 print(par, sp, jit, CDM_BIC[-1], CCDM_BIC[-1])\n",
    "            if cond_CDM['G2'][0] > cond_CCDM['G2'][0]:\n",
    "                print(par, sp, jit, CDM_BIC[-1], CCDM_BIC[-1])"
   ]
  },
  {
   "cell_type": "code",
   "execution_count": 7,
   "id": "286e2de1",
   "metadata": {},
   "outputs": [
    {
     "name": "stdout",
     "output_type": "stream",
     "text": [
      " G2:  -22788.48301792416 -23576.223336897005\n",
      "BIC:  -21525.257414508793 -21997.191332627794\n"
     ]
    }
   ],
   "source": [
    "print(' G2: ', CDM.G2.sum(), CCDM.G2.sum())\n",
    "print('BIC: ', np.sum(CDM_BIC), np.sum(CCDM_BIC))"
   ]
  },
  {
   "cell_type": "code",
   "execution_count": 8,
   "id": "f8cc4ba6",
   "metadata": {},
   "outputs": [
    {
     "name": "stdout",
     "output_type": "stream",
     "text": [
      " G2:  -22788.48301792416 -23576.223336897005\n",
      "BIC:  -21525.257414508793 -21997.191332627794\n"
     ]
    }
   ],
   "source": [
    "print(' G2: ', CDM.G2.sum(), CCDM.G2.sum())\n",
    "print('BIC: ', np.sum(CDM_BIC), np.sum(CCDM_BIC))"
   ]
  },
  {
   "cell_type": "code",
   "execution_count": null,
   "id": "d3b5de70",
   "metadata": {},
   "outputs": [],
   "source": []
  },
  {
   "cell_type": "code",
   "execution_count": null,
   "id": "a23fc8ca",
   "metadata": {},
   "outputs": [],
   "source": []
  }
 ],
 "metadata": {
  "kernelspec": {
   "display_name": "Python 3 (ipykernel)",
   "language": "python",
   "name": "python3"
  },
  "language_info": {
   "codemirror_mode": {
    "name": "ipython",
    "version": 3
   },
   "file_extension": ".py",
   "mimetype": "text/x-python",
   "name": "python",
   "nbconvert_exporter": "python",
   "pygments_lexer": "ipython3",
   "version": "3.10.6"
  }
 },
 "nbformat": 4,
 "nbformat_minor": 5
}
